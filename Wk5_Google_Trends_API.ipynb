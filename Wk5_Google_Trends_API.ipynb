{
  "cells": [
    {
      "cell_type": "markdown",
      "metadata": {
        "id": "view-in-github",
        "colab_type": "text"
      },
      "source": [
        "<a href=\"https://colab.research.google.com/github/DATA3750/WeeklyDemo/blob/main/Wk5_Google_Trends_API.ipynb\" target=\"_parent\"><img src=\"https://colab.research.google.com/assets/colab-badge.svg\" alt=\"Open In Colab\"/></a>"
      ]
    },
    {
      "cell_type": "markdown",
      "metadata": {
        "id": "R4pXe__UmetC"
      },
      "source": [
        "# Google Trends API for Python"
      ]
    },
    {
      "cell_type": "markdown",
      "metadata": {
        "id": "dzFAuTuHmfiU"
      },
      "source": [
        "## In this tutorial, I will demonstrate how to use the [Google Trends](https://trends.google.com/trends/?geo=CA) API for getting the current trending topics on the internet.\n",
        "\n",
        "\n",
        "![alt text](https://cdn-images-1.medium.com/max/1200/1*Fi6masemXJT3Q8YWekQCDQ.png)"
      ]
    },
    {
      "cell_type": "markdown",
      "metadata": {
        "id": "_ptTzrFtmlig"
      },
      "source": [
        "# Introduction\n",
        "\n",
        "[Google trends](https://trends.google.com/trends/?geo=US) is a website that analyzes and lists the popular search results on Google search based on various regions and languages. Google Trends is Google's website (obviously). With the help of this tutorial, you can get the trending results and many more from google trends website using python. You don't need to manually search and copy the trending results, the Python API called `pytrends` does the job for you. Before getting started, I want all of you guys to go through the official documentation of the `pytrends` API."
      ]
    },
    {
      "cell_type": "markdown",
      "metadata": {
        "id": "FZ03EX8JmqNK"
      },
      "source": [
        "[pytrends API](https://pypi.org/project/pytrends/)\n",
        "\n",
        "\n",
        "\n",
        "---"
      ]
    },
    {
      "cell_type": "markdown",
      "metadata": {
        "id": "gM9A4G54mtLD"
      },
      "source": [
        "# Installation\n",
        "\n",
        "The first step is to install the library manually. So, open your favorite IDE or notebook start typing the following code. I will use [Google Colab](https://colab.research.google.com/) because it's my favorite notebook.\n",
        "\n",
        "\n",
        "\n",
        "> If you are using jupyter notebook, just type the code as it is (make sure you have '!' at the beginning)\n"
      ]
    },
    {
      "cell_type": "code",
      "execution_count": null,
      "metadata": {
        "id": "ID0raHgkmvps"
      },
      "outputs": [],
      "source": [
        "!pip install pytrends"
      ]
    },
    {
      "cell_type": "markdown",
      "metadata": {
        "id": "FrLYHTJUmzw4"
      },
      "source": [
        "Or, if you are using an IDE, just type the following code\n",
        "\n"
      ]
    },
    {
      "cell_type": "code",
      "execution_count": null,
      "metadata": {
        "id": "PUOPJhkJm2yW"
      },
      "outputs": [],
      "source": [
        "pip install pytrends"
      ]
    },
    {
      "cell_type": "markdown",
      "metadata": {
        "id": "711Pz41Im6YU"
      },
      "source": [
        "After executing the above code you should get a successful message as shown above\n",
        "\n",
        "\n",
        "\n",
        "---\n",
        "\n"
      ]
    },
    {
      "cell_type": "markdown",
      "metadata": {
        "id": "vXPG2708m9QW"
      },
      "source": [
        "# Implementation\n",
        "\n",
        "## Connecting to Google\n",
        "\n",
        "You must connect to Google first because after all, we are requesting the Google trending topics from Google Trends. For this, we need to import the method called `TrendReq` from `pytrends.request` library. Also, I will import the pandas library to store and visualize the data which you see in the later tutorial."
      ]
    },
    {
      "cell_type": "code",
      "execution_count": null,
      "metadata": {
        "id": "5ujx4eIkm_Mt"
      },
      "outputs": [],
      "source": [
        "import pandas as pd                        \n",
        "from pytrends.request import TrendReq\n",
        "pytrend = TrendReq()"
      ]
    },
    {
      "cell_type": "markdown",
      "metadata": {
        "id": "5_SpSbpAnAd0"
      },
      "source": [
        "\n",
        "\n",
        "---\n",
        "\n"
      ]
    },
    {
      "cell_type": "markdown",
      "metadata": {
        "id": "CrWLhzqhnBBr"
      },
      "source": [
        "## Interest By Region\n",
        "\n",
        "Let us see the terms which are popular in the region worldwide. I will choose, the term to be searched as \"Taylor Swift\" (I like her so….)."
      ]
    },
    {
      "cell_type": "code",
      "execution_count": null,
      "metadata": {
        "id": "b4lmPUmqnEYJ"
      },
      "outputs": [],
      "source": [
        "pytrend.build_payload(kw_list=['Omicron'])\n",
        "# Interest by Region\n",
        "df = pytrend.interest_by_region()\n",
        "df.head(30)"
      ]
    },
    {
      "cell_type": "markdown",
      "metadata": {
        "id": "im_lE1KCnG9z"
      },
      "source": [
        "**Now you might be thinking what are the values, what do they denote?** \n",
        "\n",
        "The values are calculated on a scale from 0 to 100, where 100 is the location with the most popularity as a fraction of total searches in that location, a value of 50 indicates a location which is half as popular. A value of 0 indicates a location where there was not enough data for this term. Source → [Google Trends](https://support.google.com/trends/answer/4355212).."
      ]
    },
    {
      "cell_type": "markdown",
      "metadata": {
        "id": "Y6ORJ6I1nIrl"
      },
      "source": [
        "Let us plot the result on a bar graph because sometimes visual representation gives a clear picture."
      ]
    },
    {
      "cell_type": "code",
      "execution_count": null,
      "metadata": {
        "id": "v8FHZeUenKJf"
      },
      "outputs": [],
      "source": [
        "df.reset_index().plot(x='geoName', y='Omicron', figsize=(120, 10), kind ='bar')"
      ]
    },
    {
      "cell_type": "markdown",
      "metadata": {
        "id": "VSupqQa5nMrm"
      },
      "source": [
        "Also, you use the parameter `resolution = 'COUNTRY_NAME'` to filter the results.\n",
        "\n",
        "\n",
        "\n",
        "---\n",
        "\n"
      ]
    },
    {
      "cell_type": "code",
      "execution_count": null,
      "metadata": {
        "id": "TZZnxH9tDyNC"
      },
      "outputs": [],
      "source": [
        "resolution = 'Canada'"
      ]
    },
    {
      "cell_type": "markdown",
      "metadata": {
        "id": "rjH2DvbEnPcm"
      },
      "source": [
        "## Daily Search Trends\n",
        "\n",
        "Now let us get the top daily search trends worldwide. To do this we have to use the `trending_searches()` method. If you want to search worldwide just don't pass any parameter."
      ]
    },
    {
      "cell_type": "code",
      "execution_count": null,
      "metadata": {
        "id": "8vqkob1NnQqK"
      },
      "outputs": [],
      "source": [
        "# Get Google Hot Trends data\n",
        "df = pytrend.trending_searches(pn='canada')\n",
        "df.head()"
      ]
    },
    {
      "cell_type": "markdown",
      "metadata": {
        "id": "0J4Fjt98nSf4"
      },
      "source": [
        "Make sure you enter the country name in lowercase `pn = \"canada\"` . Also, you can compare the above results with the [google trend's result](https://trends.google.com/trends/trendingsearches/daily?geo=US). To get today's trending topics just use:"
      ]
    },
    {
      "cell_type": "markdown",
      "metadata": {
        "id": "Fkse9VmunYXs"
      },
      "source": [
        "\n",
        "\n",
        "---\n",
        "\n"
      ]
    },
    {
      "cell_type": "markdown",
      "metadata": {
        "id": "rt3XMTXtnXug"
      },
      "source": [
        "## Top Charts\n",
        "\n",
        "Let us see what was trending in 2019. With the help of `top_charts` method we can get the top trending searches yearly."
      ]
    },
    {
      "cell_type": "code",
      "execution_count": null,
      "metadata": {
        "id": "opEutdKdnaLO"
      },
      "outputs": [],
      "source": [
        "# Get Google Top Charts\n",
        "df = pytrend.top_charts(2021, hl='en-US', tz=300, geo='GLOBAL')\n",
        "df.head()"
      ]
    },
    {
      "cell_type": "markdown",
      "metadata": {
        "id": "YOBAPjkCnbvP"
      },
      "source": [
        "To compare the results just visit [Google Trends](https://trends.google.com/trends/yis/2019/GLOBAL/). We can specify the year and the country that we want to see the trending searches.\n",
        "\n",
        "\n",
        "\n",
        "---\n",
        "\n"
      ]
    },
    {
      "cell_type": "markdown",
      "metadata": {
        "id": "v44c23GqndXK"
      },
      "source": [
        "## Google Keyword Suggestions\n",
        "\n",
        "Let us see how can we obtain google's keyword suggestion. If you don't know what I'm talking about. The below image explains things more clear.\n",
        "\n",
        "![google_search_trump.jpg](data:image/jpeg;base64,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)"
      ]
    },
    {
      "cell_type": "code",
      "execution_count": null,
      "metadata": {
        "id": "i90jZxfBnjVW"
      },
      "outputs": [],
      "source": [
        "# Get Google Keyword Suggestions\n",
        "keywords = pytrend.suggestions(keyword='Trump')\n",
        "df = pd.DataFrame(keywords)\n",
        "df.drop(columns= 'mid')   # This column makes no sense"
      ]
    },
    {
      "cell_type": "markdown",
      "metadata": {
        "id": "8hzn4OMgn2Ag"
      },
      "source": [
        "\n",
        "\n",
        "---\n",
        "\n"
      ]
    },
    {
      "cell_type": "markdown",
      "metadata": {
        "id": "sZcJVdWyn1Ph"
      },
      "source": [
        "## Related Queries\n",
        "\n",
        "It's a common thing that when a user searches for a topic, they would also search for something related. These are called related queries. Let us see what are the related queries for the topic \"***Coronavirus***\". Always remember when you want to change the topic name just run the following code again with the new name as the parameter."
      ]
    },
    {
      "cell_type": "code",
      "execution_count": null,
      "metadata": {
        "id": "hLTMY4B9n3v6"
      },
      "outputs": [],
      "source": [
        "pytrend.build_payload(kw_list=['Coronavirus'])"
      ]
    },
    {
      "cell_type": "markdown",
      "metadata": {
        "id": "z9IhWfs_oAqY"
      },
      "source": [
        "Now let's run the method `related_queries` which returns a dictionary full of related queries for the topic ***Coronavirus*** "
      ]
    },
    {
      "cell_type": "code",
      "execution_count": null,
      "metadata": {
        "id": "WR-NgLr_oB8_"
      },
      "outputs": [],
      "source": [
        "# Related Queries, returns a dictionary of dataframes\n",
        "related_queries = pytrend.related_queries()\n",
        "related_queries.values()"
      ]
    },
    {
      "cell_type": "markdown",
      "metadata": {
        "id": "eVFA3LbJoELu"
      },
      "source": [
        "Similarly, you can also search for the related topics just run the below code to do so:"
      ]
    },
    {
      "cell_type": "code",
      "execution_count": null,
      "metadata": {
        "id": "yrH1dBDJoF2F"
      },
      "outputs": [],
      "source": [
        "# Related Topics, returns a dictionary of dataframes\n",
        "related_topic = pytrend.related_topics()\n",
        "related_topic.values()"
      ]
    },
    {
      "cell_type": "markdown",
      "metadata": {
        "id": "VbI2mxGPoINF"
      },
      "source": [
        "\n",
        "\n",
        "---\n",
        "\n"
      ]
    },
    {
      "cell_type": "markdown",
      "metadata": {
        "id": "zKSHI8daDyNP"
      },
      "source": []
    },
    {
      "cell_type": "code",
      "execution_count": null,
      "metadata": {
        "id": "EC2k51qQDyNP"
      },
      "outputs": [],
      "source": [
        "#libraires imports\n",
        "\n",
        "from pytrends.request import TrendReq\n",
        "import datetime\n",
        "import csv\n",
        "from time import sleep"
      ]
    },
    {
      "cell_type": "code",
      "execution_count": null,
      "metadata": {
        "id": "CkFQd16yDyNQ"
      },
      "outputs": [],
      "source": [
        "# pytrend object \n",
        "pytrends = TrendReq('en-GB')"
      ]
    },
    {
      "cell_type": "code",
      "execution_count": null,
      "metadata": {
        "id": "3KE9_TTzDyNR"
      },
      "outputs": [],
      "source": [
        "from pytrends.request import TrendReq\n",
        "\n",
        "# Only need to run this once, the rest of requests will use the same session.\n",
        "pytrend = TrendReq()\n",
        "\n",
        "# Create payload and capture API tokens. Only needed for interest_over_time(), interest_by_region() & related_queries()\n",
        "pytrend.build_payload(kw_list=['pizza', 'bagel'])\n",
        "\n"
      ]
    },
    {
      "cell_type": "code",
      "execution_count": null,
      "metadata": {
        "id": "LZeuS-UIDyNS"
      },
      "outputs": [],
      "source": []
    }
  ],
  "metadata": {
    "colab": {
      "provenance": [],
      "include_colab_link": true
    },
    "kernelspec": {
      "display_name": "Python 3 (ipykernel)",
      "language": "python",
      "name": "python3"
    },
    "language_info": {
      "codemirror_mode": {
        "name": "ipython",
        "version": 3
      },
      "file_extension": ".py",
      "mimetype": "text/x-python",
      "name": "python",
      "nbconvert_exporter": "python",
      "pygments_lexer": "ipython3",
      "version": "3.8.11"
    }
  },
  "nbformat": 4,
  "nbformat_minor": 0
}