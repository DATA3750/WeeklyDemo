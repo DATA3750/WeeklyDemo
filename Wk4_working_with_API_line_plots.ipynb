{
  "cells": [
    {
      "cell_type": "markdown",
      "metadata": {
        "id": "view-in-github",
        "colab_type": "text"
      },
      "source": [
        "<a href=\"https://colab.research.google.com/github/DATA3750/WeeklyDemo/blob/main/Wk4_working_with_API_line_plots.ipynb\" target=\"_parent\"><img src=\"https://colab.research.google.com/assets/colab-badge.svg\" alt=\"Open In Colab\"/></a>"
      ]
    },
    {
      "cell_type": "markdown",
      "id": "f8e025b7-2e47-452f-865c-a737b4983ef4",
      "metadata": {
        "id": "f8e025b7-2e47-452f-865c-a737b4983ef4"
      },
      "source": [
        "# Working with API"
      ]
    },
    {
      "cell_type": "markdown",
      "id": "6b64aecc-b938-41ce-950d-91a8f51733ae",
      "metadata": {
        "id": "6b64aecc-b938-41ce-950d-91a8f51733ae"
      },
      "source": [
        "Using APIs to access web data is a common skill in the data science and analysis world. Working in this increasingly popular and high-earning field requires querying and retrieving data — and often integrating it into your own apps.\n",
        "\n",
        "An API (application programming interface) is a collection of tools that allows different applications to interact. Some of the biggest names on the web (like Reddit, Spotify, Twitter, and Facebook) offer free APIs to make the valuable data on their servers available. \n",
        "\n",
        "Other companies and services charge for these APIs. Learning to work with APIs will prepare you to work in data retrieval and analysis to generate insights and help make valuable predictions.\n"
      ]
    },
    {
      "cell_type": "markdown",
      "id": "56262e62-276e-4b64-9198-6a006ff11654",
      "metadata": {
        "id": "56262e62-276e-4b64-9198-6a006ff11654"
      },
      "source": [
        "## API Requests"
      ]
    },
    {
      "cell_type": "markdown",
      "id": "bef4545d-e259-4d91-830d-1aa2984948ed",
      "metadata": {
        "id": "bef4545d-e259-4d91-830d-1aa2984948ed"
      },
      "source": [
        "Organizations host their APIs on web servers. When you type www.google.com in your browser's address bar, your computer is actually asking the www.google.com server for a web page; the server returns the page to your browser.\n",
        "\n",
        "APIs work much the same way, except instead of your web browser asking for a web page, your program asks for data. The API usually returns this data in JavaScript Object Notation (JSON) format. We'll discuss JSON more later on in this lesson.\n",
        "\n",
        "We make an API request to the web server with the data we want. The server then replies and sends it to us. In Python, we do this using the [requests library](https://requests.readthedocs.io/en/latest/)."
      ]
    },
    {
      "cell_type": "markdown",
      "id": "f4dac638-6472-40e1-81c0-af5601b9809b",
      "metadata": {
        "id": "f4dac638-6472-40e1-81c0-af5601b9809b"
      },
      "source": [
        "## Types of Requests"
      ]
    },
    {
      "cell_type": "markdown",
      "id": "2254bddd-fc2a-4008-8fbb-30ee7e666a67",
      "metadata": {
        "id": "2254bddd-fc2a-4008-8fbb-30ee7e666a67"
      },
      "source": [
        "There are many different types of requests. The most common is a GET request, which we use to retrieve data.\n",
        "\n",
        "We can use a simple *GET* request to retrieve information from the [OpenNotify](http://open-notify.org/) API.\n",
        "\n",
        "OpenNotify has several API **endpoints**. An endpoint is a server route for retrieving specific data from an API. For example, the /comments endpoint on the reddit API might retrieve information about comments, while the /users endpoint might retrieve data about users.\n",
        "\n",
        "The first endpoint we'll look at on OpenNotify is the iss-now.json endpoint. This endpoint gets the current latitude and longitude position of the ISS (International Space Station). A dataset wouldn't be a good tool for this task because the information changes often, and it involves some calculation on the server.\n",
        "\n",
        "Check out the [complete list of OpenNotify](http://open-notify.org/Open-Notify-API/) endpoints."
      ]
    },
    {
      "cell_type": "code",
      "execution_count": null,
      "id": "2aa120c6-f02a-4935-a99b-e8e9c937b6d3",
      "metadata": {
        "id": "2aa120c6-f02a-4935-a99b-e8e9c937b6d3"
      },
      "outputs": [],
      "source": [
        "import requests\n",
        "# Make a get request to get the latest position of the ISS from the OpenNotify API.\n",
        "response = requests.get(\"http://api.open-notify.org/iss-now.json\")"
      ]
    },
    {
      "cell_type": "markdown",
      "id": "62e68c67-9316-4a54-a5f7-dee884599148",
      "metadata": {
        "id": "62e68c67-9316-4a54-a5f7-dee884599148"
      },
      "source": [
        "The server will send a status code indicating the success or failure of your request. You can get the status code of the response from response.status_code."
      ]
    },
    {
      "cell_type": "code",
      "execution_count": null,
      "id": "a4c93e11-a6d8-4d2a-ad1f-8f3248856e68",
      "metadata": {
        "id": "a4c93e11-a6d8-4d2a-ad1f-8f3248856e68",
        "outputId": "21c260a6-afbf-4110-9972-332b725a5070"
      },
      "outputs": [
        {
          "data": {
            "text/plain": [
              "200"
            ]
          },
          "execution_count": 2,
          "metadata": {},
          "output_type": "execute_result"
        }
      ],
      "source": [
        "status_code = response.status_code\n",
        "status_code"
      ]
    },
    {
      "cell_type": "markdown",
      "id": "77bc8024-ac2c-4f27-a88c-fd164793f816",
      "metadata": {
        "id": "77bc8024-ac2c-4f27-a88c-fd164793f816"
      },
      "source": [
        "The request we just made returned a status code of 200. Web servers return status codes every time they receive an API request. A status code reports what happened with a request. Here are some codes that are relevant to GET requests:\n",
        "\n",
        "    200 — Everything went okay, and the server returned a result (if any).\n",
        "\n",
        "    301 — The server is redirecting you to a different endpoint. This can happen when a company switches domain names, or when an endpoint's name has changed.\n",
        "\n",
        "    401 — The server thinks you're not authenticated. This happens when you don't send the right credentials to access an API.\n",
        "\n",
        "    400 — The server thinks you made a bad request. This can happen when you don't send the information that the API requires to process your request (among other things).\n",
        "\n",
        "    403 — The resource you're trying to access is forbidden, and you don't have the right permissions to see it.\n",
        "\n",
        "    404 — The server didn't find the resource you tried to access."
      ]
    },
    {
      "cell_type": "code",
      "execution_count": null,
      "id": "6a69d4b0-63d9-48d1-9260-361ae9db6ed2",
      "metadata": {
        "id": "6a69d4b0-63d9-48d1-9260-361ae9db6ed2",
        "outputId": "219e27cd-4c2f-49d6-ee44-cfe531d9f813"
      },
      "outputs": [
        {
          "data": {
            "text/plain": [
              "404"
            ]
          },
          "execution_count": 3,
          "metadata": {},
          "output_type": "execute_result"
        }
      ],
      "source": [
        "# Make a GET request to http://api.open-notify.org/iss-pass.jason\n",
        "response = requests.get(\"http://api.open-notify.org/iss-pass.json\")\n",
        "\n",
        "# Assign the status code of the response to status_code.\n",
        "status_code = response.status_code\n",
        "status_code"
      ]
    },
    {
      "cell_type": "markdown",
      "id": "97da32d4-849d-42c3-adaa-1f172fbaf196",
      "metadata": {
        "id": "97da32d4-849d-42c3-adaa-1f172fbaf196"
      },
      "source": [
        "iss-pass wasn't a valid endpoint, so the API's server sent us a 404 status code in response. "
      ]
    },
    {
      "cell_type": "code",
      "execution_count": null,
      "id": "f6f3f0ec-a191-4709-ab0c-fb6e6b522cfb",
      "metadata": {
        "id": "f6f3f0ec-a191-4709-ab0c-fb6e6b522cfb",
        "outputId": "cef7f3f3-ccd9-4065-9302-12c571988f04"
      },
      "outputs": [
        {
          "data": {
            "text/plain": [
              "200"
            ]
          },
          "execution_count": 4,
          "metadata": {},
          "output_type": "execute_result"
        }
      ],
      "source": [
        "response = requests.get(\"http://api.open-notify.org/astros.json\")\n",
        "status_code = response.status_code\n",
        "status_code"
      ]
    },
    {
      "cell_type": "markdown",
      "id": "b992aef2-f01f-43d8-9294-c46b78722b3e",
      "metadata": {
        "id": "b992aef2-f01f-43d8-9294-c46b78722b3e"
      },
      "source": [
        "Another Example"
      ]
    },
    {
      "cell_type": "code",
      "execution_count": null,
      "id": "b0076069-63fe-4daa-8192-7066187b820d",
      "metadata": {
        "id": "b0076069-63fe-4daa-8192-7066187b820d"
      },
      "outputs": [],
      "source": [
        "import requests\n",
        "import pandas as pd\n",
        "\n",
        "# Make a GET request to the URL\n",
        "response = requests.get(\"https://opensky-network.org/api/states/all\")\n",
        "\n",
        "# Check the status code to see if the request was successful\n",
        "if response.status_code == 200:\n",
        "    # Get the JSON data from the response\n",
        "    data = response.json()\n",
        "    # Extract the states from the data\n",
        "    states = data['states']\n",
        "    # Check if the 'columns' key exists\n",
        "    if 'columns' in data:\n",
        "        # Extract the columns from the data\n",
        "        columns = data['columns']\n",
        "    else:\n",
        "        # If the 'columns' key doesn't exist, create a default list of column names\n",
        "        columns = ['column{}'.format(i) for i in range(len(states[0]))]\n",
        "    # Create a DataFrame from the states\n",
        "    df = pd.DataFrame(states, columns=columns)\n",
        " \n"
      ]
    },
    {
      "cell_type": "code",
      "execution_count": null,
      "id": "6586ae80-0733-4f15-af3d-164ad024016d",
      "metadata": {
        "id": "6586ae80-0733-4f15-af3d-164ad024016d",
        "outputId": "7eb05014-3d5c-4181-edbd-032c7fd276ae"
      },
      "outputs": [
        {
          "data": {
            "text/html": [
              "<div>\n",
              "<style scoped>\n",
              "    .dataframe tbody tr th:only-of-type {\n",
              "        vertical-align: middle;\n",
              "    }\n",
              "\n",
              "    .dataframe tbody tr th {\n",
              "        vertical-align: top;\n",
              "    }\n",
              "\n",
              "    .dataframe thead th {\n",
              "        text-align: right;\n",
              "    }\n",
              "</style>\n",
              "<table border=\"1\" class=\"dataframe\">\n",
              "  <thead>\n",
              "    <tr style=\"text-align: right;\">\n",
              "      <th></th>\n",
              "      <th>column0</th>\n",
              "      <th>column1</th>\n",
              "      <th>column2</th>\n",
              "      <th>column3</th>\n",
              "      <th>column4</th>\n",
              "      <th>column5</th>\n",
              "      <th>column6</th>\n",
              "      <th>column7</th>\n",
              "      <th>column8</th>\n",
              "      <th>column9</th>\n",
              "      <th>column10</th>\n",
              "      <th>column11</th>\n",
              "      <th>column12</th>\n",
              "      <th>column13</th>\n",
              "      <th>column14</th>\n",
              "      <th>column15</th>\n",
              "      <th>column16</th>\n",
              "    </tr>\n",
              "  </thead>\n",
              "  <tbody>\n",
              "    <tr>\n",
              "      <th>0</th>\n",
              "      <td>a40bd8</td>\n",
              "      <td>N36VK</td>\n",
              "      <td>United States</td>\n",
              "      <td>1.675466e+09</td>\n",
              "      <td>1675465992</td>\n",
              "      <td>-95.0113</td>\n",
              "      <td>38.4562</td>\n",
              "      <td>2301.24</td>\n",
              "      <td>False</td>\n",
              "      <td>75.36</td>\n",
              "      <td>212.17</td>\n",
              "      <td>-0.33</td>\n",
              "      <td>None</td>\n",
              "      <td>2362.20</td>\n",
              "      <td>None</td>\n",
              "      <td>False</td>\n",
              "      <td>0</td>\n",
              "    </tr>\n",
              "    <tr>\n",
              "      <th>1</th>\n",
              "      <td>ab1644</td>\n",
              "      <td>UAL2467</td>\n",
              "      <td>United States</td>\n",
              "      <td>1.675466e+09</td>\n",
              "      <td>1675466151</td>\n",
              "      <td>-81.1178</td>\n",
              "      <td>39.0509</td>\n",
              "      <td>8519.16</td>\n",
              "      <td>False</td>\n",
              "      <td>181.50</td>\n",
              "      <td>302.97</td>\n",
              "      <td>0.00</td>\n",
              "      <td>None</td>\n",
              "      <td>8321.04</td>\n",
              "      <td>None</td>\n",
              "      <td>False</td>\n",
              "      <td>0</td>\n",
              "    </tr>\n",
              "    <tr>\n",
              "      <th>2</th>\n",
              "      <td>a4be54</td>\n",
              "      <td>N4043X</td>\n",
              "      <td>United States</td>\n",
              "      <td>1.675466e+09</td>\n",
              "      <td>1675466136</td>\n",
              "      <td>-111.7286</td>\n",
              "      <td>33.9854</td>\n",
              "      <td>1310.64</td>\n",
              "      <td>False</td>\n",
              "      <td>62.97</td>\n",
              "      <td>4.69</td>\n",
              "      <td>-0.65</td>\n",
              "      <td>None</td>\n",
              "      <td>1386.84</td>\n",
              "      <td>None</td>\n",
              "      <td>False</td>\n",
              "      <td>0</td>\n",
              "    </tr>\n",
              "    <tr>\n",
              "      <th>3</th>\n",
              "      <td>a7b08d</td>\n",
              "      <td>LXJ595</td>\n",
              "      <td>United States</td>\n",
              "      <td>1.675466e+09</td>\n",
              "      <td>1675466151</td>\n",
              "      <td>-88.4250</td>\n",
              "      <td>29.5016</td>\n",
              "      <td>13106.40</td>\n",
              "      <td>False</td>\n",
              "      <td>180.16</td>\n",
              "      <td>297.37</td>\n",
              "      <td>-0.33</td>\n",
              "      <td>None</td>\n",
              "      <td>13510.26</td>\n",
              "      <td>None</td>\n",
              "      <td>False</td>\n",
              "      <td>0</td>\n",
              "    </tr>\n",
              "    <tr>\n",
              "      <th>4</th>\n",
              "      <td>aa56da</td>\n",
              "      <td>UAL2072</td>\n",
              "      <td>United States</td>\n",
              "      <td>1.675466e+09</td>\n",
              "      <td>1675466151</td>\n",
              "      <td>-118.3426</td>\n",
              "      <td>47.4782</td>\n",
              "      <td>10668.00</td>\n",
              "      <td>False</td>\n",
              "      <td>258.77</td>\n",
              "      <td>89.54</td>\n",
              "      <td>0.00</td>\n",
              "      <td>None</td>\n",
              "      <td>10485.12</td>\n",
              "      <td>3770</td>\n",
              "      <td>False</td>\n",
              "      <td>0</td>\n",
              "    </tr>\n",
              "  </tbody>\n",
              "</table>\n",
              "</div>"
            ],
            "text/plain": [
              "  column0   column1        column2       column3     column4   column5  \\\n",
              "0  a40bd8  N36VK     United States  1.675466e+09  1675465992  -95.0113   \n",
              "1  ab1644  UAL2467   United States  1.675466e+09  1675466151  -81.1178   \n",
              "2  a4be54  N4043X    United States  1.675466e+09  1675466136 -111.7286   \n",
              "3  a7b08d  LXJ595    United States  1.675466e+09  1675466151  -88.4250   \n",
              "4  aa56da  UAL2072   United States  1.675466e+09  1675466151 -118.3426   \n",
              "\n",
              "   column6   column7  column8  column9  column10  column11 column12  column13  \\\n",
              "0  38.4562   2301.24    False    75.36    212.17     -0.33     None   2362.20   \n",
              "1  39.0509   8519.16    False   181.50    302.97      0.00     None   8321.04   \n",
              "2  33.9854   1310.64    False    62.97      4.69     -0.65     None   1386.84   \n",
              "3  29.5016  13106.40    False   180.16    297.37     -0.33     None  13510.26   \n",
              "4  47.4782  10668.00    False   258.77     89.54      0.00     None  10485.12   \n",
              "\n",
              "  column14  column15  column16  \n",
              "0     None     False         0  \n",
              "1     None     False         0  \n",
              "2     None     False         0  \n",
              "3     None     False         0  \n",
              "4     3770     False         0  "
            ]
          },
          "execution_count": 2,
          "metadata": {},
          "output_type": "execute_result"
        }
      ],
      "source": [
        "df.head()"
      ]
    },
    {
      "cell_type": "markdown",
      "id": "64c46f67-8cf3-448c-a268-63528bc5ff89",
      "metadata": {
        "id": "64c46f67-8cf3-448c-a268-63528bc5ff89"
      },
      "source": [
        "## JSON Format"
      ]
    },
    {
      "cell_type": "markdown",
      "id": "76baac5f-972c-42e1-b61c-d68d471783b9",
      "metadata": {
        "id": "76baac5f-972c-42e1-b61c-d68d471783b9"
      },
      "source": [
        "Strings are how we pass information back and forth through APIs, but it's not easy to get the information we want out of them. How do we know how to decode the string we receive and work with it in Python?\n",
        "\n",
        "Luckily, there's a format called JSON. This format encodes data structures like lists and dictionaries as strings to ensure that machines can read them easily. JSON is the main format for sending and receiving data through APIs.\n",
        "\n",
        "Python offers great support for JSON through its json library. We can convert lists and dictionaries to JSON, and vice versa. \n",
        "\n",
        "The JSON library has two main methods:\n",
        "\n",
        "    dumps — takes in a Python object and converts it to a string\n",
        "    \n",
        "    loads — takes in a JSON string and converts it to a Python object"
      ]
    },
    {
      "cell_type": "code",
      "execution_count": null,
      "id": "62df56db-1e3a-40eb-880e-42539a68b747",
      "metadata": {
        "id": "62df56db-1e3a-40eb-880e-42539a68b747",
        "outputId": "4292820d-df75-4113-993d-9f8f64a55c19"
      },
      "outputs": [
        {
          "name": "stdout",
          "output_type": "stream",
          "text": [
            "<class 'list'>\n",
            "<class 'str'>\n",
            "<class 'list'>\n",
            "<class 'str'>\n"
          ]
        }
      ],
      "source": [
        "# Make a list of fast food chains.\n",
        "best_food_chains = [\"Taco Bell\", \"Shake Shack\", \"Chipotle\"]\n",
        "print(type(best_food_chains))\n",
        "\n",
        "# Import the JSON library.\n",
        "import json\n",
        "\n",
        "# Use json.dumps to convert best_food_chains to a string.\n",
        "best_food_chains_string = json.dumps(best_food_chains)\n",
        "print(type(best_food_chains_string))\n",
        "\n",
        "# Convert best_food_chains_string back to a list.\n",
        "print(type(json.loads(best_food_chains_string)))\n",
        "\n",
        "# Make a dictionary\n",
        "fast_food_franchise = {\n",
        "    \"Subway\": 24722,\n",
        "    \"McDonalds\": 14098,\n",
        "    \"Starbucks\": 10821,\n",
        "    \"Pizza Hut\": 7600\n",
        "}\n",
        "\n",
        "# We can also dump a dictionary to a string and load it.\n",
        "fast_food_franchise_string = json.dumps(fast_food_franchise)\n",
        "print(type(fast_food_franchise_string))\n",
        "fast_food_franchise_2 = json.loads(fast_food_franchise_string)"
      ]
    },
    {
      "cell_type": "markdown",
      "id": "edc49456-f535-4655-8a43-76ac8ce641eb",
      "metadata": {
        "id": "edc49456-f535-4655-8a43-76ac8ce641eb"
      },
      "source": [
        "##  Content Type"
      ]
    },
    {
      "cell_type": "markdown",
      "id": "ded929be-96de-4e04-8b4c-7d8d6f164e3e",
      "metadata": {
        "id": "ded929be-96de-4e04-8b4c-7d8d6f164e3e"
      },
      "source": [
        "The server sends more than a status code and the data when it generates a response. It also sends metadata with information on how it generated the data and how to decode it. This information appears in the response headers. We can access it using the .headers property.\n",
        "\n",
        "The headers will appear as a dictionary. For now, the content-type within the headers is the most important key. It tells us the format of the response, and how to decode it. For the OpenNotify API, the format is JSON, so we were able to decode it with JSON earlier."
      ]
    },
    {
      "cell_type": "code",
      "execution_count": null,
      "id": "8b85ca8b-f86f-4b04-8e5e-d1f5d13ed957",
      "metadata": {
        "id": "8b85ca8b-f86f-4b04-8e5e-d1f5d13ed957",
        "outputId": "a4f5aa9b-9347-4836-d86d-672c40518461"
      },
      "outputs": [
        {
          "name": "stdout",
          "output_type": "stream",
          "text": [
            "{'Server': 'nginx/1.10.3', 'Date': 'Wed, 01 Feb 2023 16:18:58 GMT', 'Content-Type': 'application/json', 'Content-Length': '492', 'Connection': 'keep-alive', 'access-control-allow-origin': '*'}\n"
          ]
        }
      ],
      "source": [
        "# Headers is a dictionary\n",
        "print(response.headers)\n",
        "content_type = response.headers[\"content-type\"]"
      ]
    },
    {
      "cell_type": "markdown",
      "id": "8de201e7-fce5-4cc8-abaa-0914ee485db2",
      "metadata": {
        "id": "8de201e7-fce5-4cc8-abaa-0914ee485db2"
      },
      "source": [
        "OpenNotify has one more API endpoint, astros.json. It tells us how many people are currently in space. "
      ]
    },
    {
      "cell_type": "code",
      "execution_count": null,
      "id": "b576443d-1033-4788-a88c-34f30937827f",
      "metadata": {
        "id": "b576443d-1033-4788-a88c-34f30937827f",
        "outputId": "829aa2f4-831b-401d-9ca6-aa0d6523f5c0"
      },
      "outputs": [
        {
          "data": {
            "text/plain": [
              "10"
            ]
          },
          "execution_count": 7,
          "metadata": {},
          "output_type": "execute_result"
        }
      ],
      "source": [
        "# Call the API here.\n",
        "response = requests.get(\"http://api.open-notify.org/astros.json\")\n",
        "json_data = response.json()\n",
        "\n",
        "in_space_count = json_data[\"number\"]\n",
        "in_space_count"
      ]
    },
    {
      "cell_type": "code",
      "execution_count": null,
      "id": "0bb71ee0-2f7a-4f00-80e5-d94eaa799bf5",
      "metadata": {
        "id": "0bb71ee0-2f7a-4f00-80e5-d94eaa799bf5",
        "outputId": "a20eac4c-0046-4205-9365-35baeec8ab09"
      },
      "outputs": [
        {
          "data": {
            "text/plain": [
              "{'message': 'success',\n",
              " 'people': [{'name': 'Sergey Prokopyev', 'craft': 'ISS'},\n",
              "  {'name': 'Dmitry Petelin', 'craft': 'ISS'},\n",
              "  {'name': 'Frank Rubio', 'craft': 'ISS'},\n",
              "  {'name': 'Nicole Mann', 'craft': 'ISS'},\n",
              "  {'name': 'Josh Cassada', 'craft': 'ISS'},\n",
              "  {'name': 'Koichi Wakata', 'craft': 'ISS'},\n",
              "  {'name': 'Anna Kikina', 'craft': 'ISS'},\n",
              "  {'name': 'Fei Junlong', 'craft': 'Shenzhou 15'},\n",
              "  {'name': 'Deng Qingming', 'craft': 'Shenzhou 15'},\n",
              "  {'name': 'Zhang Lu', 'craft': 'Shenzhou 15'}],\n",
              " 'number': 10}"
            ]
          },
          "execution_count": 8,
          "metadata": {},
          "output_type": "execute_result"
        }
      ],
      "source": [
        "json_data"
      ]
    },
    {
      "cell_type": "markdown",
      "id": "3cf551c3-ced0-4a33-9140-638602e20512",
      "metadata": {
        "id": "3cf551c3-ced0-4a33-9140-638602e20512"
      },
      "source": [
        "## Yahoo Finance API"
      ]
    },
    {
      "cell_type": "markdown",
      "id": "aeb7a011-c130-4115-be03-1011764fdc63",
      "metadata": {
        "id": "aeb7a011-c130-4115-be03-1011764fdc63"
      },
      "source": [
        "Yahoo finance has large datasets of the historical financial dataset. It not only contains stock prices but also other calculated metrics like beta that measure the volatility of a stock compared to the volatility of the entire stock market. That’s why it is a great python module."
      ]
    },
    {
      "cell_type": "code",
      "execution_count": null,
      "id": "bfdbae54-5d15-4980-acb7-d2a3c0ab32f0",
      "metadata": {
        "id": "bfdbae54-5d15-4980-acb7-d2a3c0ab32f0",
        "outputId": "54e31be3-fd8e-4b78-f918-3a89936446b0"
      },
      "outputs": [
        {
          "name": "stdout",
          "output_type": "stream",
          "text": [
            "Requirement already satisfied: yfinance in c:\\users\\dongy\\anaconda3\\lib\\site-packages (0.2.9)\n",
            "Requirement already satisfied: lxml>=4.9.1 in c:\\users\\dongy\\anaconda3\\lib\\site-packages (from yfinance) (4.9.2)\n",
            "Requirement already satisfied: frozendict>=2.3.4 in c:\\users\\dongy\\anaconda3\\lib\\site-packages (from yfinance) (2.3.4)\n",
            "Requirement already satisfied: cryptography>=3.3.2 in c:\\users\\dongy\\anaconda3\\lib\\site-packages (from yfinance) (3.4.7)\n",
            "Requirement already satisfied: pytz>=2022.5 in c:\\users\\dongy\\anaconda3\\lib\\site-packages (from yfinance) (2022.7.1)\n",
            "Requirement already satisfied: appdirs>=1.4.4 in c:\\users\\dongy\\anaconda3\\lib\\site-packages (from yfinance) (1.4.4)\n",
            "Requirement already satisfied: multitasking>=0.0.7 in c:\\users\\dongy\\anaconda3\\lib\\site-packages (from yfinance) (0.0.11)\n",
            "Requirement already satisfied: requests>=2.26 in c:\\users\\dongy\\anaconda3\\lib\\site-packages (from yfinance) (2.26.0)\n",
            "Requirement already satisfied: html5lib>=1.1 in c:\\users\\dongy\\anaconda3\\lib\\site-packages (from yfinance) (1.1)\n",
            "Requirement already satisfied: beautifulsoup4>=4.11.1 in c:\\users\\dongy\\anaconda3\\lib\\site-packages (from yfinance) (4.11.2)\n",
            "Requirement already satisfied: pandas>=1.3.0 in c:\\users\\dongy\\anaconda3\\lib\\site-packages (from yfinance) (1.5.3)\n",
            "Requirement already satisfied: numpy>=1.16.5 in c:\\users\\dongy\\anaconda3\\lib\\site-packages (from yfinance) (1.23.5)\n",
            "Requirement already satisfied: soupsieve>1.2 in c:\\users\\dongy\\anaconda3\\lib\\site-packages (from beautifulsoup4>=4.11.1->yfinance) (2.2.1)\n",
            "Requirement already satisfied: cffi>=1.12 in c:\\users\\dongy\\anaconda3\\lib\\site-packages (from cryptography>=3.3.2->yfinance) (1.14.6)\n",
            "Requirement already satisfied: pycparser in c:\\users\\dongy\\anaconda3\\lib\\site-packages (from cffi>=1.12->cryptography>=3.3.2->yfinance) (2.20)\n",
            "Requirement already satisfied: webencodings in c:\\users\\dongy\\anaconda3\\lib\\site-packages (from html5lib>=1.1->yfinance) (0.5.1)\n",
            "Requirement already satisfied: six>=1.9 in c:\\users\\dongy\\anaconda3\\lib\\site-packages (from html5lib>=1.1->yfinance) (1.16.0)\n",
            "Requirement already satisfied: python-dateutil>=2.8.1 in c:\\users\\dongy\\anaconda3\\lib\\site-packages (from pandas>=1.3.0->yfinance) (2.8.2)\n",
            "Requirement already satisfied: charset-normalizer~=2.0.0 in c:\\users\\dongy\\anaconda3\\lib\\site-packages (from requests>=2.26->yfinance) (2.0.4)\n",
            "Requirement already satisfied: urllib3<1.27,>=1.21.1 in c:\\users\\dongy\\anaconda3\\lib\\site-packages (from requests>=2.26->yfinance) (1.26.6)\n",
            "Requirement already satisfied: idna<4,>=2.5 in c:\\users\\dongy\\anaconda3\\lib\\site-packages (from requests>=2.26->yfinance) (3.2)\n",
            "Requirement already satisfied: certifi>=2017.4.17 in c:\\users\\dongy\\anaconda3\\lib\\site-packages (from requests>=2.26->yfinance) (2022.12.7)\n"
          ]
        }
      ],
      "source": [
        "!pip3 install yfinance"
      ]
    },
    {
      "cell_type": "code",
      "execution_count": null,
      "id": "588222fe-c1b0-459d-9951-a0ebb7ac1263",
      "metadata": {
        "id": "588222fe-c1b0-459d-9951-a0ebb7ac1263",
        "outputId": "4cc1d098-dc83-4a4b-f857-a170319df677"
      },
      "outputs": [
        {
          "name": "stdout",
          "output_type": "stream",
          "text": [
            "Requirement already satisfied: yahoofinancials in c:\\users\\dongy\\anaconda3\\lib\\site-packages (1.12)\n",
            "Requirement already satisfied: cryptography>=3.3.2 in c:\\users\\dongy\\anaconda3\\lib\\site-packages (from yahoofinancials) (3.4.7)\n",
            "Requirement already satisfied: pytz in c:\\users\\dongy\\anaconda3\\lib\\site-packages (from yahoofinancials) (2022.7.1)\n",
            "Requirement already satisfied: requests>=2.26 in c:\\users\\dongy\\anaconda3\\lib\\site-packages (from yahoofinancials) (2.26.0)\n",
            "Requirement already satisfied: beautifulsoup4>=4.11.1 in c:\\users\\dongy\\anaconda3\\lib\\site-packages (from yahoofinancials) (4.11.2)\n",
            "Requirement already satisfied: soupsieve>1.2 in c:\\users\\dongy\\anaconda3\\lib\\site-packages (from beautifulsoup4>=4.11.1->yahoofinancials) (2.2.1)\n",
            "Requirement already satisfied: cffi>=1.12 in c:\\users\\dongy\\anaconda3\\lib\\site-packages (from cryptography>=3.3.2->yahoofinancials) (1.14.6)\n",
            "Requirement already satisfied: pycparser in c:\\users\\dongy\\anaconda3\\lib\\site-packages (from cffi>=1.12->cryptography>=3.3.2->yahoofinancials) (2.20)\n",
            "Requirement already satisfied: charset-normalizer~=2.0.0 in c:\\users\\dongy\\anaconda3\\lib\\site-packages (from requests>=2.26->yahoofinancials) (2.0.4)\n",
            "Requirement already satisfied: idna<4,>=2.5 in c:\\users\\dongy\\anaconda3\\lib\\site-packages (from requests>=2.26->yahoofinancials) (3.2)\n",
            "Requirement already satisfied: urllib3<1.27,>=1.21.1 in c:\\users\\dongy\\anaconda3\\lib\\site-packages (from requests>=2.26->yahoofinancials) (1.26.6)\n",
            "Requirement already satisfied: certifi>=2017.4.17 in c:\\users\\dongy\\anaconda3\\lib\\site-packages (from requests>=2.26->yahoofinancials) (2022.12.7)\n"
          ]
        }
      ],
      "source": [
        "!pip install yahoofinancials"
      ]
    },
    {
      "cell_type": "markdown",
      "id": "4fb22f30-77f8-4b91-971f-360d068e72e7",
      "metadata": {
        "id": "4fb22f30-77f8-4b91-971f-360d068e72e7"
      },
      "source": [
        "### Import all necessary python libraries."
      ]
    },
    {
      "cell_type": "code",
      "execution_count": null,
      "id": "dea6c76d-12ac-43a7-9f83-4be658823686",
      "metadata": {
        "id": "dea6c76d-12ac-43a7-9f83-4be658823686"
      },
      "outputs": [],
      "source": [
        "import pandas as pd\n",
        "\n",
        "import yfinance as yf\n",
        "\n",
        "from yahoofinancials import YahooFinancials\n",
        "\n",
        "import matplotlib.pyplot as plt\n"
      ]
    },
    {
      "cell_type": "markdown",
      "id": "d9dff668-aa8e-4cf8-82e0-6892de318ffb",
      "metadata": {
        "id": "d9dff668-aa8e-4cf8-82e0-6892de318ffb"
      },
      "source": [
        "### Download the data from Yahoo Finance API"
      ]
    },
    {
      "cell_type": "markdown",
      "id": "0c3ddefa-de8e-460e-a9a9-cfd4989de1b8",
      "metadata": {
        "id": "0c3ddefa-de8e-460e-a9a9-cfd4989de1b8"
      },
      "source": [
        "#### Method 1 How to use yfinance"
      ]
    },
    {
      "cell_type": "markdown",
      "id": "bd268d59-8d0c-40b2-81da-02979b591adf",
      "metadata": {
        "id": "bd268d59-8d0c-40b2-81da-02979b591adf"
      },
      "source": [
        "The module ‘yfinance’ is now a very popular library that is very python friendly and can be used as a patch to pandas_datareader or a standalone library in itself. "
      ]
    },
    {
      "cell_type": "markdown",
      "id": "54c7a1b0-a3f1-4aa0-b6d0-e239a8ba6610",
      "metadata": {
        "id": "54c7a1b0-a3f1-4aa0-b6d0-e239a8ba6610"
      },
      "source": [
        "To download the data you have to use download() method. \n",
        "Inside the download method, you have to pass the tickers(stock name) and date range. Date range is not necessary but for learning purposes, I am setting a date from the last 5 years."
      ]
    },
    {
      "cell_type": "code",
      "execution_count": null,
      "id": "7536bb5b-1a9a-45db-ab4b-da351803d847",
      "metadata": {
        "id": "7536bb5b-1a9a-45db-ab4b-da351803d847"
      },
      "outputs": [],
      "source": [
        "df_meta = yf.download('META',\n",
        "start='2018-01-01',\n",
        "end='2023-01-31',                  \n",
        "progress=False)                      \n"
      ]
    },
    {
      "cell_type": "code",
      "execution_count": null,
      "id": "f30bec1c-6e96-4972-89cd-9499ca7f661e",
      "metadata": {
        "id": "f30bec1c-6e96-4972-89cd-9499ca7f661e",
        "outputId": "59356706-dc72-4737-e4df-2fc94cd567dc"
      },
      "outputs": [
        {
          "data": {
            "text/html": [
              "<div>\n",
              "<style scoped>\n",
              "    .dataframe tbody tr th:only-of-type {\n",
              "        vertical-align: middle;\n",
              "    }\n",
              "\n",
              "    .dataframe tbody tr th {\n",
              "        vertical-align: top;\n",
              "    }\n",
              "\n",
              "    .dataframe thead th {\n",
              "        text-align: right;\n",
              "    }\n",
              "</style>\n",
              "<table border=\"1\" class=\"dataframe\">\n",
              "  <thead>\n",
              "    <tr style=\"text-align: right;\">\n",
              "      <th></th>\n",
              "      <th>Open</th>\n",
              "      <th>High</th>\n",
              "      <th>Low</th>\n",
              "      <th>Close</th>\n",
              "      <th>Adj Close</th>\n",
              "      <th>Volume</th>\n",
              "    </tr>\n",
              "    <tr>\n",
              "      <th>Date</th>\n",
              "      <th></th>\n",
              "      <th></th>\n",
              "      <th></th>\n",
              "      <th></th>\n",
              "      <th></th>\n",
              "      <th></th>\n",
              "    </tr>\n",
              "  </thead>\n",
              "  <tbody>\n",
              "    <tr>\n",
              "      <th>2018-01-02 00:00:00-05:00</th>\n",
              "      <td>177.679993</td>\n",
              "      <td>181.580002</td>\n",
              "      <td>177.550003</td>\n",
              "      <td>181.419998</td>\n",
              "      <td>181.419998</td>\n",
              "      <td>18151900</td>\n",
              "    </tr>\n",
              "    <tr>\n",
              "      <th>2018-01-03 00:00:00-05:00</th>\n",
              "      <td>181.880005</td>\n",
              "      <td>184.779999</td>\n",
              "      <td>181.330002</td>\n",
              "      <td>184.669998</td>\n",
              "      <td>184.669998</td>\n",
              "      <td>16886600</td>\n",
              "    </tr>\n",
              "    <tr>\n",
              "      <th>2018-01-04 00:00:00-05:00</th>\n",
              "      <td>184.899994</td>\n",
              "      <td>186.210007</td>\n",
              "      <td>184.100006</td>\n",
              "      <td>184.330002</td>\n",
              "      <td>184.330002</td>\n",
              "      <td>13880900</td>\n",
              "    </tr>\n",
              "    <tr>\n",
              "      <th>2018-01-05 00:00:00-05:00</th>\n",
              "      <td>185.589996</td>\n",
              "      <td>186.899994</td>\n",
              "      <td>184.929993</td>\n",
              "      <td>186.850006</td>\n",
              "      <td>186.850006</td>\n",
              "      <td>13574500</td>\n",
              "    </tr>\n",
              "    <tr>\n",
              "      <th>2018-01-08 00:00:00-05:00</th>\n",
              "      <td>187.199997</td>\n",
              "      <td>188.899994</td>\n",
              "      <td>186.330002</td>\n",
              "      <td>188.279999</td>\n",
              "      <td>188.279999</td>\n",
              "      <td>17994700</td>\n",
              "    </tr>\n",
              "  </tbody>\n",
              "</table>\n",
              "</div>"
            ],
            "text/plain": [
              "                                 Open        High         Low       Close  \\\n",
              "Date                                                                        \n",
              "2018-01-02 00:00:00-05:00  177.679993  181.580002  177.550003  181.419998   \n",
              "2018-01-03 00:00:00-05:00  181.880005  184.779999  181.330002  184.669998   \n",
              "2018-01-04 00:00:00-05:00  184.899994  186.210007  184.100006  184.330002   \n",
              "2018-01-05 00:00:00-05:00  185.589996  186.899994  184.929993  186.850006   \n",
              "2018-01-08 00:00:00-05:00  187.199997  188.899994  186.330002  188.279999   \n",
              "\n",
              "                            Adj Close    Volume  \n",
              "Date                                             \n",
              "2018-01-02 00:00:00-05:00  181.419998  18151900  \n",
              "2018-01-03 00:00:00-05:00  184.669998  16886600  \n",
              "2018-01-04 00:00:00-05:00  184.330002  13880900  \n",
              "2018-01-05 00:00:00-05:00  186.850006  13574500  \n",
              "2018-01-08 00:00:00-05:00  188.279999  17994700  "
            ]
          },
          "execution_count": 13,
          "metadata": {},
          "output_type": "execute_result"
        }
      ],
      "source": [
        "df_meta.head()"
      ]
    },
    {
      "cell_type": "markdown",
      "id": "5dc0d33f-b6ae-4d64-813a-eacbfc9aeb76",
      "metadata": {
        "id": "5dc0d33f-b6ae-4d64-813a-eacbfc9aeb76"
      },
      "source": [
        "There are many parameters of the download function which you can find in the documentation and start and end are some of the most common ones to be used. Since the data was small, the progress bar was set to false and showing it makes no sense and should be used for high volume or data."
      ]
    },
    {
      "cell_type": "code",
      "execution_count": null,
      "id": "77e9c5ee-40d9-452d-914d-aeedc837f243",
      "metadata": {
        "id": "77e9c5ee-40d9-452d-914d-aeedc837f243",
        "outputId": "47c6d003-01dd-4400-a643-a73a182af168"
      },
      "outputs": [
        {
          "name": "stdout",
          "output_type": "stream",
          "text": [
            "[*********************100%***********************]  2 of 2 completed\n"
          ]
        }
      ],
      "source": [
        "# downloading multipl tickers\n",
        "df_yahoo = yf.download(['META',\"AAPL\"],\n",
        "start='2018-01-01',\n",
        "end='2023-01-31',\n",
        "progress=True)"
      ]
    },
    {
      "cell_type": "code",
      "execution_count": null,
      "id": "9a88a5eb-9fa4-457b-a014-8b195866202c",
      "metadata": {
        "id": "9a88a5eb-9fa4-457b-a014-8b195866202c",
        "outputId": "fc20e868-823e-436f-bca5-61adf5145199"
      },
      "outputs": [
        {
          "data": {
            "text/html": [
              "<div>\n",
              "<style scoped>\n",
              "    .dataframe tbody tr th:only-of-type {\n",
              "        vertical-align: middle;\n",
              "    }\n",
              "\n",
              "    .dataframe tbody tr th {\n",
              "        vertical-align: top;\n",
              "    }\n",
              "\n",
              "    .dataframe thead tr th {\n",
              "        text-align: left;\n",
              "    }\n",
              "\n",
              "    .dataframe thead tr:last-of-type th {\n",
              "        text-align: right;\n",
              "    }\n",
              "</style>\n",
              "<table border=\"1\" class=\"dataframe\">\n",
              "  <thead>\n",
              "    <tr>\n",
              "      <th></th>\n",
              "      <th colspan=\"2\" halign=\"left\">Adj Close</th>\n",
              "      <th colspan=\"2\" halign=\"left\">Close</th>\n",
              "      <th colspan=\"2\" halign=\"left\">High</th>\n",
              "      <th colspan=\"2\" halign=\"left\">Low</th>\n",
              "      <th colspan=\"2\" halign=\"left\">Open</th>\n",
              "      <th colspan=\"2\" halign=\"left\">Volume</th>\n",
              "    </tr>\n",
              "    <tr>\n",
              "      <th></th>\n",
              "      <th>AAPL</th>\n",
              "      <th>META</th>\n",
              "      <th>AAPL</th>\n",
              "      <th>META</th>\n",
              "      <th>AAPL</th>\n",
              "      <th>META</th>\n",
              "      <th>AAPL</th>\n",
              "      <th>META</th>\n",
              "      <th>AAPL</th>\n",
              "      <th>META</th>\n",
              "      <th>AAPL</th>\n",
              "      <th>META</th>\n",
              "    </tr>\n",
              "    <tr>\n",
              "      <th>Date</th>\n",
              "      <th></th>\n",
              "      <th></th>\n",
              "      <th></th>\n",
              "      <th></th>\n",
              "      <th></th>\n",
              "      <th></th>\n",
              "      <th></th>\n",
              "      <th></th>\n",
              "      <th></th>\n",
              "      <th></th>\n",
              "      <th></th>\n",
              "      <th></th>\n",
              "    </tr>\n",
              "  </thead>\n",
              "  <tbody>\n",
              "    <tr>\n",
              "      <th>2018-01-02 00:00:00-05:00</th>\n",
              "      <td>40.950500</td>\n",
              "      <td>181.419998</td>\n",
              "      <td>43.064999</td>\n",
              "      <td>181.419998</td>\n",
              "      <td>43.075001</td>\n",
              "      <td>181.580002</td>\n",
              "      <td>42.314999</td>\n",
              "      <td>177.550003</td>\n",
              "      <td>42.540001</td>\n",
              "      <td>177.679993</td>\n",
              "      <td>102223600</td>\n",
              "      <td>18151900</td>\n",
              "    </tr>\n",
              "    <tr>\n",
              "      <th>2018-01-03 00:00:00-05:00</th>\n",
              "      <td>40.943352</td>\n",
              "      <td>184.669998</td>\n",
              "      <td>43.057499</td>\n",
              "      <td>184.669998</td>\n",
              "      <td>43.637501</td>\n",
              "      <td>184.779999</td>\n",
              "      <td>42.990002</td>\n",
              "      <td>181.330002</td>\n",
              "      <td>43.132500</td>\n",
              "      <td>181.880005</td>\n",
              "      <td>118071600</td>\n",
              "      <td>16886600</td>\n",
              "    </tr>\n",
              "    <tr>\n",
              "      <th>2018-01-04 00:00:00-05:00</th>\n",
              "      <td>41.133541</td>\n",
              "      <td>184.330002</td>\n",
              "      <td>43.257500</td>\n",
              "      <td>184.330002</td>\n",
              "      <td>43.367500</td>\n",
              "      <td>186.210007</td>\n",
              "      <td>43.020000</td>\n",
              "      <td>184.100006</td>\n",
              "      <td>43.134998</td>\n",
              "      <td>184.899994</td>\n",
              "      <td>89738400</td>\n",
              "      <td>13880900</td>\n",
              "    </tr>\n",
              "    <tr>\n",
              "      <th>2018-01-05 00:00:00-05:00</th>\n",
              "      <td>41.601864</td>\n",
              "      <td>186.850006</td>\n",
              "      <td>43.750000</td>\n",
              "      <td>186.850006</td>\n",
              "      <td>43.842499</td>\n",
              "      <td>186.899994</td>\n",
              "      <td>43.262501</td>\n",
              "      <td>184.929993</td>\n",
              "      <td>43.360001</td>\n",
              "      <td>185.589996</td>\n",
              "      <td>94640000</td>\n",
              "      <td>13574500</td>\n",
              "    </tr>\n",
              "    <tr>\n",
              "      <th>2018-01-08 00:00:00-05:00</th>\n",
              "      <td>41.447346</td>\n",
              "      <td>188.279999</td>\n",
              "      <td>43.587502</td>\n",
              "      <td>188.279999</td>\n",
              "      <td>43.902500</td>\n",
              "      <td>188.899994</td>\n",
              "      <td>43.482498</td>\n",
              "      <td>186.330002</td>\n",
              "      <td>43.587502</td>\n",
              "      <td>187.199997</td>\n",
              "      <td>82271200</td>\n",
              "      <td>17994700</td>\n",
              "    </tr>\n",
              "  </tbody>\n",
              "</table>\n",
              "</div>"
            ],
            "text/plain": [
              "                           Adj Close                  Close              \\\n",
              "                                AAPL        META       AAPL        META   \n",
              "Date                                                                      \n",
              "2018-01-02 00:00:00-05:00  40.950500  181.419998  43.064999  181.419998   \n",
              "2018-01-03 00:00:00-05:00  40.943352  184.669998  43.057499  184.669998   \n",
              "2018-01-04 00:00:00-05:00  41.133541  184.330002  43.257500  184.330002   \n",
              "2018-01-05 00:00:00-05:00  41.601864  186.850006  43.750000  186.850006   \n",
              "2018-01-08 00:00:00-05:00  41.447346  188.279999  43.587502  188.279999   \n",
              "\n",
              "                                High                    Low              \\\n",
              "                                AAPL        META       AAPL        META   \n",
              "Date                                                                      \n",
              "2018-01-02 00:00:00-05:00  43.075001  181.580002  42.314999  177.550003   \n",
              "2018-01-03 00:00:00-05:00  43.637501  184.779999  42.990002  181.330002   \n",
              "2018-01-04 00:00:00-05:00  43.367500  186.210007  43.020000  184.100006   \n",
              "2018-01-05 00:00:00-05:00  43.842499  186.899994  43.262501  184.929993   \n",
              "2018-01-08 00:00:00-05:00  43.902500  188.899994  43.482498  186.330002   \n",
              "\n",
              "                                Open                 Volume            \n",
              "                                AAPL        META       AAPL      META  \n",
              "Date                                                                   \n",
              "2018-01-02 00:00:00-05:00  42.540001  177.679993  102223600  18151900  \n",
              "2018-01-03 00:00:00-05:00  43.132500  181.880005  118071600  16886600  \n",
              "2018-01-04 00:00:00-05:00  43.134998  184.899994   89738400  13880900  \n",
              "2018-01-05 00:00:00-05:00  43.360001  185.589996   94640000  13574500  \n",
              "2018-01-08 00:00:00-05:00  43.587502  187.199997   82271200  17994700  "
            ]
          },
          "execution_count": 15,
          "metadata": {},
          "output_type": "execute_result"
        }
      ],
      "source": [
        "df_yahoo.head()"
      ]
    },
    {
      "cell_type": "markdown",
      "id": "6fb9156e-e020-4a5f-ae79-ddea10a80fe9",
      "metadata": {
        "id": "6fb9156e-e020-4a5f-ae79-ddea10a80fe9"
      },
      "source": [
        "Removing Adjusted Close Price"
      ]
    },
    {
      "cell_type": "code",
      "execution_count": null,
      "id": "f305e984-475f-49e2-b096-bc2a39879a7c",
      "metadata": {
        "id": "f305e984-475f-49e2-b096-bc2a39879a7c"
      },
      "outputs": [],
      "source": [
        "df_yahoo = yf.download(['META',\"AAPL\"],\n",
        "start='2018-01-01',\n",
        "end='2023-01-31',\n",
        "progress=False,auto_adjust=True,actions=\"inline\" )"
      ]
    },
    {
      "cell_type": "code",
      "execution_count": null,
      "id": "cceaa19f-ba8e-4e99-84e2-9c7d0a951914",
      "metadata": {
        "id": "cceaa19f-ba8e-4e99-84e2-9c7d0a951914",
        "outputId": "75f18922-4cab-4b2c-f582-e1c575ad4db8"
      },
      "outputs": [
        {
          "data": {
            "text/html": [
              "<div>\n",
              "<style scoped>\n",
              "    .dataframe tbody tr th:only-of-type {\n",
              "        vertical-align: middle;\n",
              "    }\n",
              "\n",
              "    .dataframe tbody tr th {\n",
              "        vertical-align: top;\n",
              "    }\n",
              "\n",
              "    .dataframe thead tr th {\n",
              "        text-align: left;\n",
              "    }\n",
              "\n",
              "    .dataframe thead tr:last-of-type th {\n",
              "        text-align: right;\n",
              "    }\n",
              "</style>\n",
              "<table border=\"1\" class=\"dataframe\">\n",
              "  <thead>\n",
              "    <tr>\n",
              "      <th></th>\n",
              "      <th colspan=\"2\" halign=\"left\">Close</th>\n",
              "      <th colspan=\"2\" halign=\"left\">Dividends</th>\n",
              "      <th colspan=\"2\" halign=\"left\">High</th>\n",
              "      <th colspan=\"2\" halign=\"left\">Low</th>\n",
              "      <th colspan=\"2\" halign=\"left\">Open</th>\n",
              "      <th colspan=\"2\" halign=\"left\">Stock Splits</th>\n",
              "      <th colspan=\"2\" halign=\"left\">Volume</th>\n",
              "    </tr>\n",
              "    <tr>\n",
              "      <th></th>\n",
              "      <th>AAPL</th>\n",
              "      <th>META</th>\n",
              "      <th>AAPL</th>\n",
              "      <th>META</th>\n",
              "      <th>AAPL</th>\n",
              "      <th>META</th>\n",
              "      <th>AAPL</th>\n",
              "      <th>META</th>\n",
              "      <th>AAPL</th>\n",
              "      <th>META</th>\n",
              "      <th>AAPL</th>\n",
              "      <th>META</th>\n",
              "      <th>AAPL</th>\n",
              "      <th>META</th>\n",
              "    </tr>\n",
              "    <tr>\n",
              "      <th>Date</th>\n",
              "      <th></th>\n",
              "      <th></th>\n",
              "      <th></th>\n",
              "      <th></th>\n",
              "      <th></th>\n",
              "      <th></th>\n",
              "      <th></th>\n",
              "      <th></th>\n",
              "      <th></th>\n",
              "      <th></th>\n",
              "      <th></th>\n",
              "      <th></th>\n",
              "      <th></th>\n",
              "      <th></th>\n",
              "    </tr>\n",
              "  </thead>\n",
              "  <tbody>\n",
              "    <tr>\n",
              "      <th>2018-01-02 00:00:00-05:00</th>\n",
              "      <td>40.950500</td>\n",
              "      <td>181.419998</td>\n",
              "      <td>0.0</td>\n",
              "      <td>0.0</td>\n",
              "      <td>40.960012</td>\n",
              "      <td>181.580002</td>\n",
              "      <td>40.237326</td>\n",
              "      <td>177.550003</td>\n",
              "      <td>40.451280</td>\n",
              "      <td>177.679993</td>\n",
              "      <td>0.0</td>\n",
              "      <td>0.0</td>\n",
              "      <td>102223600</td>\n",
              "      <td>18151900</td>\n",
              "    </tr>\n",
              "    <tr>\n",
              "      <th>2018-01-03 00:00:00-05:00</th>\n",
              "      <td>40.943367</td>\n",
              "      <td>184.669998</td>\n",
              "      <td>0.0</td>\n",
              "      <td>0.0</td>\n",
              "      <td>41.494891</td>\n",
              "      <td>184.779999</td>\n",
              "      <td>40.879184</td>\n",
              "      <td>181.330002</td>\n",
              "      <td>41.014685</td>\n",
              "      <td>181.880005</td>\n",
              "      <td>0.0</td>\n",
              "      <td>0.0</td>\n",
              "      <td>118071600</td>\n",
              "      <td>16886600</td>\n",
              "    </tr>\n",
              "    <tr>\n",
              "      <th>2018-01-04 00:00:00-05:00</th>\n",
              "      <td>41.133541</td>\n",
              "      <td>184.330002</td>\n",
              "      <td>0.0</td>\n",
              "      <td>0.0</td>\n",
              "      <td>41.238141</td>\n",
              "      <td>186.210007</td>\n",
              "      <td>40.907703</td>\n",
              "      <td>184.100006</td>\n",
              "      <td>41.017055</td>\n",
              "      <td>184.899994</td>\n",
              "      <td>0.0</td>\n",
              "      <td>0.0</td>\n",
              "      <td>89738400</td>\n",
              "      <td>13880900</td>\n",
              "    </tr>\n",
              "    <tr>\n",
              "      <th>2018-01-05 00:00:00-05:00</th>\n",
              "      <td>41.601860</td>\n",
              "      <td>186.850006</td>\n",
              "      <td>0.0</td>\n",
              "      <td>0.0</td>\n",
              "      <td>41.689817</td>\n",
              "      <td>186.899994</td>\n",
              "      <td>41.138297</td>\n",
              "      <td>184.929993</td>\n",
              "      <td>41.231010</td>\n",
              "      <td>185.589996</td>\n",
              "      <td>0.0</td>\n",
              "      <td>0.0</td>\n",
              "      <td>94640000</td>\n",
              "      <td>13574500</td>\n",
              "    </tr>\n",
              "    <tr>\n",
              "      <th>2018-01-08 00:00:00-05:00</th>\n",
              "      <td>41.447342</td>\n",
              "      <td>188.279999</td>\n",
              "      <td>0.0</td>\n",
              "      <td>0.0</td>\n",
              "      <td>41.746874</td>\n",
              "      <td>188.899994</td>\n",
              "      <td>41.347494</td>\n",
              "      <td>186.330002</td>\n",
              "      <td>41.447342</td>\n",
              "      <td>187.199997</td>\n",
              "      <td>0.0</td>\n",
              "      <td>0.0</td>\n",
              "      <td>82271200</td>\n",
              "      <td>17994700</td>\n",
              "    </tr>\n",
              "  </tbody>\n",
              "</table>\n",
              "</div>"
            ],
            "text/plain": [
              "                               Close             Dividends            High  \\\n",
              "                                AAPL        META      AAPL META       AAPL   \n",
              "Date                                                                         \n",
              "2018-01-02 00:00:00-05:00  40.950500  181.419998       0.0  0.0  40.960012   \n",
              "2018-01-03 00:00:00-05:00  40.943367  184.669998       0.0  0.0  41.494891   \n",
              "2018-01-04 00:00:00-05:00  41.133541  184.330002       0.0  0.0  41.238141   \n",
              "2018-01-05 00:00:00-05:00  41.601860  186.850006       0.0  0.0  41.689817   \n",
              "2018-01-08 00:00:00-05:00  41.447342  188.279999       0.0  0.0  41.746874   \n",
              "\n",
              "                                             Low                   Open  \\\n",
              "                                 META       AAPL        META       AAPL   \n",
              "Date                                                                      \n",
              "2018-01-02 00:00:00-05:00  181.580002  40.237326  177.550003  40.451280   \n",
              "2018-01-03 00:00:00-05:00  184.779999  40.879184  181.330002  41.014685   \n",
              "2018-01-04 00:00:00-05:00  186.210007  40.907703  184.100006  41.017055   \n",
              "2018-01-05 00:00:00-05:00  186.899994  41.138297  184.929993  41.231010   \n",
              "2018-01-08 00:00:00-05:00  188.899994  41.347494  186.330002  41.447342   \n",
              "\n",
              "                                      Stock Splits          Volume            \n",
              "                                 META         AAPL META       AAPL      META  \n",
              "Date                                                                          \n",
              "2018-01-02 00:00:00-05:00  177.679993          0.0  0.0  102223600  18151900  \n",
              "2018-01-03 00:00:00-05:00  181.880005          0.0  0.0  118071600  16886600  \n",
              "2018-01-04 00:00:00-05:00  184.899994          0.0  0.0   89738400  13880900  \n",
              "2018-01-05 00:00:00-05:00  185.589996          0.0  0.0   94640000  13574500  \n",
              "2018-01-08 00:00:00-05:00  187.199997          0.0  0.0   82271200  17994700  "
            ]
          },
          "execution_count": 17,
          "metadata": {},
          "output_type": "execute_result"
        }
      ],
      "source": [
        "df_yahoo.head()"
      ]
    },
    {
      "cell_type": "markdown",
      "id": "6abcc523-56e9-4c46-a470-0356be03b37f",
      "metadata": {
        "id": "6abcc523-56e9-4c46-a470-0356be03b37f"
      },
      "source": [
        "Apart from the yf.download function, we can also use the ticker module."
      ]
    },
    {
      "cell_type": "code",
      "execution_count": null,
      "id": "72c825c0-e2c5-4f28-97cf-2b13fbf117b9",
      "metadata": {
        "id": "72c825c0-e2c5-4f28-97cf-2b13fbf117b9",
        "outputId": "951b1893-f2f5-4d24-f44c-af09a84db56d"
      },
      "outputs": [
        {
          "data": {
            "text/plain": [
              "<AxesSubplot: title={'center': \"Meta's stock price\"}, xlabel='Date'>"
            ]
          },
          "execution_count": 18,
          "metadata": {},
          "output_type": "execute_result"
        },
        {
          "data": {
            "image/png": "[encoded data removed]",
            "text/plain": [
              "<Figure size 432x288 with 1 Axes>"
            ]
          },
          "metadata": {
            "needs_background": "light"
          },
          "output_type": "display_data"
        }
      ],
      "source": [
        "ticker = yf.Ticker('META')\n",
        "df_meta = ticker.history(period=\"5y\")\n",
        "df_meta['Close'].plot(title=\"Meta's stock price\")"
      ]
    },
    {
      "cell_type": "code",
      "execution_count": null,
      "id": "d710b0ad-110c-479c-aca6-f53e42efdbb4",
      "metadata": {
        "id": "d710b0ad-110c-479c-aca6-f53e42efdbb4",
        "outputId": "8f1685f1-ac39-491b-c021-20da55f1a5c3"
      },
      "outputs": [
        {
          "data": {
            "text/plain": [
              "Text(0, 0.5, 'Closing Stock Price')"
            ]
          },
          "execution_count": 19,
          "metadata": {},
          "output_type": "execute_result"
        },
        {
          "data": {
            "image/png": "[encoded data removed]",
            "text/plain": [
              "<Figure size 720x360 with 1 Axes>"
            ]
          },
          "metadata": {
            "needs_background": "light"
          },
          "output_type": "display_data"
        }
      ],
      "source": [
        "ticker = yf.Ticker('META')\n",
        "df_meta = ticker.history(period=\"5y\")\n",
        "\n",
        "\n",
        "# Create a line chart using Matplotlib\n",
        "fig, ax = plt.subplots(figsize=(10, 5))\n",
        "df_meta[\"Close\"].plot(ax=ax, label= \"Meta\")\n",
        "\n",
        "# Add a title, legend, and axis labels\n",
        "ax.set_title(\"Trend of Stock Prices for Meta\")\n",
        "ax.legend(loc=\"upper left\")\n",
        "ax.set_xlabel(\"Date\")\n",
        "ax.set_ylabel(\"Closing Stock Price\")"
      ]
    },
    {
      "cell_type": "code",
      "execution_count": null,
      "id": "b6d4635a-0614-4d3f-8df5-7c3527de1fa1",
      "metadata": {
        "id": "b6d4635a-0614-4d3f-8df5-7c3527de1fa1",
        "outputId": "2360da49-ca1e-4c55-ccf2-fa113cc91491"
      },
      "outputs": [
        {
          "data": {
            "text/plain": [
              "{'zip': '94025', 'sector': 'Communication Services', 'fullTimeEmployees': 87314, 'longBusinessSummary': \"Meta Platforms, Inc. develops products that enable people to connect and share with friends and family through mobile devices, personal computers, virtual reality headsets, wearables, and in-home devices worldwide. It operates in two segments, Family of Apps and Reality Labs. The Family of Apps segment's products include Facebook, which enables people to share, discover, and connect with interests; Instagram, a community for sharing photos, videos, and private messages, as well as feed, stories, reels, video, live, and shops; Messenger, a messaging application for people to connect with friends, family, groups, and businesses across platforms and devices through chat, audio and video calls, and rooms; and WhatsApp, a messaging application that is used by people and businesses to communicate and transact privately. The Reality Labs segment provides augmented and virtual reality related products comprising virtual reality hardware, software, and content that help people feel connected, anytime, and anywhere. The company was formerly known as Facebook, Inc. and changed its name to Meta Platforms, Inc. in October 2021. Meta Platforms, Inc. was incorporated in 2004 and is headquartered in Menlo Park, California.\", 'city': 'Menlo Park', 'phone': '650 543 4800', 'state': 'CA', 'country': 'United States', 'companyOfficers': [], 'website': 'https://investor.fb.com', 'maxAge': 1, 'address1': '1601 Willow Road', 'industry': 'Internet Content & Information', 'ebitdaMargins': 0.37138999, 'profitMargins': 0.2441, 'grossMargins': 0.80334, 'operatingCashflow': 54067998720, 'revenueGrowth': -0.045, 'operatingMargins': 0.30091998, 'ebitda': 43867000832, 'targetLowPrice': 80, 'recommendationKey': 'buy', 'grossProfits': 95280000000, 'freeCashflow': 19749376000, 'targetMedianPrice': 150, 'earningsGrowth': -0.491, 'currentRatio': 2.57, 'returnOnAssets': 0.12749, 'numberOfAnalystOpinions': 50, 'targetMeanPrice': 157.85, 'debtToEquity': 21.339, 'returnOnEquity': 0.22398001, 'targetHighPrice': 392, 'totalCash': 41776001024, 'totalDebt': 26481000448, 'totalRevenue': 118115000320, 'totalCashPerShare': 15.755, 'financialCurrency': 'USD', 'revenuePerShare': 43.453, 'quickRatio': 2.336, 'recommendationMean': 2.2, 'shortName': 'Meta Platforms, Inc.', 'longName': 'Meta Platforms, Inc.', 'isEsgPopulated': False, 'gmtOffSetMilliseconds': '-18000000', 'quoteType': 'EQUITY', 'messageBoardId': 'finmb_20765463', 'market': 'us_market', 'annualHoldingsTurnover': None, 'enterpriseToRevenue': 3.172, 'beta3Year': None, 'enterpriseToEbitda': 8.54, '52WeekChange': -0.54470587, 'morningStarRiskRating': None, 'forwardEps': 8, 'revenueQuarterlyGrowth': None, 'sharesOutstanding': 2255320064, 'fundInceptionDate': None, 'annualReportExpenseRatio': None, 'totalAssets': None, 'bookValue': 46.564, 'sharesShort': 28913849, 'sharesPercentSharesOut': 0.0128, 'fundFamily': None, 'lastFiscalYearEnd': 1640908800, 'heldPercentInstitutions': 0.75928, 'netIncomeToCommon': 28832000000, 'trailingEps': 10.16, 'lastDividendValue': None, 'SandP52WeekChange': -0.12455058, 'priceToBook': 3.184649, 'heldPercentInsiders': 0.00224, 'nextFiscalYearEnd': 1672444800, 'yield': None, 'mostRecentQuarter': 1664496000, 'shortRatio': 0.99, 'sharesShortPreviousMonthDate': 1671062400, 'floatShares': 2268479437, 'beta': 1.164283, 'enterpriseValue': 374641754112, 'priceHint': 2, 'threeYearAverageReturn': None, 'lastSplitDate': None, 'lastSplitFactor': None, 'legalType': None, 'lastDividendDate': None, 'morningStarOverallRating': None, 'earningsQuarterlyGrowth': -0.522, 'priceToSalesTrailing12Months': 3.2920969, 'dateShortInterest': 1673568000, 'pegRatio': -0.94, 'ytdReturn': None, 'forwardPE': 18.53625, 'lastCapGain': None, 'shortPercentOfFloat': 0.0128, 'sharesShortPriorMonth': 33746688, 'impliedSharesOutstanding': 0, 'category': None, 'fiveYearAverageReturn': None, 'trailingAnnualDividendYield': 0, 'payoutRatio': 0, 'volume24Hr': None, 'navPrice': None, 'trailingAnnualDividendRate': 0, 'toCurrency': None, 'expireDate': None, 'algorithm': None, 'dividendRate': None, 'exDividendDate': None, 'circulatingSupply': None, 'startDate': None, 'trailingPE': 14.595472, 'lastMarket': None, 'maxSupply': None, 'openInterest': None, 'volumeAllCurrencies': None, 'strikePrice': None, 'ask': 148.96, 'askSize': 800, 'fromCurrency': None, 'fiveYearAvgDividendYield': None, 'bid': 148.84, 'tradeable': False, 'dividendYield': None, 'bidSize': 1100, 'coinMarketCapLink': None, 'preMarketPrice': 148.02, 'logo_url': 'https://logo.clearbit.com/investor.fb.com', 'trailingPegRatio': 3.3264}"
            ]
          },
          "execution_count": 20,
          "metadata": {},
          "output_type": "execute_result"
        }
      ],
      "source": [
        "ticker.info"
      ]
    },
    {
      "cell_type": "markdown",
      "id": "342a1998-964c-4228-81bb-f6bce3ce1a53",
      "metadata": {
        "id": "342a1998-964c-4228-81bb-f6bce3ce1a53"
      },
      "source": [
        "info – This method prints out a JSON formatter output which contains a lot of information about the company starting from their business full name, summary, industry, exchanges listed on with country and time zone, and more. It also comes equipped with the beta coefficient."
      ]
    },
    {
      "cell_type": "code",
      "execution_count": null,
      "id": "95366d23-a432-4ed0-a34b-b3cfb071e4e3",
      "metadata": {
        "id": "95366d23-a432-4ed0-a34b-b3cfb071e4e3",
        "outputId": "932a7205-9f9e-440f-9c39-de15c3ea8547"
      },
      "outputs": [
        {
          "data": {
            "text/html": [
              "<div>\n",
              "<style scoped>\n",
              "    .dataframe tbody tr th:only-of-type {\n",
              "        vertical-align: middle;\n",
              "    }\n",
              "\n",
              "    .dataframe tbody tr th {\n",
              "        vertical-align: top;\n",
              "    }\n",
              "\n",
              "    .dataframe thead th {\n",
              "        text-align: right;\n",
              "    }\n",
              "</style>\n",
              "<table border=\"1\" class=\"dataframe\">\n",
              "  <thead>\n",
              "    <tr style=\"text-align: right;\">\n",
              "      <th></th>\n",
              "      <th>Firm</th>\n",
              "      <th>To Grade</th>\n",
              "      <th>From Grade</th>\n",
              "      <th>Action</th>\n",
              "    </tr>\n",
              "    <tr>\n",
              "      <th>Date</th>\n",
              "      <th></th>\n",
              "      <th></th>\n",
              "      <th></th>\n",
              "      <th></th>\n",
              "    </tr>\n",
              "  </thead>\n",
              "  <tbody>\n",
              "    <tr>\n",
              "      <th>2022-01-19 14:03:49</th>\n",
              "      <td>Morgan Stanley</td>\n",
              "      <td>Overweight</td>\n",
              "      <td></td>\n",
              "      <td>main</td>\n",
              "    </tr>\n",
              "    <tr>\n",
              "      <th>2022-01-26 11:51:52</th>\n",
              "      <td>RBC Capital</td>\n",
              "      <td>Outperform</td>\n",
              "      <td></td>\n",
              "      <td>main</td>\n",
              "    </tr>\n",
              "    <tr>\n",
              "      <th>2022-02-03 09:37:12</th>\n",
              "      <td>Keybanc</td>\n",
              "      <td>Overweight</td>\n",
              "      <td></td>\n",
              "      <td>main</td>\n",
              "    </tr>\n",
              "    <tr>\n",
              "      <th>2022-02-03 10:23:02</th>\n",
              "      <td>Raymond James</td>\n",
              "      <td>Outperform</td>\n",
              "      <td>Strong Buy</td>\n",
              "      <td>down</td>\n",
              "    </tr>\n",
              "    <tr>\n",
              "      <th>2022-02-03 10:24:52</th>\n",
              "      <td>BMO Capital</td>\n",
              "      <td>Market Perform</td>\n",
              "      <td>Outperform</td>\n",
              "      <td>down</td>\n",
              "    </tr>\n",
              "    <tr>\n",
              "      <th>...</th>\n",
              "      <td>...</td>\n",
              "      <td>...</td>\n",
              "      <td>...</td>\n",
              "      <td>...</td>\n",
              "    </tr>\n",
              "    <tr>\n",
              "      <th>2023-01-18 14:18:33</th>\n",
              "      <td>Morgan Stanley</td>\n",
              "      <td>Equal-Weight</td>\n",
              "      <td></td>\n",
              "      <td>main</td>\n",
              "    </tr>\n",
              "    <tr>\n",
              "      <th>2023-01-20 14:44:30</th>\n",
              "      <td>MKM Partners</td>\n",
              "      <td>Buy</td>\n",
              "      <td></td>\n",
              "      <td>main</td>\n",
              "    </tr>\n",
              "    <tr>\n",
              "      <th>2023-01-25 12:32:25</th>\n",
              "      <td>Credit Suisse</td>\n",
              "      <td>Outperform</td>\n",
              "      <td></td>\n",
              "      <td>main</td>\n",
              "    </tr>\n",
              "    <tr>\n",
              "      <th>2023-01-26 11:13:04</th>\n",
              "      <td>Piper Sandler</td>\n",
              "      <td>Neutral</td>\n",
              "      <td></td>\n",
              "      <td>main</td>\n",
              "    </tr>\n",
              "    <tr>\n",
              "      <th>2023-01-31 15:54:01</th>\n",
              "      <td>LightShed Partners</td>\n",
              "      <td>Buy</td>\n",
              "      <td></td>\n",
              "      <td>init</td>\n",
              "    </tr>\n",
              "  </tbody>\n",
              "</table>\n",
              "<p>141 rows × 4 columns</p>\n",
              "</div>"
            ],
            "text/plain": [
              "                                   Firm        To Grade  From Grade Action\n",
              "Date                                                                      \n",
              "2022-01-19 14:03:49      Morgan Stanley      Overweight               main\n",
              "2022-01-26 11:51:52         RBC Capital      Outperform               main\n",
              "2022-02-03 09:37:12             Keybanc      Overweight               main\n",
              "2022-02-03 10:23:02       Raymond James      Outperform  Strong Buy   down\n",
              "2022-02-03 10:24:52         BMO Capital  Market Perform  Outperform   down\n",
              "...                                 ...             ...         ...    ...\n",
              "2023-01-18 14:18:33      Morgan Stanley    Equal-Weight               main\n",
              "2023-01-20 14:44:30        MKM Partners             Buy               main\n",
              "2023-01-25 12:32:25       Credit Suisse      Outperform               main\n",
              "2023-01-26 11:13:04       Piper Sandler         Neutral               main\n",
              "2023-01-31 15:54:01  LightShed Partners             Buy               init\n",
              "\n",
              "[141 rows x 4 columns]"
            ]
          },
          "execution_count": 21,
          "metadata": {},
          "output_type": "execute_result"
        }
      ],
      "source": [
        "ticker.recommendations"
      ]
    },
    {
      "cell_type": "raw",
      "id": "9c212dc5-d247-4159-90f8-cf82b3e7b9ef",
      "metadata": {
        "id": "9c212dc5-d247-4159-90f8-cf82b3e7b9ef"
      },
      "source": [
        "recommendations – This method contains a historical list of recommendations made by different analysts regarding the stock and whether to buy sell or give suggestions on it."
      ]
    },
    {
      "cell_type": "code",
      "execution_count": null,
      "id": "362eb8ce-d063-4285-9194-f3b4023fd9a0",
      "metadata": {
        "id": "362eb8ce-d063-4285-9194-f3b4023fd9a0",
        "outputId": "f461b0cb-c520-4f26-be29-b0f38b021fea"
      },
      "outputs": [
        {
          "data": {
            "text/html": [
              "<div>\n",
              "<style scoped>\n",
              "    .dataframe tbody tr th:only-of-type {\n",
              "        vertical-align: middle;\n",
              "    }\n",
              "\n",
              "    .dataframe tbody tr th {\n",
              "        vertical-align: top;\n",
              "    }\n",
              "\n",
              "    .dataframe thead th {\n",
              "        text-align: right;\n",
              "    }\n",
              "</style>\n",
              "<table border=\"1\" class=\"dataframe\">\n",
              "  <thead>\n",
              "    <tr style=\"text-align: right;\">\n",
              "      <th></th>\n",
              "      <th>Dividends</th>\n",
              "      <th>Stock Splits</th>\n",
              "    </tr>\n",
              "    <tr>\n",
              "      <th>Date</th>\n",
              "      <th></th>\n",
              "      <th></th>\n",
              "    </tr>\n",
              "  </thead>\n",
              "  <tbody>\n",
              "  </tbody>\n",
              "</table>\n",
              "</div>"
            ],
            "text/plain": [
              "Empty DataFrame\n",
              "Columns: [Dividends, Stock Splits]\n",
              "Index: []"
            ]
          },
          "execution_count": 22,
          "metadata": {},
          "output_type": "execute_result"
        }
      ],
      "source": [
        "ticker.actions"
      ]
    },
    {
      "cell_type": "markdown",
      "id": "bce00b5b-7d7e-4619-b21d-f9ff08a70fee",
      "metadata": {
        "id": "bce00b5b-7d7e-4619-b21d-f9ff08a70fee"
      },
      "source": [
        "actions – This displays the actions like splits and dividends."
      ]
    },
    {
      "cell_type": "code",
      "execution_count": null,
      "id": "88fbb58d-79c7-455d-a650-4b547577f7f1",
      "metadata": {
        "id": "88fbb58d-79c7-455d-a650-4b547577f7f1",
        "outputId": "5b60f17c-ffbd-4bd2-8e72-35f39e9d0228"
      },
      "outputs": [
        {
          "data": {
            "text/html": [
              "<div>\n",
              "<style scoped>\n",
              "    .dataframe tbody tr th:only-of-type {\n",
              "        vertical-align: middle;\n",
              "    }\n",
              "\n",
              "    .dataframe tbody tr th {\n",
              "        vertical-align: top;\n",
              "    }\n",
              "\n",
              "    .dataframe thead th {\n",
              "        text-align: right;\n",
              "    }\n",
              "</style>\n",
              "<table border=\"1\" class=\"dataframe\">\n",
              "  <thead>\n",
              "    <tr style=\"text-align: right;\">\n",
              "      <th></th>\n",
              "      <th>0</th>\n",
              "      <th>1</th>\n",
              "    </tr>\n",
              "  </thead>\n",
              "  <tbody>\n",
              "    <tr>\n",
              "      <th>0</th>\n",
              "      <td>0.22%</td>\n",
              "      <td>% of Shares Held by All Insider</td>\n",
              "    </tr>\n",
              "    <tr>\n",
              "      <th>1</th>\n",
              "      <td>75.93%</td>\n",
              "      <td>% of Shares Held by Institutions</td>\n",
              "    </tr>\n",
              "    <tr>\n",
              "      <th>2</th>\n",
              "      <td>76.10%</td>\n",
              "      <td>% of Float Held by Institutions</td>\n",
              "    </tr>\n",
              "    <tr>\n",
              "      <th>3</th>\n",
              "      <td>3797</td>\n",
              "      <td>Number of Institutions Holding Shares</td>\n",
              "    </tr>\n",
              "  </tbody>\n",
              "</table>\n",
              "</div>"
            ],
            "text/plain": [
              "        0                                      1\n",
              "0   0.22%        % of Shares Held by All Insider\n",
              "1  75.93%       % of Shares Held by Institutions\n",
              "2  76.10%        % of Float Held by Institutions\n",
              "3    3797  Number of Institutions Holding Shares"
            ]
          },
          "execution_count": 23,
          "metadata": {},
          "output_type": "execute_result"
        }
      ],
      "source": [
        "ticker.major_holders "
      ]
    },
    {
      "cell_type": "code",
      "execution_count": null,
      "id": "04b2169a-f6de-49a1-b63b-0dd92041a260",
      "metadata": {
        "id": "04b2169a-f6de-49a1-b63b-0dd92041a260",
        "outputId": "15814aef-04af-4ef3-aae1-bc3b2f1c59a2"
      },
      "outputs": [
        {
          "data": {
            "text/html": [
              "<div>\n",
              "<style scoped>\n",
              "    .dataframe tbody tr th:only-of-type {\n",
              "        vertical-align: middle;\n",
              "    }\n",
              "\n",
              "    .dataframe tbody tr th {\n",
              "        vertical-align: top;\n",
              "    }\n",
              "\n",
              "    .dataframe thead th {\n",
              "        text-align: right;\n",
              "    }\n",
              "</style>\n",
              "<table border=\"1\" class=\"dataframe\">\n",
              "  <thead>\n",
              "    <tr style=\"text-align: right;\">\n",
              "      <th></th>\n",
              "      <th>Holder</th>\n",
              "      <th>Shares</th>\n",
              "      <th>Date Reported</th>\n",
              "      <th>% Out</th>\n",
              "      <th>Value</th>\n",
              "    </tr>\n",
              "  </thead>\n",
              "  <tbody>\n",
              "    <tr>\n",
              "      <th>0</th>\n",
              "      <td>Vanguard Group, Inc. (The)</td>\n",
              "      <td>181346878</td>\n",
              "      <td>2022-09-29</td>\n",
              "      <td>0.0804</td>\n",
              "      <td>26881046951</td>\n",
              "    </tr>\n",
              "    <tr>\n",
              "      <th>1</th>\n",
              "      <td>Blackrock Inc.</td>\n",
              "      <td>150686534</td>\n",
              "      <td>2022-09-29</td>\n",
              "      <td>0.0668</td>\n",
              "      <td>22336264291</td>\n",
              "    </tr>\n",
              "    <tr>\n",
              "      <th>2</th>\n",
              "      <td>FMR, LLC</td>\n",
              "      <td>115273519</td>\n",
              "      <td>2022-09-29</td>\n",
              "      <td>0.0511</td>\n",
              "      <td>17086993228</td>\n",
              "    </tr>\n",
              "    <tr>\n",
              "      <th>3</th>\n",
              "      <td>State Street Corporation</td>\n",
              "      <td>89417436</td>\n",
              "      <td>2022-09-29</td>\n",
              "      <td>0.0396</td>\n",
              "      <td>13254346156</td>\n",
              "    </tr>\n",
              "    <tr>\n",
              "      <th>4</th>\n",
              "      <td>Price (T.Rowe) Associates Inc</td>\n",
              "      <td>46950755</td>\n",
              "      <td>2022-09-29</td>\n",
              "      <td>0.0208</td>\n",
              "      <td>6959510213</td>\n",
              "    </tr>\n",
              "    <tr>\n",
              "      <th>5</th>\n",
              "      <td>Capital International Investors</td>\n",
              "      <td>45778906</td>\n",
              "      <td>2022-09-29</td>\n",
              "      <td>0.0203</td>\n",
              "      <td>6785807040</td>\n",
              "    </tr>\n",
              "    <tr>\n",
              "      <th>6</th>\n",
              "      <td>Geode Capital Management, LLC</td>\n",
              "      <td>43672819</td>\n",
              "      <td>2022-09-29</td>\n",
              "      <td>0.0194</td>\n",
              "      <td>6473621773</td>\n",
              "    </tr>\n",
              "    <tr>\n",
              "      <th>7</th>\n",
              "      <td>Capital World Investors</td>\n",
              "      <td>32368464</td>\n",
              "      <td>2022-09-29</td>\n",
              "      <td>0.0144</td>\n",
              "      <td>4797977280</td>\n",
              "    </tr>\n",
              "    <tr>\n",
              "      <th>8</th>\n",
              "      <td>Morgan Stanley</td>\n",
              "      <td>30548462</td>\n",
              "      <td>2022-09-29</td>\n",
              "      <td>0.0135</td>\n",
              "      <td>4528198391</td>\n",
              "    </tr>\n",
              "    <tr>\n",
              "      <th>9</th>\n",
              "      <td>Capital Research Global Investors</td>\n",
              "      <td>30152317</td>\n",
              "      <td>2022-09-29</td>\n",
              "      <td>0.0134</td>\n",
              "      <td>4469477820</td>\n",
              "    </tr>\n",
              "  </tbody>\n",
              "</table>\n",
              "</div>"
            ],
            "text/plain": [
              "                              Holder     Shares Date Reported   % Out  \\\n",
              "0         Vanguard Group, Inc. (The)  181346878    2022-09-29  0.0804   \n",
              "1                     Blackrock Inc.  150686534    2022-09-29  0.0668   \n",
              "2                           FMR, LLC  115273519    2022-09-29  0.0511   \n",
              "3           State Street Corporation   89417436    2022-09-29  0.0396   \n",
              "4      Price (T.Rowe) Associates Inc   46950755    2022-09-29  0.0208   \n",
              "5    Capital International Investors   45778906    2022-09-29  0.0203   \n",
              "6      Geode Capital Management, LLC   43672819    2022-09-29  0.0194   \n",
              "7            Capital World Investors   32368464    2022-09-29  0.0144   \n",
              "8                     Morgan Stanley   30548462    2022-09-29  0.0135   \n",
              "9  Capital Research Global Investors   30152317    2022-09-29  0.0134   \n",
              "\n",
              "         Value  \n",
              "0  26881046951  \n",
              "1  22336264291  \n",
              "2  17086993228  \n",
              "3  13254346156  \n",
              "4   6959510213  \n",
              "5   6785807040  \n",
              "6   6473621773  \n",
              "7   4797977280  \n",
              "8   4528198391  \n",
              "9   4469477820  "
            ]
          },
          "execution_count": 24,
          "metadata": {},
          "output_type": "execute_result"
        }
      ],
      "source": [
        "ticker.institutional_holders"
      ]
    },
    {
      "cell_type": "code",
      "execution_count": null,
      "id": "4122f9d7-0a5a-4a4e-a102-bc0d934d0056",
      "metadata": {
        "id": "4122f9d7-0a5a-4a4e-a102-bc0d934d0056",
        "outputId": "8f2d4497-a119-49a6-a55b-1c8e9629ddb0"
      },
      "outputs": [
        {
          "data": {
            "text/html": [
              "<div>\n",
              "<style scoped>\n",
              "    .dataframe tbody tr th:only-of-type {\n",
              "        vertical-align: middle;\n",
              "    }\n",
              "\n",
              "    .dataframe tbody tr th {\n",
              "        vertical-align: top;\n",
              "    }\n",
              "\n",
              "    .dataframe thead th {\n",
              "        text-align: right;\n",
              "    }\n",
              "</style>\n",
              "<table border=\"1\" class=\"dataframe\">\n",
              "  <thead>\n",
              "    <tr style=\"text-align: right;\">\n",
              "      <th></th>\n",
              "      <th>Value</th>\n",
              "    </tr>\n",
              "  </thead>\n",
              "  <tbody>\n",
              "    <tr>\n",
              "      <th>Earnings Date</th>\n",
              "      <td>2023-02-01 21:00:00</td>\n",
              "    </tr>\n",
              "    <tr>\n",
              "      <th>Earnings Average</th>\n",
              "      <td>2.22</td>\n",
              "    </tr>\n",
              "    <tr>\n",
              "      <th>Earnings Low</th>\n",
              "      <td>1.41</td>\n",
              "    </tr>\n",
              "    <tr>\n",
              "      <th>Earnings High</th>\n",
              "      <td>2.68</td>\n",
              "    </tr>\n",
              "    <tr>\n",
              "      <th>Revenue Average</th>\n",
              "      <td>31529300000</td>\n",
              "    </tr>\n",
              "    <tr>\n",
              "      <th>Revenue Low</th>\n",
              "      <td>30007600000</td>\n",
              "    </tr>\n",
              "    <tr>\n",
              "      <th>Revenue High</th>\n",
              "      <td>32651000000</td>\n",
              "    </tr>\n",
              "  </tbody>\n",
              "</table>\n",
              "</div>"
            ],
            "text/plain": [
              "                                Value\n",
              "Earnings Date     2023-02-01 21:00:00\n",
              "Earnings Average                 2.22\n",
              "Earnings Low                     1.41\n",
              "Earnings High                    2.68\n",
              "Revenue Average           31529300000\n",
              "Revenue Low               30007600000\n",
              "Revenue High              32651000000"
            ]
          },
          "execution_count": 25,
          "metadata": {},
          "output_type": "execute_result"
        }
      ],
      "source": [
        "ticker.calendar"
      ]
    },
    {
      "cell_type": "markdown",
      "id": "65aee328-3a09-47eb-af1b-c9646ccb5118",
      "metadata": {
        "id": "65aee328-3a09-47eb-af1b-c9646ccb5118"
      },
      "source": [
        "#### Method 2 How to use yahoofinancials"
      ]
    },
    {
      "cell_type": "code",
      "execution_count": null,
      "id": "f7ee52ed-8b50-4e50-99df-f38af0300516",
      "metadata": {
        "id": "f7ee52ed-8b50-4e50-99df-f38af0300516",
        "outputId": "dd1578e8-14d8-401d-cf16-16e606ace467"
      },
      "outputs": [
        {
          "data": {
            "text/html": [
              "<div>\n",
              "<style scoped>\n",
              "    .dataframe tbody tr th:only-of-type {\n",
              "        vertical-align: middle;\n",
              "    }\n",
              "\n",
              "    .dataframe tbody tr th {\n",
              "        vertical-align: top;\n",
              "    }\n",
              "\n",
              "    .dataframe thead th {\n",
              "        text-align: right;\n",
              "    }\n",
              "</style>\n",
              "<table border=\"1\" class=\"dataframe\">\n",
              "  <thead>\n",
              "    <tr style=\"text-align: right;\">\n",
              "      <th></th>\n",
              "      <th>high</th>\n",
              "      <th>low</th>\n",
              "      <th>open</th>\n",
              "      <th>close</th>\n",
              "      <th>volume</th>\n",
              "      <th>adjclose</th>\n",
              "    </tr>\n",
              "    <tr>\n",
              "      <th>formatted_date</th>\n",
              "      <th></th>\n",
              "      <th></th>\n",
              "      <th></th>\n",
              "      <th></th>\n",
              "      <th></th>\n",
              "      <th></th>\n",
              "    </tr>\n",
              "  </thead>\n",
              "  <tbody>\n",
              "    <tr>\n",
              "      <th>2022-01-01</th>\n",
              "      <td>182.940002</td>\n",
              "      <td>171.029999</td>\n",
              "      <td>177.830002</td>\n",
              "      <td>172.169998</td>\n",
              "      <td>481949000</td>\n",
              "      <td>171.176544</td>\n",
              "    </tr>\n",
              "    <tr>\n",
              "      <th>2022-01-08</th>\n",
              "      <td>177.179993</td>\n",
              "      <td>168.169998</td>\n",
              "      <td>169.080002</td>\n",
              "      <td>173.070007</td>\n",
              "      <td>422655700</td>\n",
              "      <td>172.071350</td>\n",
              "    </tr>\n",
              "    <tr>\n",
              "      <th>2022-01-15</th>\n",
              "      <td>172.539993</td>\n",
              "      <td>162.300003</td>\n",
              "      <td>171.509995</td>\n",
              "      <td>162.410004</td>\n",
              "      <td>400041100</td>\n",
              "      <td>161.472855</td>\n",
              "    </tr>\n",
              "    <tr>\n",
              "      <th>2022-01-22</th>\n",
              "      <td>170.350006</td>\n",
              "      <td>154.699997</td>\n",
              "      <td>160.020004</td>\n",
              "      <td>170.330002</td>\n",
              "      <td>688258600</td>\n",
              "      <td>169.347137</td>\n",
              "    </tr>\n",
              "    <tr>\n",
              "      <th>2022-01-29</th>\n",
              "      <td>176.240005</td>\n",
              "      <td>169.509995</td>\n",
              "      <td>170.160004</td>\n",
              "      <td>172.389999</td>\n",
              "      <td>458553300</td>\n",
              "      <td>171.395264</td>\n",
              "    </tr>\n",
              "  </tbody>\n",
              "</table>\n",
              "</div>"
            ],
            "text/plain": [
              "                      high         low        open       close     volume  \\\n",
              "formatted_date                                                              \n",
              "2022-01-01      182.940002  171.029999  177.830002  172.169998  481949000   \n",
              "2022-01-08      177.179993  168.169998  169.080002  173.070007  422655700   \n",
              "2022-01-15      172.539993  162.300003  171.509995  162.410004  400041100   \n",
              "2022-01-22      170.350006  154.699997  160.020004  170.330002  688258600   \n",
              "2022-01-29      176.240005  169.509995  170.160004  172.389999  458553300   \n",
              "\n",
              "                  adjclose  \n",
              "formatted_date              \n",
              "2022-01-01      171.176544  \n",
              "2022-01-08      172.071350  \n",
              "2022-01-15      161.472855  \n",
              "2022-01-22      169.347137  \n",
              "2022-01-29      171.395264  "
            ]
          },
          "execution_count": 26,
          "metadata": {},
          "output_type": "execute_result"
        }
      ],
      "source": [
        "yahoo_financials = YahooFinancials('AAPL')\n",
        "data = yahoo_financials.get_historical_price_data(start_date='2022-01-01', \n",
        "                                                  end_date='2022-12-31', \n",
        "                                                  time_interval='weekly')\n",
        "aapl_df = pd.DataFrame(data['AAPL']['prices'])\n",
        "aapl_df = aapl_df.drop('date', axis=1).set_index('formatted_date')\n",
        "aapl_df.head()"
      ]
    },
    {
      "cell_type": "markdown",
      "id": "f21a9a5e-64b5-42c0-a188-d8db38a28eaa",
      "metadata": {
        "id": "f21a9a5e-64b5-42c0-a188-d8db38a28eaa"
      },
      "source": [
        "Coming down on a technical level, the process of obtaining a historical stock price is a bit longer than the case of yfinance but that is mostly due to the huge volume of data. Now we move onto some of the important functions of yahoofinancials.\n",
        "\n",
        "    get_stock_quote_type_data() – This method returns a lot of generic information about a stock which is similar to the yfinance info() function. The output is something like this.\n",
        "\n",
        "    get_summary_data() – This method returns a summary of the whole company along with useful data like the beta value, price to book value, and more.\n",
        "\n",
        "    get_stock_earnings_data() – THis method returns the information on the quarterly and yearly earnings of the company along with the next date when the company will report its earnings.\n",
        "\n",
        "    get_financial_stmts() – This is another useful method to retrieve financial statements of a company which is useful for the analysis of a stock\n",
        "\n",
        "    get_historical_price_data() – This is a method similar to the download() or Ticker() function to get the prices of stock with start_date, end_date and interval ranges."
      ]
    },
    {
      "cell_type": "code",
      "execution_count": null,
      "id": "a60c5585-f2d3-4f7c-ae7a-dc550b5f94e0",
      "metadata": {
        "id": "a60c5585-f2d3-4f7c-ae7a-dc550b5f94e0",
        "outputId": "d4e47d31-3304-4fc3-fa0d-89e7660377df"
      },
      "outputs": [
        {
          "data": {
            "text/html": [
              "<div>\n",
              "<style scoped>\n",
              "    .dataframe tbody tr th:only-of-type {\n",
              "        vertical-align: middle;\n",
              "    }\n",
              "\n",
              "    .dataframe tbody tr th {\n",
              "        vertical-align: top;\n",
              "    }\n",
              "\n",
              "    .dataframe thead th {\n",
              "        text-align: right;\n",
              "    }\n",
              "</style>\n",
              "<table border=\"1\" class=\"dataframe\">\n",
              "  <thead>\n",
              "    <tr style=\"text-align: right;\">\n",
              "      <th></th>\n",
              "      <th>high</th>\n",
              "      <th>low</th>\n",
              "      <th>open</th>\n",
              "      <th>close</th>\n",
              "      <th>volume</th>\n",
              "      <th>adjclose</th>\n",
              "    </tr>\n",
              "    <tr>\n",
              "      <th>formatted_date</th>\n",
              "      <th></th>\n",
              "      <th></th>\n",
              "      <th></th>\n",
              "      <th></th>\n",
              "      <th></th>\n",
              "      <th></th>\n",
              "    </tr>\n",
              "  </thead>\n",
              "  <tbody>\n",
              "    <tr>\n",
              "      <th>2019-02-01</th>\n",
              "      <td>4210.641602</td>\n",
              "      <td>3391.023682</td>\n",
              "      <td>3460.547119</td>\n",
              "      <td>3854.785400</td>\n",
              "      <td>199100675597</td>\n",
              "      <td>3854.785400</td>\n",
              "    </tr>\n",
              "    <tr>\n",
              "      <th>2019-03-01</th>\n",
              "      <td>4296.806641</td>\n",
              "      <td>3733.749756</td>\n",
              "      <td>3853.757080</td>\n",
              "      <td>4105.404297</td>\n",
              "      <td>297952790260</td>\n",
              "      <td>4105.404297</td>\n",
              "    </tr>\n",
              "    <tr>\n",
              "      <th>2019-04-01</th>\n",
              "      <td>5642.044434</td>\n",
              "      <td>4096.901367</td>\n",
              "      <td>4105.362305</td>\n",
              "      <td>5350.726562</td>\n",
              "      <td>445364556718</td>\n",
              "      <td>5350.726562</td>\n",
              "    </tr>\n",
              "    <tr>\n",
              "      <th>2019-05-01</th>\n",
              "      <td>9008.314453</td>\n",
              "      <td>5347.645996</td>\n",
              "      <td>5350.914551</td>\n",
              "      <td>8574.501953</td>\n",
              "      <td>724157870864</td>\n",
              "      <td>8574.501953</td>\n",
              "    </tr>\n",
              "    <tr>\n",
              "      <th>2019-06-01</th>\n",
              "      <td>13796.489258</td>\n",
              "      <td>7564.488770</td>\n",
              "      <td>8573.839844</td>\n",
              "      <td>10817.155273</td>\n",
              "      <td>675855385074</td>\n",
              "      <td>10817.155273</td>\n",
              "    </tr>\n",
              "    <tr>\n",
              "      <th>2019-07-01</th>\n",
              "      <td>13129.529297</td>\n",
              "      <td>9163.134766</td>\n",
              "      <td>10796.930664</td>\n",
              "      <td>10085.627930</td>\n",
              "      <td>676416326705</td>\n",
              "      <td>10085.627930</td>\n",
              "    </tr>\n",
              "    <tr>\n",
              "      <th>2019-08-01</th>\n",
              "      <td>12273.821289</td>\n",
              "      <td>9421.629883</td>\n",
              "      <td>10077.442383</td>\n",
              "      <td>9630.664062</td>\n",
              "      <td>533984971734</td>\n",
              "      <td>9630.664062</td>\n",
              "    </tr>\n",
              "    <tr>\n",
              "      <th>2019-09-01</th>\n",
              "      <td>10898.761719</td>\n",
              "      <td>7830.758789</td>\n",
              "      <td>9630.592773</td>\n",
              "      <td>8293.868164</td>\n",
              "      <td>480544963230</td>\n",
              "      <td>8293.868164</td>\n",
              "    </tr>\n",
              "    <tr>\n",
              "      <th>2019-10-01</th>\n",
              "      <td>10021.744141</td>\n",
              "      <td>7446.988770</td>\n",
              "      <td>8299.720703</td>\n",
              "      <td>9199.584961</td>\n",
              "      <td>595205134748</td>\n",
              "      <td>9199.584961</td>\n",
              "    </tr>\n",
              "    <tr>\n",
              "      <th>2019-11-01</th>\n",
              "      <td>9505.051758</td>\n",
              "      <td>6617.166992</td>\n",
              "      <td>9193.992188</td>\n",
              "      <td>7569.629883</td>\n",
              "      <td>676919523650</td>\n",
              "      <td>7569.629883</td>\n",
              "    </tr>\n",
              "    <tr>\n",
              "      <th>2019-12-01</th>\n",
              "      <td>7743.431641</td>\n",
              "      <td>6540.049316</td>\n",
              "      <td>7571.616211</td>\n",
              "      <td>7193.599121</td>\n",
              "      <td>633790373416</td>\n",
              "      <td>7193.599121</td>\n",
              "    </tr>\n",
              "    <tr>\n",
              "      <th>2020-01-01</th>\n",
              "      <td>9553.125977</td>\n",
              "      <td>6914.996094</td>\n",
              "      <td>7194.892090</td>\n",
              "      <td>9350.529297</td>\n",
              "      <td>852872174496</td>\n",
              "      <td>9350.529297</td>\n",
              "    </tr>\n",
              "    <tr>\n",
              "      <th>2020-02-01</th>\n",
              "      <td>10457.626953</td>\n",
              "      <td>8492.932617</td>\n",
              "      <td>9346.357422</td>\n",
              "      <td>8599.508789</td>\n",
              "      <td>1163376492768</td>\n",
              "      <td>8599.508789</td>\n",
              "    </tr>\n",
              "    <tr>\n",
              "      <th>2020-03-01</th>\n",
              "      <td>9167.695312</td>\n",
              "      <td>4106.980957</td>\n",
              "      <td>8599.758789</td>\n",
              "      <td>6438.644531</td>\n",
              "      <td>1290442059648</td>\n",
              "      <td>6438.644531</td>\n",
              "    </tr>\n",
              "    <tr>\n",
              "      <th>2020-04-01</th>\n",
              "      <td>9440.650391</td>\n",
              "      <td>6202.373535</td>\n",
              "      <td>6437.319336</td>\n",
              "      <td>8658.553711</td>\n",
              "      <td>1156127164831</td>\n",
              "      <td>8658.553711</td>\n",
              "    </tr>\n",
              "    <tr>\n",
              "      <th>2020-05-01</th>\n",
              "      <td>9996.743164</td>\n",
              "      <td>8374.323242</td>\n",
              "      <td>8672.782227</td>\n",
              "      <td>9461.058594</td>\n",
              "      <td>1286368141507</td>\n",
              "      <td>9461.058594</td>\n",
              "    </tr>\n",
              "    <tr>\n",
              "      <th>2020-06-01</th>\n",
              "      <td>10199.565430</td>\n",
              "      <td>8975.525391</td>\n",
              "      <td>9463.605469</td>\n",
              "      <td>9137.993164</td>\n",
              "      <td>650913318680</td>\n",
              "      <td>9137.993164</td>\n",
              "    </tr>\n",
              "    <tr>\n",
              "      <th>2020-07-01</th>\n",
              "      <td>11415.864258</td>\n",
              "      <td>8977.015625</td>\n",
              "      <td>9145.985352</td>\n",
              "      <td>11323.466797</td>\n",
              "      <td>545813339109</td>\n",
              "      <td>11323.466797</td>\n",
              "    </tr>\n",
              "    <tr>\n",
              "      <th>2020-08-01</th>\n",
              "      <td>12359.056641</td>\n",
              "      <td>11012.415039</td>\n",
              "      <td>11322.570312</td>\n",
              "      <td>11680.820312</td>\n",
              "      <td>708377092130</td>\n",
              "      <td>11680.820312</td>\n",
              "    </tr>\n",
              "    <tr>\n",
              "      <th>2020-09-01</th>\n",
              "      <td>12067.081055</td>\n",
              "      <td>9916.493164</td>\n",
              "      <td>11679.316406</td>\n",
              "      <td>10784.491211</td>\n",
              "      <td>1075949438431</td>\n",
              "      <td>10784.491211</td>\n",
              "    </tr>\n",
              "    <tr>\n",
              "      <th>2020-10-01</th>\n",
              "      <td>14028.213867</td>\n",
              "      <td>10416.689453</td>\n",
              "      <td>10795.254883</td>\n",
              "      <td>13780.995117</td>\n",
              "      <td>1050874546086</td>\n",
              "      <td>13780.995117</td>\n",
              "    </tr>\n",
              "    <tr>\n",
              "      <th>2020-11-01</th>\n",
              "      <td>19749.263672</td>\n",
              "      <td>13243.160156</td>\n",
              "      <td>13780.995117</td>\n",
              "      <td>19625.835938</td>\n",
              "      <td>1093144913227</td>\n",
              "      <td>19625.835938</td>\n",
              "    </tr>\n",
              "    <tr>\n",
              "      <th>2020-12-01</th>\n",
              "      <td>29244.876953</td>\n",
              "      <td>17619.533203</td>\n",
              "      <td>19633.769531</td>\n",
              "      <td>29001.720703</td>\n",
              "      <td>1212259707946</td>\n",
              "      <td>29001.720703</td>\n",
              "    </tr>\n",
              "    <tr>\n",
              "      <th>2021-01-01</th>\n",
              "      <td>41946.738281</td>\n",
              "      <td>28722.755859</td>\n",
              "      <td>28994.009766</td>\n",
              "      <td>33114.359375</td>\n",
              "      <td>2153473433571</td>\n",
              "      <td>33114.359375</td>\n",
              "    </tr>\n",
              "    <tr>\n",
              "      <th>2021-02-01</th>\n",
              "      <td>58330.570312</td>\n",
              "      <td>32384.228516</td>\n",
              "      <td>33114.578125</td>\n",
              "      <td>45137.769531</td>\n",
              "      <td>2267152936675</td>\n",
              "      <td>45137.769531</td>\n",
              "    </tr>\n",
              "    <tr>\n",
              "      <th>2021-03-01</th>\n",
              "      <td>61683.863281</td>\n",
              "      <td>45115.093750</td>\n",
              "      <td>45159.503906</td>\n",
              "      <td>58918.832031</td>\n",
              "      <td>1681184264687</td>\n",
              "      <td>58918.832031</td>\n",
              "    </tr>\n",
              "    <tr>\n",
              "      <th>2021-04-01</th>\n",
              "      <td>64863.097656</td>\n",
              "      <td>47159.484375</td>\n",
              "      <td>58926.562500</td>\n",
              "      <td>57750.175781</td>\n",
              "      <td>1844481772417</td>\n",
              "      <td>57750.175781</td>\n",
              "    </tr>\n",
              "    <tr>\n",
              "      <th>2021-05-01</th>\n",
              "      <td>59519.355469</td>\n",
              "      <td>30681.496094</td>\n",
              "      <td>57714.664062</td>\n",
              "      <td>37332.855469</td>\n",
              "      <td>1976593438572</td>\n",
              "      <td>37332.855469</td>\n",
              "    </tr>\n",
              "    <tr>\n",
              "      <th>2021-06-01</th>\n",
              "      <td>41295.269531</td>\n",
              "      <td>28893.621094</td>\n",
              "      <td>37293.792969</td>\n",
              "      <td>35040.835938</td>\n",
              "      <td>1189647451707</td>\n",
              "      <td>35040.835938</td>\n",
              "    </tr>\n",
              "    <tr>\n",
              "      <th>2021-07-01</th>\n",
              "      <td>42235.546875</td>\n",
              "      <td>29360.955078</td>\n",
              "      <td>35035.984375</td>\n",
              "      <td>41626.195312</td>\n",
              "      <td>819103381204</td>\n",
              "      <td>41626.195312</td>\n",
              "    </tr>\n",
              "    <tr>\n",
              "      <th>2021-08-01</th>\n",
              "      <td>50482.078125</td>\n",
              "      <td>37458.003906</td>\n",
              "      <td>41460.843750</td>\n",
              "      <td>47166.687500</td>\n",
              "      <td>1014674184428</td>\n",
              "      <td>47166.687500</td>\n",
              "    </tr>\n",
              "    <tr>\n",
              "      <th>2021-09-01</th>\n",
              "      <td>52853.765625</td>\n",
              "      <td>39787.609375</td>\n",
              "      <td>47099.773438</td>\n",
              "      <td>43790.894531</td>\n",
              "      <td>1102139678824</td>\n",
              "      <td>43790.894531</td>\n",
              "    </tr>\n",
              "    <tr>\n",
              "      <th>2021-10-01</th>\n",
              "      <td>66930.390625</td>\n",
              "      <td>43320.023438</td>\n",
              "      <td>43816.742188</td>\n",
              "      <td>61318.957031</td>\n",
              "      <td>1153077903534</td>\n",
              "      <td>61318.957031</td>\n",
              "    </tr>\n",
              "    <tr>\n",
              "      <th>2021-11-01</th>\n",
              "      <td>68789.625000</td>\n",
              "      <td>53569.765625</td>\n",
              "      <td>61320.449219</td>\n",
              "      <td>57005.425781</td>\n",
              "      <td>1053270271383</td>\n",
              "      <td>57005.425781</td>\n",
              "    </tr>\n",
              "    <tr>\n",
              "      <th>2021-12-01</th>\n",
              "      <td>59041.683594</td>\n",
              "      <td>42874.617188</td>\n",
              "      <td>56907.964844</td>\n",
              "      <td>46306.445312</td>\n",
              "      <td>957047184722</td>\n",
              "      <td>46306.445312</td>\n",
              "    </tr>\n",
              "    <tr>\n",
              "      <th>2022-01-01</th>\n",
              "      <td>47881.406250</td>\n",
              "      <td>33184.058594</td>\n",
              "      <td>46311.746094</td>\n",
              "      <td>38483.125000</td>\n",
              "      <td>923979037681</td>\n",
              "      <td>38483.125000</td>\n",
              "    </tr>\n",
              "    <tr>\n",
              "      <th>2022-02-01</th>\n",
              "      <td>45661.171875</td>\n",
              "      <td>34459.218750</td>\n",
              "      <td>38481.765625</td>\n",
              "      <td>43193.234375</td>\n",
              "      <td>671335993325</td>\n",
              "      <td>43193.234375</td>\n",
              "    </tr>\n",
              "    <tr>\n",
              "      <th>2022-03-01</th>\n",
              "      <td>48086.835938</td>\n",
              "      <td>37260.203125</td>\n",
              "      <td>43194.503906</td>\n",
              "      <td>45538.675781</td>\n",
              "      <td>830943838435</td>\n",
              "      <td>45538.675781</td>\n",
              "    </tr>\n",
              "    <tr>\n",
              "      <th>2022-04-01</th>\n",
              "      <td>47313.476562</td>\n",
              "      <td>37697.941406</td>\n",
              "      <td>45554.164062</td>\n",
              "      <td>37714.875000</td>\n",
              "      <td>830115888649</td>\n",
              "      <td>37714.875000</td>\n",
              "    </tr>\n",
              "    <tr>\n",
              "      <th>2022-05-01</th>\n",
              "      <td>39902.949219</td>\n",
              "      <td>26350.490234</td>\n",
              "      <td>37713.265625</td>\n",
              "      <td>31792.310547</td>\n",
              "      <td>1105689315990</td>\n",
              "      <td>31792.310547</td>\n",
              "    </tr>\n",
              "    <tr>\n",
              "      <th>2022-06-01</th>\n",
              "      <td>31957.285156</td>\n",
              "      <td>17708.623047</td>\n",
              "      <td>31792.554688</td>\n",
              "      <td>19784.726562</td>\n",
              "      <td>923939211678</td>\n",
              "      <td>19784.726562</td>\n",
              "    </tr>\n",
              "    <tr>\n",
              "      <th>2022-07-01</th>\n",
              "      <td>24572.580078</td>\n",
              "      <td>18966.951172</td>\n",
              "      <td>19820.470703</td>\n",
              "      <td>23336.896484</td>\n",
              "      <td>927582363389</td>\n",
              "      <td>23336.896484</td>\n",
              "    </tr>\n",
              "    <tr>\n",
              "      <th>2022-08-01</th>\n",
              "      <td>25135.589844</td>\n",
              "      <td>19600.785156</td>\n",
              "      <td>23336.718750</td>\n",
              "      <td>20049.763672</td>\n",
              "      <td>894192654543</td>\n",
              "      <td>20049.763672</td>\n",
              "    </tr>\n",
              "    <tr>\n",
              "      <th>2022-09-01</th>\n",
              "      <td>22673.820312</td>\n",
              "      <td>18290.314453</td>\n",
              "      <td>20050.498047</td>\n",
              "      <td>19431.789062</td>\n",
              "      <td>1123272250385</td>\n",
              "      <td>19431.789062</td>\n",
              "    </tr>\n",
              "    <tr>\n",
              "      <th>2022-10-01</th>\n",
              "      <td>20988.394531</td>\n",
              "      <td>18319.822266</td>\n",
              "      <td>19431.105469</td>\n",
              "      <td>20495.773438</td>\n",
              "      <td>957903424925</td>\n",
              "      <td>20495.773438</td>\n",
              "    </tr>\n",
              "    <tr>\n",
              "      <th>2022-11-01</th>\n",
              "      <td>21446.886719</td>\n",
              "      <td>15599.046875</td>\n",
              "      <td>20494.898438</td>\n",
              "      <td>17168.566406</td>\n",
              "      <td>1224531549126</td>\n",
              "      <td>17168.566406</td>\n",
              "    </tr>\n",
              "    <tr>\n",
              "      <th>2022-12-01</th>\n",
              "      <td>18318.531250</td>\n",
              "      <td>16398.136719</td>\n",
              "      <td>17168.001953</td>\n",
              "      <td>16547.496094</td>\n",
              "      <td>541356716034</td>\n",
              "      <td>16547.496094</td>\n",
              "    </tr>\n",
              "  </tbody>\n",
              "</table>\n",
              "</div>"
            ],
            "text/plain": [
              "                        high           low          open         close  \\\n",
              "formatted_date                                                           \n",
              "2019-02-01       4210.641602   3391.023682   3460.547119   3854.785400   \n",
              "2019-03-01       4296.806641   3733.749756   3853.757080   4105.404297   \n",
              "2019-04-01       5642.044434   4096.901367   4105.362305   5350.726562   \n",
              "2019-05-01       9008.314453   5347.645996   5350.914551   8574.501953   \n",
              "2019-06-01      13796.489258   7564.488770   8573.839844  10817.155273   \n",
              "2019-07-01      13129.529297   9163.134766  10796.930664  10085.627930   \n",
              "2019-08-01      12273.821289   9421.629883  10077.442383   9630.664062   \n",
              "2019-09-01      10898.761719   7830.758789   9630.592773   8293.868164   \n",
              "2019-10-01      10021.744141   7446.988770   8299.720703   9199.584961   \n",
              "2019-11-01       9505.051758   6617.166992   9193.992188   7569.629883   \n",
              "2019-12-01       7743.431641   6540.049316   7571.616211   7193.599121   \n",
              "2020-01-01       9553.125977   6914.996094   7194.892090   9350.529297   \n",
              "2020-02-01      10457.626953   8492.932617   9346.357422   8599.508789   \n",
              "2020-03-01       9167.695312   4106.980957   8599.758789   6438.644531   \n",
              "2020-04-01       9440.650391   6202.373535   6437.319336   8658.553711   \n",
              "2020-05-01       9996.743164   8374.323242   8672.782227   9461.058594   \n",
              "2020-06-01      10199.565430   8975.525391   9463.605469   9137.993164   \n",
              "2020-07-01      11415.864258   8977.015625   9145.985352  11323.466797   \n",
              "2020-08-01      12359.056641  11012.415039  11322.570312  11680.820312   \n",
              "2020-09-01      12067.081055   9916.493164  11679.316406  10784.491211   \n",
              "2020-10-01      14028.213867  10416.689453  10795.254883  13780.995117   \n",
              "2020-11-01      19749.263672  13243.160156  13780.995117  19625.835938   \n",
              "2020-12-01      29244.876953  17619.533203  19633.769531  29001.720703   \n",
              "2021-01-01      41946.738281  28722.755859  28994.009766  33114.359375   \n",
              "2021-02-01      58330.570312  32384.228516  33114.578125  45137.769531   \n",
              "2021-03-01      61683.863281  45115.093750  45159.503906  58918.832031   \n",
              "2021-04-01      64863.097656  47159.484375  58926.562500  57750.175781   \n",
              "2021-05-01      59519.355469  30681.496094  57714.664062  37332.855469   \n",
              "2021-06-01      41295.269531  28893.621094  37293.792969  35040.835938   \n",
              "2021-07-01      42235.546875  29360.955078  35035.984375  41626.195312   \n",
              "2021-08-01      50482.078125  37458.003906  41460.843750  47166.687500   \n",
              "2021-09-01      52853.765625  39787.609375  47099.773438  43790.894531   \n",
              "2021-10-01      66930.390625  43320.023438  43816.742188  61318.957031   \n",
              "2021-11-01      68789.625000  53569.765625  61320.449219  57005.425781   \n",
              "2021-12-01      59041.683594  42874.617188  56907.964844  46306.445312   \n",
              "2022-01-01      47881.406250  33184.058594  46311.746094  38483.125000   \n",
              "2022-02-01      45661.171875  34459.218750  38481.765625  43193.234375   \n",
              "2022-03-01      48086.835938  37260.203125  43194.503906  45538.675781   \n",
              "2022-04-01      47313.476562  37697.941406  45554.164062  37714.875000   \n",
              "2022-05-01      39902.949219  26350.490234  37713.265625  31792.310547   \n",
              "2022-06-01      31957.285156  17708.623047  31792.554688  19784.726562   \n",
              "2022-07-01      24572.580078  18966.951172  19820.470703  23336.896484   \n",
              "2022-08-01      25135.589844  19600.785156  23336.718750  20049.763672   \n",
              "2022-09-01      22673.820312  18290.314453  20050.498047  19431.789062   \n",
              "2022-10-01      20988.394531  18319.822266  19431.105469  20495.773438   \n",
              "2022-11-01      21446.886719  15599.046875  20494.898438  17168.566406   \n",
              "2022-12-01      18318.531250  16398.136719  17168.001953  16547.496094   \n",
              "\n",
              "                       volume      adjclose  \n",
              "formatted_date                               \n",
              "2019-02-01       199100675597   3854.785400  \n",
              "2019-03-01       297952790260   4105.404297  \n",
              "2019-04-01       445364556718   5350.726562  \n",
              "2019-05-01       724157870864   8574.501953  \n",
              "2019-06-01       675855385074  10817.155273  \n",
              "2019-07-01       676416326705  10085.627930  \n",
              "2019-08-01       533984971734   9630.664062  \n",
              "2019-09-01       480544963230   8293.868164  \n",
              "2019-10-01       595205134748   9199.584961  \n",
              "2019-11-01       676919523650   7569.629883  \n",
              "2019-12-01       633790373416   7193.599121  \n",
              "2020-01-01       852872174496   9350.529297  \n",
              "2020-02-01      1163376492768   8599.508789  \n",
              "2020-03-01      1290442059648   6438.644531  \n",
              "2020-04-01      1156127164831   8658.553711  \n",
              "2020-05-01      1286368141507   9461.058594  \n",
              "2020-06-01       650913318680   9137.993164  \n",
              "2020-07-01       545813339109  11323.466797  \n",
              "2020-08-01       708377092130  11680.820312  \n",
              "2020-09-01      1075949438431  10784.491211  \n",
              "2020-10-01      1050874546086  13780.995117  \n",
              "2020-11-01      1093144913227  19625.835938  \n",
              "2020-12-01      1212259707946  29001.720703  \n",
              "2021-01-01      2153473433571  33114.359375  \n",
              "2021-02-01      2267152936675  45137.769531  \n",
              "2021-03-01      1681184264687  58918.832031  \n",
              "2021-04-01      1844481772417  57750.175781  \n",
              "2021-05-01      1976593438572  37332.855469  \n",
              "2021-06-01      1189647451707  35040.835938  \n",
              "2021-07-01       819103381204  41626.195312  \n",
              "2021-08-01      1014674184428  47166.687500  \n",
              "2021-09-01      1102139678824  43790.894531  \n",
              "2021-10-01      1153077903534  61318.957031  \n",
              "2021-11-01      1053270271383  57005.425781  \n",
              "2021-12-01       957047184722  46306.445312  \n",
              "2022-01-01       923979037681  38483.125000  \n",
              "2022-02-01       671335993325  43193.234375  \n",
              "2022-03-01       830943838435  45538.675781  \n",
              "2022-04-01       830115888649  37714.875000  \n",
              "2022-05-01      1105689315990  31792.310547  \n",
              "2022-06-01       923939211678  19784.726562  \n",
              "2022-07-01       927582363389  23336.896484  \n",
              "2022-08-01       894192654543  20049.763672  \n",
              "2022-09-01      1123272250385  19431.789062  \n",
              "2022-10-01       957903424925  20495.773438  \n",
              "2022-11-01      1224531549126  17168.566406  \n",
              "2022-12-01       541356716034  16547.496094  "
            ]
          },
          "execution_count": 27,
          "metadata": {},
          "output_type": "execute_result"
        }
      ],
      "source": [
        "yahoo_financials = YahooFinancials('BTC-USD')\n",
        "data=yahoo_financials.get_historical_price_data(\"2019-01-10\", \"2022-12-31\", \"monthly\")\n",
        "btc_df = pd.DataFrame(data['BTC-USD']['prices'])\n",
        "btc_df = btc_df.drop('date', axis=1).set_index('formatted_date')\n",
        "btc_df"
      ]
    },
    {
      "cell_type": "code",
      "execution_count": null,
      "id": "e7d42bd5-9928-4f4c-b361-863e5b27f737",
      "metadata": {
        "id": "e7d42bd5-9928-4f4c-b361-863e5b27f737"
      },
      "outputs": [],
      "source": []
    }
  ],
  "metadata": {
    "kernelspec": {
      "display_name": "Python 3 (ipykernel)",
      "language": "python",
      "name": "python3"
    },
    "language_info": {
      "codemirror_mode": {
        "name": "ipython",
        "version": 3
      },
      "file_extension": ".py",
      "mimetype": "text/x-python",
      "name": "python",
      "nbconvert_exporter": "python",
      "pygments_lexer": "ipython3",
      "version": "3.8.11"
    },
    "colab": {
      "provenance": [],
      "include_colab_link": true
    }
  },
  "nbformat": 4,
  "nbformat_minor": 5
}