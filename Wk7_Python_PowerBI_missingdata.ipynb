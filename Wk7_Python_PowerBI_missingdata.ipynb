{
  "cells": [
    {
      "cell_type": "markdown",
      "metadata": {
        "id": "view-in-github",
        "colab_type": "text"
      },
      "source": [
        "<a href=\"https://colab.research.google.com/github/DATA3750/WeeklyDemo/blob/main/Wk7_Python_PowerBI_missingdata.ipynb\" target=\"_parent\"><img src=\"https://colab.research.google.com/assets/colab-badge.svg\" alt=\"Open In Colab\"/></a>"
      ]
    },
    {
      "cell_type": "markdown",
      "metadata": {
        "id": "InninZ66YrFG"
      },
      "source": [
        "# Missing Data"
      ]
    },
    {
      "cell_type": "markdown",
      "metadata": {
        "_cell_guid": "b91a74ba-85f4-486e-b5f9-d0898f0626bf",
        "_uuid": "6ac53f18b4f4ec0fc44348cedb5d1c319fa127c0",
        "id": "qj3FUAusYrFK"
      },
      "source": [
        "## Outline\n",
        "\n",
        "___________\n",
        "* [Take a first look at the data](#Take-a-first-look-at-the-data)\n",
        "* [See how many missing data points we have](#See-how-many-missing-data-points-we-have)\n",
        "* [Figure out why the data is missing](#Figure-out-why-the-data-is-missing)\n",
        "* [Drop missing values](#Drop-missing-values)\n",
        "* [Filling in missing values](#Filling-in-missing-values)\n",
        "* [Export the cleaned dataset to a CSV file](#Export-the-cleaned-dataset-to-a-CSV-file) "
      ]
    },
    {
      "cell_type": "markdown",
      "metadata": {
        "_cell_guid": "5cd5061f-ae30-4837-a53b-690ffd5c5830",
        "_uuid": "9d82bf13584b8e682962fbb96131f2447d741679",
        "id": "cIKjipIuYrFM"
      },
      "source": [
        "## Take a first look at the data\n",
        "________"
      ]
    },
    {
      "cell_type": "markdown",
      "metadata": {
        "id": "NC-3SMSAYrFN"
      },
      "source": [
        "We are using a dataset of [building permits issued in San Francisco](https://data.sfgov.org/Housing-and-Buildings/Building-Permits/i98e-djp9/data)."
      ]
    },
    {
      "cell_type": "code",
      "execution_count": null,
      "metadata": {
        "_cell_guid": "135a7804-b5f5-40aa-8657-4a15774e3666",
        "_uuid": "835cbe0834b935fb0fd40c75b9c39454836f4d5f",
        "tags": [],
        "id": "1DDLxmzlYrFN",
        "outputId": "19c56462-6303-4ea0-fb59-7378f0c5d39f"
      },
      "outputs": [
        {
          "name": "stderr",
          "output_type": "stream",
          "text": [
            "C:\\Users\\DONGY\\AppData\\Local\\Temp\\ipykernel_23736\\402575328.py:7: DtypeWarning: Columns (18,22) have mixed types. Specify dtype option on import or set low_memory=False.\n",
            "  permits = pd.read_csv(\"Building_Permits.csv\")\n"
          ]
        }
      ],
      "source": [
        "# modules we'll use\n",
        "import pandas as pd\n",
        "import numpy as np\n",
        "from sklearn.impute import SimpleImputer\n",
        "\n",
        "# read in all our data\n",
        "permits = pd.read_csv(\"Building_Permits.csv\")\n",
        "\n",
        "# set seed for reproducibility\n",
        "# Setting the seed for the random number generator ensures that the same sequence of random numbers \n",
        "# will be generated every time the code is run.\n",
        "# This can be useful for testing and debugging purposes, \n",
        "# as it allows you to reproduce the same results every time you run the code.\n",
        "np.random.seed(0) "
      ]
    },
    {
      "cell_type": "markdown",
      "metadata": {
        "_cell_guid": "09b58d03-d34d-497a-b298-12a0ae962e3d",
        "_uuid": "53c84bf86149ac41b237633a1a79d6130d6a2cd4",
        "id": "nc6eRu96YrFS"
      },
      "source": [
        "Explore the data to see if there are any missing values, which will be reprsented with `NaN` or `None`."
      ]
    },
    {
      "cell_type": "code",
      "execution_count": null,
      "metadata": {
        "_cell_guid": "79c7e3d0-c299-4dcb-8224-4455121ee9b0",
        "_uuid": "d629ff2d2480ee46fbb7e2d37f6b5fab8052498a",
        "tags": [],
        "id": "FMeVdS9pYrFS",
        "outputId": "1f05c0ee-d23d-4436-e83b-5b9d4fd84bf8"
      },
      "outputs": [
        {
          "data": {
            "text/html": [
              "<div>\n",
              "<style scoped>\n",
              "    .dataframe tbody tr th:only-of-type {\n",
              "        vertical-align: middle;\n",
              "    }\n",
              "\n",
              "    .dataframe tbody tr th {\n",
              "        vertical-align: top;\n",
              "    }\n",
              "\n",
              "    .dataframe thead th {\n",
              "        text-align: right;\n",
              "    }\n",
              "</style>\n",
              "<table border=\"1\" class=\"dataframe\">\n",
              "  <thead>\n",
              "    <tr style=\"text-align: right;\">\n",
              "      <th></th>\n",
              "      <th>Permit Number</th>\n",
              "      <th>Permit Type</th>\n",
              "      <th>Permit Type Definition</th>\n",
              "      <th>Permit Creation Date</th>\n",
              "      <th>Block</th>\n",
              "      <th>Lot</th>\n",
              "      <th>Street Number</th>\n",
              "      <th>Street Number Suffix</th>\n",
              "      <th>Street Name</th>\n",
              "      <th>Street Suffix</th>\n",
              "      <th>...</th>\n",
              "      <th>Existing Construction Type</th>\n",
              "      <th>Existing Construction Type Description</th>\n",
              "      <th>Proposed Construction Type</th>\n",
              "      <th>Proposed Construction Type Description</th>\n",
              "      <th>Site Permit</th>\n",
              "      <th>Supervisor District</th>\n",
              "      <th>Neighborhoods - Analysis Boundaries</th>\n",
              "      <th>Zipcode</th>\n",
              "      <th>Location</th>\n",
              "      <th>Record ID</th>\n",
              "    </tr>\n",
              "  </thead>\n",
              "  <tbody>\n",
              "    <tr>\n",
              "      <th>43584</th>\n",
              "      <td>202209273207</td>\n",
              "      <td>8</td>\n",
              "      <td>otc alterations permit</td>\n",
              "      <td>09/27/2022</td>\n",
              "      <td>0289</td>\n",
              "      <td>004</td>\n",
              "      <td>1</td>\n",
              "      <td>NaN</td>\n",
              "      <td>Sansome</td>\n",
              "      <td>St</td>\n",
              "      <td>...</td>\n",
              "      <td>1.0</td>\n",
              "      <td>constr type 1</td>\n",
              "      <td>1.0</td>\n",
              "      <td>constr type 1</td>\n",
              "      <td>NaN</td>\n",
              "      <td>3.0</td>\n",
              "      <td>Financial District/South Beach</td>\n",
              "      <td>94104.0</td>\n",
              "      <td>POINT (-122.40135901183898 37.79043181182496)</td>\n",
              "      <td>165260067086</td>\n",
              "    </tr>\n",
              "    <tr>\n",
              "      <th>26366</th>\n",
              "      <td>202201286861</td>\n",
              "      <td>8</td>\n",
              "      <td>otc alterations permit</td>\n",
              "      <td>01/28/2022</td>\n",
              "      <td>3707</td>\n",
              "      <td>052</td>\n",
              "      <td>2</td>\n",
              "      <td>NaN</td>\n",
              "      <td>New Montgomery</td>\n",
              "      <td>St</td>\n",
              "      <td>...</td>\n",
              "      <td>1.0</td>\n",
              "      <td>constr type 1</td>\n",
              "      <td>1.0</td>\n",
              "      <td>constr type 1</td>\n",
              "      <td>NaN</td>\n",
              "      <td>6.0</td>\n",
              "      <td>Financial District/South Beach</td>\n",
              "      <td>94105.0</td>\n",
              "      <td>POINT (-122.40193430307012 37.78794073815317)</td>\n",
              "      <td>1634685164500</td>\n",
              "    </tr>\n",
              "    <tr>\n",
              "      <th>17648</th>\n",
              "      <td>202109178619</td>\n",
              "      <td>8</td>\n",
              "      <td>otc alterations permit</td>\n",
              "      <td>09/17/2021</td>\n",
              "      <td>4277</td>\n",
              "      <td>013</td>\n",
              "      <td>2789</td>\n",
              "      <td>NaN</td>\n",
              "      <td>25th</td>\n",
              "      <td>St</td>\n",
              "      <td>...</td>\n",
              "      <td>1.0</td>\n",
              "      <td>constr type 1</td>\n",
              "      <td>1.0</td>\n",
              "      <td>constr type 1</td>\n",
              "      <td>NaN</td>\n",
              "      <td>10.0</td>\n",
              "      <td>Mission</td>\n",
              "      <td>94110.0</td>\n",
              "      <td>POINT (-122.40566262423741 37.75145965266103)</td>\n",
              "      <td>1625602173128</td>\n",
              "    </tr>\n",
              "    <tr>\n",
              "      <th>47144</th>\n",
              "      <td>202211156572</td>\n",
              "      <td>8</td>\n",
              "      <td>otc alterations permit</td>\n",
              "      <td>11/15/2022</td>\n",
              "      <td>3708</td>\n",
              "      <td>096</td>\n",
              "      <td>55</td>\n",
              "      <td>NaN</td>\n",
              "      <td>02nd</td>\n",
              "      <td>St</td>\n",
              "      <td>...</td>\n",
              "      <td>1.0</td>\n",
              "      <td>constr type 1</td>\n",
              "      <td>1.0</td>\n",
              "      <td>constr type 1</td>\n",
              "      <td>NaN</td>\n",
              "      <td>6.0</td>\n",
              "      <td>Financial District/South Beach</td>\n",
              "      <td>94121.0</td>\n",
              "      <td>POINT (-122.40031877127254 37.78885628497609)</td>\n",
              "      <td>1656271394477</td>\n",
              "    </tr>\n",
              "    <tr>\n",
              "      <th>53066</th>\n",
              "      <td>202302202258</td>\n",
              "      <td>8</td>\n",
              "      <td>otc alterations permit</td>\n",
              "      <td>02/20/2023</td>\n",
              "      <td>7009</td>\n",
              "      <td>040</td>\n",
              "      <td>149</td>\n",
              "      <td>NaN</td>\n",
              "      <td>Garfield</td>\n",
              "      <td>St</td>\n",
              "      <td>...</td>\n",
              "      <td>NaN</td>\n",
              "      <td>NaN</td>\n",
              "      <td>NaN</td>\n",
              "      <td>NaN</td>\n",
              "      <td>NaN</td>\n",
              "      <td>11.0</td>\n",
              "      <td>Oceanview/Merced/Ingleside</td>\n",
              "      <td>94132.0</td>\n",
              "      <td>POINT (-122.46430977554711 37.719491032198476)</td>\n",
              "      <td>1662446217439</td>\n",
              "    </tr>\n",
              "  </tbody>\n",
              "</table>\n",
              "<p>5 rows × 43 columns</p>\n",
              "</div>"
            ],
            "text/plain": [
              "      Permit Number  Permit Type  Permit Type Definition Permit Creation Date  \\\n",
              "43584  202209273207            8  otc alterations permit           09/27/2022   \n",
              "26366  202201286861            8  otc alterations permit           01/28/2022   \n",
              "17648  202109178619            8  otc alterations permit           09/17/2021   \n",
              "47144  202211156572            8  otc alterations permit           11/15/2022   \n",
              "53066  202302202258            8  otc alterations permit           02/20/2023   \n",
              "\n",
              "      Block  Lot  Street Number Street Number Suffix     Street Name  \\\n",
              "43584  0289  004              1                  NaN         Sansome   \n",
              "26366  3707  052              2                  NaN  New Montgomery   \n",
              "17648  4277  013           2789                  NaN            25th   \n",
              "47144  3708  096             55                  NaN            02nd   \n",
              "53066  7009  040            149                  NaN        Garfield   \n",
              "\n",
              "      Street Suffix  ...  Existing Construction Type  \\\n",
              "43584            St  ...                         1.0   \n",
              "26366            St  ...                         1.0   \n",
              "17648            St  ...                         1.0   \n",
              "47144            St  ...                         1.0   \n",
              "53066            St  ...                         NaN   \n",
              "\n",
              "      Existing Construction Type Description Proposed Construction Type  \\\n",
              "43584                          constr type 1                        1.0   \n",
              "26366                          constr type 1                        1.0   \n",
              "17648                          constr type 1                        1.0   \n",
              "47144                          constr type 1                        1.0   \n",
              "53066                                    NaN                        NaN   \n",
              "\n",
              "      Proposed Construction Type Description Site Permit Supervisor District  \\\n",
              "43584                          constr type 1         NaN                 3.0   \n",
              "26366                          constr type 1         NaN                 6.0   \n",
              "17648                          constr type 1         NaN                10.0   \n",
              "47144                          constr type 1         NaN                 6.0   \n",
              "53066                                    NaN         NaN                11.0   \n",
              "\n",
              "      Neighborhoods - Analysis Boundaries  Zipcode  \\\n",
              "43584      Financial District/South Beach  94104.0   \n",
              "26366      Financial District/South Beach  94105.0   \n",
              "17648                             Mission  94110.0   \n",
              "47144      Financial District/South Beach  94121.0   \n",
              "53066          Oceanview/Merced/Ingleside  94132.0   \n",
              "\n",
              "                                             Location      Record ID  \n",
              "43584   POINT (-122.40135901183898 37.79043181182496)   165260067086  \n",
              "26366   POINT (-122.40193430307012 37.78794073815317)  1634685164500  \n",
              "17648   POINT (-122.40566262423741 37.75145965266103)  1625602173128  \n",
              "47144   POINT (-122.40031877127254 37.78885628497609)  1656271394477  \n",
              "53066  POINT (-122.46430977554711 37.719491032198476)  1662446217439  \n",
              "\n",
              "[5 rows x 43 columns]"
            ]
          },
          "execution_count": 20,
          "metadata": {},
          "output_type": "execute_result"
        }
      ],
      "source": [
        "# look at a few rows of the nfl_data file.\n",
        "permits.sample(5)"
      ]
    },
    {
      "cell_type": "markdown",
      "metadata": {
        "_cell_guid": "33656c2b-a74e-4b76-9af2-d7ecd518577b",
        "_uuid": "400b025f618cc76a39fec2537193f28ba1e49168",
        "id": "kt7t3WvrYrFT"
      },
      "source": [
        "## How many missing data points?\n",
        "___"
      ]
    },
    {
      "cell_type": "code",
      "execution_count": null,
      "metadata": {
        "_cell_guid": "a69ac02d-197b-487b-a38f-2f853d208eed",
        "_uuid": "6dc0e32180c4a3bba003e7886faf126d93affadf",
        "tags": [],
        "id": "No6yayw3YrFU",
        "outputId": "d245b65a-87d8-4994-8abc-f10015c7577b"
      },
      "outputs": [
        {
          "data": {
            "text/plain": [
              "Permit Number                                 0\n",
              "Permit Type                                   0\n",
              "Permit Type Definition                        0\n",
              "Permit Creation Date                          0\n",
              "Block                                         0\n",
              "Lot                                           0\n",
              "Street Number                                 0\n",
              "Street Number Suffix                      52704\n",
              "Street Name                                   0\n",
              "Street Suffix                               743\n",
              "Unit                                      46301\n",
              "Unit Suffix                               52738\n",
              "Description                                   5\n",
              "Current Status                                0\n",
              "Current Status Date                           0\n",
              "Filed Date                                    0\n",
              "Issued Date                                7734\n",
              "Completed Date                            28012\n",
              "First Construction Document Date          53360\n",
              "Structural Notification                   51540\n",
              "Number of Existing Stories                 3870\n",
              "Number of Proposed Stories                 4070\n",
              "Voluntary Soft-Story Retrofit             53436\n",
              "Fire Only Permit                          46203\n",
              "Permit Expiration Date                     8029\n",
              "Estimated Cost                              559\n",
              "Revised Cost                               2553\n",
              "Existing Use                               2436\n",
              "Existing Units                             9399\n",
              "Proposed Use                               2826\n",
              "Proposed Units                             9093\n",
              "Plansets                                    333\n",
              "TIDF Compliance                           53440\n",
              "Existing Construction Type                 4092\n",
              "Existing Construction Type Description     4092\n",
              "Proposed Construction Type                 4272\n",
              "Proposed Construction Type Description     4272\n",
              "Site Permit                               52446\n",
              "Supervisor District                         391\n",
              "Neighborhoods - Analysis Boundaries         391\n",
              "Zipcode                                     608\n",
              "Location                                    391\n",
              "Record ID                                     0\n",
              "dtype: int64"
            ]
          },
          "execution_count": 22,
          "metadata": {},
          "output_type": "execute_result"
        }
      ],
      "source": [
        "# get the number of missing data points per column\n",
        "missing_values_count = permits.isnull().sum()\n",
        "\n",
        "# look at the # of missing points in the first ten columns\n",
        "missing_values_count"
      ]
    },
    {
      "cell_type": "markdown",
      "metadata": {
        "_cell_guid": "84455c7e-6c63-4e08-a7b4-7520a61072f9",
        "_uuid": "054ba8782a7b0555336eddb90c985fb638beac4d",
        "id": "7OLLiOICYrFV"
      },
      "source": [
        "That seems like a lot! It might be helpful to see what percentage of the values in our dataset were missing to give us a better sense of the scale of this problem:"
      ]
    },
    {
      "cell_type": "code",
      "execution_count": null,
      "metadata": {
        "_cell_guid": "fb77dd56-192e-48be-8181-2082985dd5a2",
        "_uuid": "d6e65ba197893f29d9dce0b0cd1c75017b60db09",
        "tags": [],
        "id": "LGUCr-r9YrFW",
        "outputId": "e14a520a-405b-4001-925b-b88d16741ae4"
      },
      "outputs": [
        {
          "data": {
            "text/plain": [
              "24.384617393120735"
            ]
          },
          "execution_count": 23,
          "metadata": {},
          "output_type": "execute_result"
        }
      ],
      "source": [
        "# how many total missing values do we have?\n",
        "total_cells = np.product(permits.shape)\n",
        "total_missing = missing_values_count.sum()\n",
        "\n",
        "# percent of data that is missing\n",
        "(total_missing/total_cells) * 100"
      ]
    },
    {
      "cell_type": "markdown",
      "metadata": {
        "_cell_guid": "31daa324-9215-4930-985c-01dee717b6b8",
        "_uuid": "3331fa42efa16f3db2e8e196411f351c5f8309f5",
        "id": "Wi-chl6BYrFX"
      },
      "source": [
        "Almost a quarter of the cells in this dataset are empty! "
      ]
    },
    {
      "cell_type": "markdown",
      "metadata": {
        "id": "dVC0E91NYrFX"
      },
      "source": [
        "## Why is the data missing?\n",
        "____"
      ]
    },
    {
      "cell_type": "markdown",
      "metadata": {
        "_cell_guid": "62b9f021-5b80-43e2-bf60-8e0d5e22d572",
        "_uuid": "032a618abb98a28e60ab84376cf21402178f995d",
        "id": "k9kSNdE6YrFY"
      },
      "source": [
        "For dealing with missing values, you'll need to use your intution to figure out why the value is missing. One of the most important question you can ask yourself to help figure this out is this:\n",
        "\n",
        "> **Is this value missing becuase it wasn't recorded or becuase it dosen't exist?**\n",
        "\n",
        "If a value is missing becuase it doens't exist (like the height of the oldest child of someone who doesn't have any children) then it doesn't make sense to try and guess what it might be. These values you probalby do want to keep as NaN. \n",
        "\n",
        "On the other hand, if a value is missing becuase it wasn't recorded, then you can try to guess what it might have been based on the other values in that column and row. (This is called \"imputation\".)\n"
      ]
    },
    {
      "cell_type": "markdown",
      "metadata": {
        "id": "NjkQfKMvYrFZ"
      },
      "source": [
        "Looking at the number of missing values in the permits dataframe, we can see that the columns `Street Number Suffix` and `zipcode` have a lot of missing values."
      ]
    },
    {
      "cell_type": "code",
      "execution_count": null,
      "metadata": {
        "_cell_guid": "77739e82-8d32-4374-84bf-a924b6065168",
        "_uuid": "b65aea6046964806e44422c057bce8bd7f8e59d5",
        "tags": [],
        "id": "Q4S8vJ-LYrFZ",
        "outputId": "a1785a9b-52b1-4dac-8a99-d29950445c89"
      },
      "outputs": [
        {
          "data": {
            "text/plain": [
              "Street Number Suffix                      52704\n",
              "Street Name                                   0\n",
              "Street Suffix                               743\n",
              "Unit                                      46301\n",
              "Unit Suffix                               52738\n",
              "Description                                   5\n",
              "Current Status                                0\n",
              "Current Status Date                           0\n",
              "Filed Date                                    0\n",
              "Issued Date                                7734\n",
              "Completed Date                            28012\n",
              "First Construction Document Date          53360\n",
              "Structural Notification                   51540\n",
              "Number of Existing Stories                 3870\n",
              "Number of Proposed Stories                 4070\n",
              "Voluntary Soft-Story Retrofit             53436\n",
              "Fire Only Permit                          46203\n",
              "Permit Expiration Date                     8029\n",
              "Estimated Cost                              559\n",
              "Revised Cost                               2553\n",
              "Existing Use                               2436\n",
              "Existing Units                             9399\n",
              "Proposed Use                               2826\n",
              "Proposed Units                             9093\n",
              "Plansets                                    333\n",
              "TIDF Compliance                           53440\n",
              "Existing Construction Type                 4092\n",
              "Existing Construction Type Description     4092\n",
              "Proposed Construction Type                 4272\n",
              "Proposed Construction Type Description     4272\n",
              "Site Permit                               52446\n",
              "Supervisor District                         391\n",
              "Neighborhoods - Analysis Boundaries         391\n",
              "Zipcode                                     608\n",
              "Location                                    391\n",
              "Record ID                                     0\n",
              "dtype: int64"
            ]
          },
          "execution_count": 26,
          "metadata": {},
          "output_type": "execute_result"
        }
      ],
      "source": [
        "# look at the # of missing points.\n",
        "missing_values_count[7:]"
      ]
    },
    {
      "cell_type": "markdown",
      "metadata": {
        "_cell_guid": "1b17f4c9-dcab-4857-82f9-a2534e804c91",
        "_uuid": "5cff158285ab37a89b80dcc35d5c690cdb42d3a4",
        "id": "UwFE1HRXYrFa"
      },
      "source": [
        "This is the time to dig into the [the documentation](https://data.sfgov.org/Housing-and-Buildings/Building-Permits/i98e-djp9/data). [Data dictionary](https://data.sfgov.org/api/views/i98e-djp9/files/0bff3a42-53fd-4aaa-b99f-32a289bd8aa6?download=true&filename=DBI-0002_DataDictionary-building-permits.xlsx) is useful, too.\n",
        "\n",
        "> **Tip:** This is a great place to read over the dataset documentation if you haven't already! If you're working with a dataset that you've gotten from another person, you can also try reaching out to them to get more information.\n",
        "\n",
        "If you're doing very careful data analysis, this is the point at which you'd look at each column individually to figure out the best strategy for filling those missing values."
      ]
    },
    {
      "cell_type": "markdown",
      "metadata": {
        "id": "L1vCpKuwYrFb"
      },
      "source": [
        "* Look at the columns `Street Number Suffix` and `Zipcode` from the `permits` datasets. Both of these contain missing values. Which, if either, of these are missing because they don't exist? Which, if either, are missing because they weren't recorded?"
      ]
    },
    {
      "cell_type": "markdown",
      "metadata": {
        "_cell_guid": "ea022b62-6419-47e7-973e-c3e707e2795f",
        "_uuid": "3f72f46f2464c7cd12f5eb2a752746ce1cd0b5a7",
        "id": "xMvjGrZCYrFb"
      },
      "source": [
        "## Drop missing values?\n",
        "___"
      ]
    },
    {
      "cell_type": "markdown",
      "metadata": {
        "id": "a40_xH9OYrFc"
      },
      "source": [
        "If you could not figure out why the values are missing, one option is to just remove any rows or columns that contain missing values. \n",
        "\n",
        "> **Note**: I don't generally recommend this approch for important projects! It's usually worth it to take the time to go through your data and really look at all the columns with missing values one-by-one to really get to know your dataset.  \n",
        "\n",
        "If you're sure you want to drop rows with missing values, pandas does have a handy function, `dropna()` to help you do this. "
      ]
    },
    {
      "cell_type": "code",
      "execution_count": null,
      "metadata": {
        "_cell_guid": "ad0ac9a2-2854-4bb7-8886-8eee7fad8756",
        "_uuid": "ad8ef7825ba9bce3472a47d7c5242a4522f14065",
        "tags": [],
        "id": "fVIvIN1bYrFc",
        "outputId": "3dc3b924-2e5a-4178-cec5-5786b11eddf8"
      },
      "outputs": [
        {
          "data": {
            "text/html": [
              "<div>\n",
              "<style scoped>\n",
              "    .dataframe tbody tr th:only-of-type {\n",
              "        vertical-align: middle;\n",
              "    }\n",
              "\n",
              "    .dataframe tbody tr th {\n",
              "        vertical-align: top;\n",
              "    }\n",
              "\n",
              "    .dataframe thead th {\n",
              "        text-align: right;\n",
              "    }\n",
              "</style>\n",
              "<table border=\"1\" class=\"dataframe\">\n",
              "  <thead>\n",
              "    <tr style=\"text-align: right;\">\n",
              "      <th></th>\n",
              "      <th>Permit Number</th>\n",
              "      <th>Permit Type</th>\n",
              "      <th>Permit Type Definition</th>\n",
              "      <th>Permit Creation Date</th>\n",
              "      <th>Block</th>\n",
              "      <th>Lot</th>\n",
              "      <th>Street Number</th>\n",
              "      <th>Street Number Suffix</th>\n",
              "      <th>Street Name</th>\n",
              "      <th>Street Suffix</th>\n",
              "      <th>...</th>\n",
              "      <th>Existing Construction Type</th>\n",
              "      <th>Existing Construction Type Description</th>\n",
              "      <th>Proposed Construction Type</th>\n",
              "      <th>Proposed Construction Type Description</th>\n",
              "      <th>Site Permit</th>\n",
              "      <th>Supervisor District</th>\n",
              "      <th>Neighborhoods - Analysis Boundaries</th>\n",
              "      <th>Zipcode</th>\n",
              "      <th>Location</th>\n",
              "      <th>Record ID</th>\n",
              "    </tr>\n",
              "  </thead>\n",
              "  <tbody>\n",
              "  </tbody>\n",
              "</table>\n",
              "<p>0 rows × 43 columns</p>\n",
              "</div>"
            ],
            "text/plain": [
              "Empty DataFrame\n",
              "Columns: [Permit Number, Permit Type, Permit Type Definition, Permit Creation Date, Block, Lot, Street Number, Street Number Suffix, Street Name, Street Suffix, Unit, Unit Suffix, Description, Current Status, Current Status Date, Filed Date, Issued Date, Completed Date, First Construction Document Date, Structural Notification, Number of Existing Stories, Number of Proposed Stories, Voluntary Soft-Story Retrofit, Fire Only Permit, Permit Expiration Date, Estimated Cost, Revised Cost, Existing Use, Existing Units, Proposed Use, Proposed Units, Plansets, TIDF Compliance, Existing Construction Type, Existing Construction Type Description, Proposed Construction Type, Proposed Construction Type Description, Site Permit, Supervisor District, Neighborhoods - Analysis Boundaries, Zipcode, Location, Record ID]\n",
              "Index: []\n",
              "\n",
              "[0 rows x 43 columns]"
            ]
          },
          "execution_count": 27,
          "metadata": {},
          "output_type": "execute_result"
        }
      ],
      "source": [
        "# remove all the rows that contain a missing value\n",
        "permits.dropna()"
      ]
    },
    {
      "cell_type": "markdown",
      "metadata": {
        "_cell_guid": "e0545655-3d37-448b-ae56-2c7707cd805d",
        "_uuid": "33eb849e076d2a4d0c409f58d78b5f303879b1b3",
        "id": "LVMV8TiBYrFd"
      },
      "source": [
        "And we removed all our data! 😱 This is because every row in thr dataset had at least one missing value. We might have better luck removing all the *columns* that have at least one missing value instead."
      ]
    },
    {
      "cell_type": "code",
      "execution_count": null,
      "metadata": {
        "_cell_guid": "97709ad4-f7b8-4cd0-8911-56e14db904ae",
        "_uuid": "87c569672854fe23e1ee9376ef3115ba4712cbf5",
        "tags": [],
        "id": "cnl25gJtYrFe",
        "outputId": "f8e15082-3926-4f98-947e-c44824533c79"
      },
      "outputs": [
        {
          "data": {
            "text/html": [
              "<div>\n",
              "<style scoped>\n",
              "    .dataframe tbody tr th:only-of-type {\n",
              "        vertical-align: middle;\n",
              "    }\n",
              "\n",
              "    .dataframe tbody tr th {\n",
              "        vertical-align: top;\n",
              "    }\n",
              "\n",
              "    .dataframe thead th {\n",
              "        text-align: right;\n",
              "    }\n",
              "</style>\n",
              "<table border=\"1\" class=\"dataframe\">\n",
              "  <thead>\n",
              "    <tr style=\"text-align: right;\">\n",
              "      <th></th>\n",
              "      <th>Permit Number</th>\n",
              "      <th>Permit Type</th>\n",
              "      <th>Permit Type Definition</th>\n",
              "      <th>Permit Creation Date</th>\n",
              "      <th>Block</th>\n",
              "      <th>Lot</th>\n",
              "      <th>Street Number</th>\n",
              "      <th>Street Name</th>\n",
              "      <th>Current Status</th>\n",
              "      <th>Current Status Date</th>\n",
              "      <th>Filed Date</th>\n",
              "      <th>Record ID</th>\n",
              "    </tr>\n",
              "  </thead>\n",
              "  <tbody>\n",
              "    <tr>\n",
              "      <th>0</th>\n",
              "      <td>202101042027</td>\n",
              "      <td>3</td>\n",
              "      <td>additions alterations or repairs</td>\n",
              "      <td>01/04/2021</td>\n",
              "      <td>4160</td>\n",
              "      <td>059</td>\n",
              "      <td>1033</td>\n",
              "      <td>De Haro</td>\n",
              "      <td>filed</td>\n",
              "      <td>01/04/2021</td>\n",
              "      <td>01/04/2021</td>\n",
              "      <td>1607364171658</td>\n",
              "    </tr>\n",
              "    <tr>\n",
              "      <th>1</th>\n",
              "      <td>202101042035</td>\n",
              "      <td>3</td>\n",
              "      <td>additions alterations or repairs</td>\n",
              "      <td>01/04/2021</td>\n",
              "      <td>5991</td>\n",
              "      <td>002</td>\n",
              "      <td>302</td>\n",
              "      <td>University</td>\n",
              "      <td>filed</td>\n",
              "      <td>01/04/2021</td>\n",
              "      <td>01/04/2021</td>\n",
              "      <td>1607371492478</td>\n",
              "    </tr>\n",
              "    <tr>\n",
              "      <th>2</th>\n",
              "      <td>202101042041</td>\n",
              "      <td>3</td>\n",
              "      <td>additions alterations or repairs</td>\n",
              "      <td>01/04/2021</td>\n",
              "      <td>5991</td>\n",
              "      <td>004</td>\n",
              "      <td>308</td>\n",
              "      <td>University</td>\n",
              "      <td>filed</td>\n",
              "      <td>01/04/2021</td>\n",
              "      <td>01/04/2021</td>\n",
              "      <td>1607379492477</td>\n",
              "    </tr>\n",
              "    <tr>\n",
              "      <th>3</th>\n",
              "      <td>202101042033</td>\n",
              "      <td>3</td>\n",
              "      <td>additions alterations or repairs</td>\n",
              "      <td>01/04/2021</td>\n",
              "      <td>5991</td>\n",
              "      <td>001</td>\n",
              "      <td>300</td>\n",
              "      <td>University</td>\n",
              "      <td>filed</td>\n",
              "      <td>01/04/2021</td>\n",
              "      <td>01/04/2021</td>\n",
              "      <td>1607369492475</td>\n",
              "    </tr>\n",
              "    <tr>\n",
              "      <th>4</th>\n",
              "      <td>202101042037</td>\n",
              "      <td>3</td>\n",
              "      <td>additions alterations or repairs</td>\n",
              "      <td>01/04/2021</td>\n",
              "      <td>5991</td>\n",
              "      <td>003</td>\n",
              "      <td>306</td>\n",
              "      <td>University</td>\n",
              "      <td>filed</td>\n",
              "      <td>01/04/2021</td>\n",
              "      <td>01/04/2021</td>\n",
              "      <td>1607375492476</td>\n",
              "    </tr>\n",
              "  </tbody>\n",
              "</table>\n",
              "</div>"
            ],
            "text/plain": [
              "  Permit Number  Permit Type            Permit Type Definition  \\\n",
              "0  202101042027            3  additions alterations or repairs   \n",
              "1  202101042035            3  additions alterations or repairs   \n",
              "2  202101042041            3  additions alterations or repairs   \n",
              "3  202101042033            3  additions alterations or repairs   \n",
              "4  202101042037            3  additions alterations or repairs   \n",
              "\n",
              "  Permit Creation Date Block  Lot  Street Number Street Name Current Status  \\\n",
              "0           01/04/2021  4160  059           1033     De Haro          filed   \n",
              "1           01/04/2021  5991  002            302  University          filed   \n",
              "2           01/04/2021  5991  004            308  University          filed   \n",
              "3           01/04/2021  5991  001            300  University          filed   \n",
              "4           01/04/2021  5991  003            306  University          filed   \n",
              "\n",
              "  Current Status Date  Filed Date      Record ID  \n",
              "0          01/04/2021  01/04/2021  1607364171658  \n",
              "1          01/04/2021  01/04/2021  1607371492478  \n",
              "2          01/04/2021  01/04/2021  1607379492477  \n",
              "3          01/04/2021  01/04/2021  1607369492475  \n",
              "4          01/04/2021  01/04/2021  1607375492476  "
            ]
          },
          "execution_count": 16,
          "metadata": {},
          "output_type": "execute_result"
        }
      ],
      "source": [
        "# remove all columns with at least one missing value\n",
        "columns_with_na_dropped = permits.dropna(axis=1)\n",
        "columns_with_na_dropped.head()"
      ]
    },
    {
      "cell_type": "code",
      "execution_count": null,
      "metadata": {
        "_cell_guid": "0e51b19b-c44d-4487-8417-725d2b911739",
        "_uuid": "e60a092d2799851aa725eadf28b197022a6b127f",
        "tags": [],
        "id": "AVHhp-6nYrFf",
        "outputId": "f1f66f87-9631-4b8e-dfc6-5d1fa656739e"
      },
      "outputs": [
        {
          "name": "stdout",
          "output_type": "stream",
          "text": [
            "Columns in original dataset: 43 \n",
            "\n",
            "Columns with na's dropped: 12\n"
          ]
        }
      ],
      "source": [
        "# just how much data did we lose?\n",
        "print(\"Columns in original dataset: %d \\n\" % permits.shape[1])\n",
        "print(\"Columns with na's dropped: %d\" % columns_with_na_dropped.shape[1])"
      ]
    },
    {
      "cell_type": "markdown",
      "metadata": {
        "_cell_guid": "f417c614-f77f-45eb-b16b-fdc0be936502",
        "_uuid": "bac84fee4ca849e54839c716c43dddfbb559954b",
        "id": "NYELnLy-YrFf"
      },
      "source": [
        "We've lost quite a bit of data, but at this point we have successfully removed all the `NaN`'s from our data. "
      ]
    },
    {
      "cell_type": "markdown",
      "metadata": {
        "_cell_guid": "1dbe153d-7b30-4ad8-80ad-a4c7fb53928e",
        "_uuid": "eb1ef8d47d9ebed77c3d21eca24708708ed4d45f",
        "id": "ehDmW8ffYrFg"
      },
      "source": [
        "## Filling in missing values automatically?\n",
        "_____\n",
        "\n",
        "Another option is to try and fill in the missing values."
      ]
    },
    {
      "cell_type": "markdown",
      "metadata": {
        "id": "Q0XNL4qoYrFg"
      },
      "source": [
        "### `fillna()` Method"
      ]
    },
    {
      "cell_type": "code",
      "execution_count": null,
      "metadata": {
        "_cell_guid": "76fd83fb-a6d9-4c03-8c94-a111ee529881",
        "_uuid": "e0944282c73a63513d5345689ddd6a9da0fc8547",
        "tags": [],
        "id": "fcUJJJhkYrFh",
        "outputId": "9128a27b-d439-4fa3-91b2-dc0ae6e46598"
      },
      "outputs": [
        {
          "data": {
            "text/html": [
              "<div>\n",
              "<style scoped>\n",
              "    .dataframe tbody tr th:only-of-type {\n",
              "        vertical-align: middle;\n",
              "    }\n",
              "\n",
              "    .dataframe tbody tr th {\n",
              "        vertical-align: top;\n",
              "    }\n",
              "\n",
              "    .dataframe thead th {\n",
              "        text-align: right;\n",
              "    }\n",
              "</style>\n",
              "<table border=\"1\" class=\"dataframe\">\n",
              "  <thead>\n",
              "    <tr style=\"text-align: right;\">\n",
              "      <th></th>\n",
              "      <th>Permit Type</th>\n",
              "      <th>Permit Type Definition</th>\n",
              "      <th>Permit Creation Date</th>\n",
              "      <th>Block</th>\n",
              "      <th>Lot</th>\n",
              "      <th>Street Number</th>\n",
              "      <th>Street Number Suffix</th>\n",
              "      <th>Street Name</th>\n",
              "    </tr>\n",
              "  </thead>\n",
              "  <tbody>\n",
              "    <tr>\n",
              "      <th>0</th>\n",
              "      <td>3</td>\n",
              "      <td>additions alterations or repairs</td>\n",
              "      <td>01/04/2021</td>\n",
              "      <td>4160</td>\n",
              "      <td>059</td>\n",
              "      <td>1033</td>\n",
              "      <td>NaN</td>\n",
              "      <td>De Haro</td>\n",
              "    </tr>\n",
              "    <tr>\n",
              "      <th>1</th>\n",
              "      <td>3</td>\n",
              "      <td>additions alterations or repairs</td>\n",
              "      <td>01/04/2021</td>\n",
              "      <td>5991</td>\n",
              "      <td>002</td>\n",
              "      <td>302</td>\n",
              "      <td>NaN</td>\n",
              "      <td>University</td>\n",
              "    </tr>\n",
              "    <tr>\n",
              "      <th>2</th>\n",
              "      <td>3</td>\n",
              "      <td>additions alterations or repairs</td>\n",
              "      <td>01/04/2021</td>\n",
              "      <td>5991</td>\n",
              "      <td>004</td>\n",
              "      <td>308</td>\n",
              "      <td>NaN</td>\n",
              "      <td>University</td>\n",
              "    </tr>\n",
              "    <tr>\n",
              "      <th>3</th>\n",
              "      <td>3</td>\n",
              "      <td>additions alterations or repairs</td>\n",
              "      <td>01/04/2021</td>\n",
              "      <td>5991</td>\n",
              "      <td>001</td>\n",
              "      <td>300</td>\n",
              "      <td>NaN</td>\n",
              "      <td>University</td>\n",
              "    </tr>\n",
              "    <tr>\n",
              "      <th>4</th>\n",
              "      <td>3</td>\n",
              "      <td>additions alterations or repairs</td>\n",
              "      <td>01/04/2021</td>\n",
              "      <td>5991</td>\n",
              "      <td>003</td>\n",
              "      <td>306</td>\n",
              "      <td>NaN</td>\n",
              "      <td>University</td>\n",
              "    </tr>\n",
              "  </tbody>\n",
              "</table>\n",
              "</div>"
            ],
            "text/plain": [
              "   Permit Type            Permit Type Definition Permit Creation Date Block  \\\n",
              "0            3  additions alterations or repairs           01/04/2021  4160   \n",
              "1            3  additions alterations or repairs           01/04/2021  5991   \n",
              "2            3  additions alterations or repairs           01/04/2021  5991   \n",
              "3            3  additions alterations or repairs           01/04/2021  5991   \n",
              "4            3  additions alterations or repairs           01/04/2021  5991   \n",
              "\n",
              "   Lot  Street Number Street Number Suffix Street Name  \n",
              "0  059           1033                  NaN     De Haro  \n",
              "1  002            302                  NaN  University  \n",
              "2  004            308                  NaN  University  \n",
              "3  001            300                  NaN  University  \n",
              "4  003            306                  NaN  University  "
            ]
          },
          "execution_count": 29,
          "metadata": {},
          "output_type": "execute_result"
        }
      ],
      "source": [
        "# get a small subset of the NFL dataset\n",
        "subset_permits = permits.loc[:, 'Permit Type':'Street Name'].head()\n",
        "subset_permits"
      ]
    },
    {
      "cell_type": "markdown",
      "metadata": {
        "_cell_guid": "527c8703-4b29-459d-af7d-5505da36016b",
        "_uuid": "f8cfe916904af3265d8ecc4f791f9f62e34ff458",
        "id": "h89d5gyOYrFi"
      },
      "source": [
        "We can use the Panda's fillna() function to fill in missing values in a dataframe. I would like to replace all the `NaN` values with 0."
      ]
    },
    {
      "cell_type": "code",
      "execution_count": null,
      "metadata": {
        "_cell_guid": "c01ed989-8901-43c8-afa3-6ca36605dfb5",
        "_uuid": "77eac530ce398b8c13eb7886f86bce48fd997f34",
        "tags": [],
        "id": "Iveoq5R9YrFi",
        "outputId": "2f884c77-86d7-4c67-dbe9-5b845b2ab5ff"
      },
      "outputs": [
        {
          "data": {
            "text/html": [
              "<div>\n",
              "<style scoped>\n",
              "    .dataframe tbody tr th:only-of-type {\n",
              "        vertical-align: middle;\n",
              "    }\n",
              "\n",
              "    .dataframe tbody tr th {\n",
              "        vertical-align: top;\n",
              "    }\n",
              "\n",
              "    .dataframe thead th {\n",
              "        text-align: right;\n",
              "    }\n",
              "</style>\n",
              "<table border=\"1\" class=\"dataframe\">\n",
              "  <thead>\n",
              "    <tr style=\"text-align: right;\">\n",
              "      <th></th>\n",
              "      <th>Permit Type</th>\n",
              "      <th>Permit Type Definition</th>\n",
              "      <th>Permit Creation Date</th>\n",
              "      <th>Block</th>\n",
              "      <th>Lot</th>\n",
              "      <th>Street Number</th>\n",
              "      <th>Street Number Suffix</th>\n",
              "      <th>Street Name</th>\n",
              "    </tr>\n",
              "  </thead>\n",
              "  <tbody>\n",
              "    <tr>\n",
              "      <th>0</th>\n",
              "      <td>3</td>\n",
              "      <td>additions alterations or repairs</td>\n",
              "      <td>01/04/2021</td>\n",
              "      <td>4160</td>\n",
              "      <td>059</td>\n",
              "      <td>1033</td>\n",
              "      <td>0</td>\n",
              "      <td>De Haro</td>\n",
              "    </tr>\n",
              "    <tr>\n",
              "      <th>1</th>\n",
              "      <td>3</td>\n",
              "      <td>additions alterations or repairs</td>\n",
              "      <td>01/04/2021</td>\n",
              "      <td>5991</td>\n",
              "      <td>002</td>\n",
              "      <td>302</td>\n",
              "      <td>0</td>\n",
              "      <td>University</td>\n",
              "    </tr>\n",
              "    <tr>\n",
              "      <th>2</th>\n",
              "      <td>3</td>\n",
              "      <td>additions alterations or repairs</td>\n",
              "      <td>01/04/2021</td>\n",
              "      <td>5991</td>\n",
              "      <td>004</td>\n",
              "      <td>308</td>\n",
              "      <td>0</td>\n",
              "      <td>University</td>\n",
              "    </tr>\n",
              "    <tr>\n",
              "      <th>3</th>\n",
              "      <td>3</td>\n",
              "      <td>additions alterations or repairs</td>\n",
              "      <td>01/04/2021</td>\n",
              "      <td>5991</td>\n",
              "      <td>001</td>\n",
              "      <td>300</td>\n",
              "      <td>0</td>\n",
              "      <td>University</td>\n",
              "    </tr>\n",
              "    <tr>\n",
              "      <th>4</th>\n",
              "      <td>3</td>\n",
              "      <td>additions alterations or repairs</td>\n",
              "      <td>01/04/2021</td>\n",
              "      <td>5991</td>\n",
              "      <td>003</td>\n",
              "      <td>306</td>\n",
              "      <td>0</td>\n",
              "      <td>University</td>\n",
              "    </tr>\n",
              "  </tbody>\n",
              "</table>\n",
              "</div>"
            ],
            "text/plain": [
              "   Permit Type            Permit Type Definition Permit Creation Date Block  \\\n",
              "0            3  additions alterations or repairs           01/04/2021  4160   \n",
              "1            3  additions alterations or repairs           01/04/2021  5991   \n",
              "2            3  additions alterations or repairs           01/04/2021  5991   \n",
              "3            3  additions alterations or repairs           01/04/2021  5991   \n",
              "4            3  additions alterations or repairs           01/04/2021  5991   \n",
              "\n",
              "   Lot  Street Number  Street Number Suffix Street Name  \n",
              "0  059           1033                     0     De Haro  \n",
              "1  002            302                     0  University  \n",
              "2  004            308                     0  University  \n",
              "3  001            300                     0  University  \n",
              "4  003            306                     0  University  "
            ]
          },
          "execution_count": 30,
          "metadata": {},
          "output_type": "execute_result"
        }
      ],
      "source": [
        "# replace all NA's with 0\n",
        "subset_permits.fillna(0)"
      ]
    },
    {
      "cell_type": "markdown",
      "metadata": {
        "_cell_guid": "1103b725-c823-4f40-9bda-e97997856339",
        "_uuid": "bec603202c6bfaae7a49b4a4042f37019ad1d801",
        "id": "gak1OUquYrFk"
      },
      "source": [
        "Alternatively, we can replace all the NaN's in the `permits` data with the one that comes directly after it in the same column and then replacing any remaining NaN's with 0"
      ]
    },
    {
      "cell_type": "code",
      "execution_count": null,
      "metadata": {
        "id": "O3RgxM1dYrFl",
        "outputId": "3ee62578-486a-4b50-aa53-7b09f0e69bac"
      },
      "outputs": [
        {
          "name": "stdout",
          "output_type": "stream",
          "text": [
            "     A     B     C\n",
            "0  1.0   6.0  11.0\n",
            "1  2.0   8.0  12.0\n",
            "2  3.0   8.0  13.0\n",
            "3  5.0  10.0  14.0\n",
            "4  5.0  10.0   0.0\n"
          ]
        }
      ],
      "source": [
        "# Create a dataframe with some missing values\n",
        "data = {'A': [1, 2, 3, None, 5],\n",
        "        'B': [6, None, 8, None, 10],\n",
        "        'C': [11, 12, 13, 14, None]}\n",
        "data = pd.DataFrame(data)\n",
        "\n",
        "# Fill missing values in permits with backfilling and 0\n",
        "data = data.fillna(method='bfill', axis=0).fillna(0)\n",
        "print(data)\n"
      ]
    },
    {
      "cell_type": "code",
      "execution_count": null,
      "metadata": {
        "_cell_guid": "90ddac9b-ee20-492e-b437-0519c97ca317",
        "_uuid": "afba99aa7897539e9a0af77dce03daab94d0ca68",
        "tags": [],
        "id": "x_5cEiBYYrFm",
        "outputId": "88c0c2f0-f2d7-43eb-f964-1127b3561404"
      },
      "outputs": [
        {
          "data": {
            "text/html": [
              "<div>\n",
              "<style scoped>\n",
              "    .dataframe tbody tr th:only-of-type {\n",
              "        vertical-align: middle;\n",
              "    }\n",
              "\n",
              "    .dataframe tbody tr th {\n",
              "        vertical-align: top;\n",
              "    }\n",
              "\n",
              "    .dataframe thead th {\n",
              "        text-align: right;\n",
              "    }\n",
              "</style>\n",
              "<table border=\"1\" class=\"dataframe\">\n",
              "  <thead>\n",
              "    <tr style=\"text-align: right;\">\n",
              "      <th></th>\n",
              "      <th>Permit Number</th>\n",
              "      <th>Permit Type</th>\n",
              "      <th>Permit Type Definition</th>\n",
              "      <th>Permit Creation Date</th>\n",
              "      <th>Block</th>\n",
              "      <th>Lot</th>\n",
              "      <th>Street Number</th>\n",
              "      <th>Street Number Suffix</th>\n",
              "      <th>Street Name</th>\n",
              "      <th>Street Suffix</th>\n",
              "      <th>...</th>\n",
              "      <th>Existing Construction Type</th>\n",
              "      <th>Existing Construction Type Description</th>\n",
              "      <th>Proposed Construction Type</th>\n",
              "      <th>Proposed Construction Type Description</th>\n",
              "      <th>Site Permit</th>\n",
              "      <th>Supervisor District</th>\n",
              "      <th>Neighborhoods - Analysis Boundaries</th>\n",
              "      <th>Zipcode</th>\n",
              "      <th>Location</th>\n",
              "      <th>Record ID</th>\n",
              "    </tr>\n",
              "  </thead>\n",
              "  <tbody>\n",
              "    <tr>\n",
              "      <th>0</th>\n",
              "      <td>2.02101E+11</td>\n",
              "      <td>3</td>\n",
              "      <td>additions alterations or repairs</td>\n",
              "      <td>1/4/2021</td>\n",
              "      <td>4160</td>\n",
              "      <td>59</td>\n",
              "      <td>1033</td>\n",
              "      <td>A</td>\n",
              "      <td>De Haro</td>\n",
              "      <td>St</td>\n",
              "      <td>...</td>\n",
              "      <td>5.0</td>\n",
              "      <td>wood frame (5)</td>\n",
              "      <td>5.0</td>\n",
              "      <td>wood frame (5)</td>\n",
              "      <td>Y</td>\n",
              "      <td>10.0</td>\n",
              "      <td>Potrero Hill</td>\n",
              "      <td>94107.0</td>\n",
              "      <td>POINT (-122.40050776741901 37.756664350280005)</td>\n",
              "      <td>1.607360e+12</td>\n",
              "    </tr>\n",
              "    <tr>\n",
              "      <th>1</th>\n",
              "      <td>2.02101E+11</td>\n",
              "      <td>3</td>\n",
              "      <td>additions alterations or repairs</td>\n",
              "      <td>1/4/2021</td>\n",
              "      <td>5991</td>\n",
              "      <td>2</td>\n",
              "      <td>302</td>\n",
              "      <td>A</td>\n",
              "      <td>University</td>\n",
              "      <td>St</td>\n",
              "      <td>...</td>\n",
              "      <td>5.0</td>\n",
              "      <td>wood frame (5)</td>\n",
              "      <td>5.0</td>\n",
              "      <td>wood frame (5)</td>\n",
              "      <td>Y</td>\n",
              "      <td>9.0</td>\n",
              "      <td>Portola</td>\n",
              "      <td>94134.0</td>\n",
              "      <td>POINT (-122.41423325593475 37.72627924781995)</td>\n",
              "      <td>1.607370e+12</td>\n",
              "    </tr>\n",
              "    <tr>\n",
              "      <th>2</th>\n",
              "      <td>2.02101E+11</td>\n",
              "      <td>3</td>\n",
              "      <td>additions alterations or repairs</td>\n",
              "      <td>1/4/2021</td>\n",
              "      <td>5991</td>\n",
              "      <td>4</td>\n",
              "      <td>308</td>\n",
              "      <td>A</td>\n",
              "      <td>University</td>\n",
              "      <td>St</td>\n",
              "      <td>...</td>\n",
              "      <td>5.0</td>\n",
              "      <td>wood frame (5)</td>\n",
              "      <td>5.0</td>\n",
              "      <td>wood frame (5)</td>\n",
              "      <td>Y</td>\n",
              "      <td>9.0</td>\n",
              "      <td>Portola</td>\n",
              "      <td>94134.0</td>\n",
              "      <td>POINT (-122.41417938708821 37.72614876568552)</td>\n",
              "      <td>1.607380e+12</td>\n",
              "    </tr>\n",
              "    <tr>\n",
              "      <th>3</th>\n",
              "      <td>2.02101E+11</td>\n",
              "      <td>3</td>\n",
              "      <td>additions alterations or repairs</td>\n",
              "      <td>1/4/2021</td>\n",
              "      <td>5991</td>\n",
              "      <td>1</td>\n",
              "      <td>300</td>\n",
              "      <td>A</td>\n",
              "      <td>University</td>\n",
              "      <td>St</td>\n",
              "      <td>...</td>\n",
              "      <td>5.0</td>\n",
              "      <td>wood frame (5)</td>\n",
              "      <td>5.0</td>\n",
              "      <td>wood frame (5)</td>\n",
              "      <td>Y</td>\n",
              "      <td>9.0</td>\n",
              "      <td>Portola</td>\n",
              "      <td>94134.0</td>\n",
              "      <td>POINT (-122.41426019000068 37.72634448912051)</td>\n",
              "      <td>1.607370e+12</td>\n",
              "    </tr>\n",
              "    <tr>\n",
              "      <th>4</th>\n",
              "      <td>2.02101E+11</td>\n",
              "      <td>3</td>\n",
              "      <td>additions alterations or repairs</td>\n",
              "      <td>1/4/2021</td>\n",
              "      <td>5991</td>\n",
              "      <td>3</td>\n",
              "      <td>306</td>\n",
              "      <td>A</td>\n",
              "      <td>University</td>\n",
              "      <td>St</td>\n",
              "      <td>...</td>\n",
              "      <td>5.0</td>\n",
              "      <td>wood frame (5)</td>\n",
              "      <td>5.0</td>\n",
              "      <td>wood frame (5)</td>\n",
              "      <td>Y</td>\n",
              "      <td>9.0</td>\n",
              "      <td>Portola</td>\n",
              "      <td>94134.0</td>\n",
              "      <td>POINT (-122.41420632397862 37.72621400653094)</td>\n",
              "      <td>1.607380e+12</td>\n",
              "    </tr>\n",
              "    <tr>\n",
              "      <th>...</th>\n",
              "      <td>...</td>\n",
              "      <td>...</td>\n",
              "      <td>...</td>\n",
              "      <td>...</td>\n",
              "      <td>...</td>\n",
              "      <td>...</td>\n",
              "      <td>...</td>\n",
              "      <td>...</td>\n",
              "      <td>...</td>\n",
              "      <td>...</td>\n",
              "      <td>...</td>\n",
              "      <td>...</td>\n",
              "      <td>...</td>\n",
              "      <td>...</td>\n",
              "      <td>...</td>\n",
              "      <td>...</td>\n",
              "      <td>...</td>\n",
              "      <td>...</td>\n",
              "      <td>...</td>\n",
              "      <td>...</td>\n",
              "      <td>...</td>\n",
              "    </tr>\n",
              "    <tr>\n",
              "      <th>53435</th>\n",
              "      <td>2.02302E+11</td>\n",
              "      <td>8</td>\n",
              "      <td>otc alterations permit</td>\n",
              "      <td>2/24/2023</td>\n",
              "      <td>3516</td>\n",
              "      <td>3</td>\n",
              "      <td>216</td>\n",
              "      <td>0</td>\n",
              "      <td>11th</td>\n",
              "      <td>St</td>\n",
              "      <td>...</td>\n",
              "      <td>3.0</td>\n",
              "      <td>constr type 3</td>\n",
              "      <td>3.0</td>\n",
              "      <td>constr type 3</td>\n",
              "      <td>0</td>\n",
              "      <td>6.0</td>\n",
              "      <td>Mission</td>\n",
              "      <td>94103.0</td>\n",
              "      <td>POINT (-122.41548520282338 37.77268635931323)</td>\n",
              "      <td>1.662800e+12</td>\n",
              "    </tr>\n",
              "    <tr>\n",
              "      <th>53436</th>\n",
              "      <td>2.02302E+11</td>\n",
              "      <td>8</td>\n",
              "      <td>otc alterations permit</td>\n",
              "      <td>2/24/2023</td>\n",
              "      <td>259</td>\n",
              "      <td>26</td>\n",
              "      <td>555</td>\n",
              "      <td>0</td>\n",
              "      <td>California</td>\n",
              "      <td>St</td>\n",
              "      <td>...</td>\n",
              "      <td>1.0</td>\n",
              "      <td>constr type 1</td>\n",
              "      <td>1.0</td>\n",
              "      <td>constr type 1</td>\n",
              "      <td>0</td>\n",
              "      <td>3.0</td>\n",
              "      <td>Financial District/South Beach</td>\n",
              "      <td>94104.0</td>\n",
              "      <td>POINT (-122.4034859548936 37.79226164705224)</td>\n",
              "      <td>1.662750e+12</td>\n",
              "    </tr>\n",
              "    <tr>\n",
              "      <th>53437</th>\n",
              "      <td>2.02302E+11</td>\n",
              "      <td>8</td>\n",
              "      <td>otc alterations permit</td>\n",
              "      <td>2/24/2023</td>\n",
              "      <td>3508</td>\n",
              "      <td>39</td>\n",
              "      <td>875</td>\n",
              "      <td>0</td>\n",
              "      <td>Stevenson</td>\n",
              "      <td>St</td>\n",
              "      <td>...</td>\n",
              "      <td>1.0</td>\n",
              "      <td>constr type 1</td>\n",
              "      <td>1.0</td>\n",
              "      <td>constr type 1</td>\n",
              "      <td>0</td>\n",
              "      <td>6.0</td>\n",
              "      <td>South of Market</td>\n",
              "      <td>94122.0</td>\n",
              "      <td>POINT (-122.4162428787466 37.776293204565604)</td>\n",
              "      <td>1.662750e+12</td>\n",
              "    </tr>\n",
              "    <tr>\n",
              "      <th>53438</th>\n",
              "      <td>2.02302E+11</td>\n",
              "      <td>8</td>\n",
              "      <td>otc alterations permit</td>\n",
              "      <td>2/24/2023</td>\n",
              "      <td>115</td>\n",
              "      <td>52</td>\n",
              "      <td>421</td>\n",
              "      <td>0</td>\n",
              "      <td>Union</td>\n",
              "      <td>St</td>\n",
              "      <td>...</td>\n",
              "      <td>5.0</td>\n",
              "      <td>wood frame (5)</td>\n",
              "      <td>5.0</td>\n",
              "      <td>wood frame (5)</td>\n",
              "      <td>0</td>\n",
              "      <td>3.0</td>\n",
              "      <td>North Beach</td>\n",
              "      <td>94122.0</td>\n",
              "      <td>POINT (-122.40629941002422 37.800596743383394)</td>\n",
              "      <td>1.662820e+12</td>\n",
              "    </tr>\n",
              "    <tr>\n",
              "      <th>53439</th>\n",
              "      <td>2.02302E+11</td>\n",
              "      <td>8</td>\n",
              "      <td>otc alterations permit</td>\n",
              "      <td>2/24/2023</td>\n",
              "      <td>1726</td>\n",
              "      <td>22</td>\n",
              "      <td>2360</td>\n",
              "      <td>0</td>\n",
              "      <td>Irving</td>\n",
              "      <td>St</td>\n",
              "      <td>...</td>\n",
              "      <td>5.0</td>\n",
              "      <td>wood frame (5)</td>\n",
              "      <td>5.0</td>\n",
              "      <td>wood frame (5)</td>\n",
              "      <td>0</td>\n",
              "      <td>4.0</td>\n",
              "      <td>Sunset/Parkside</td>\n",
              "      <td>94122.0</td>\n",
              "      <td>POINT (-122.48326417513377 37.763538928175706)</td>\n",
              "      <td>1.662750e+12</td>\n",
              "    </tr>\n",
              "  </tbody>\n",
              "</table>\n",
              "<p>53440 rows × 43 columns</p>\n",
              "</div>"
            ],
            "text/plain": [
              "      Permit Number  Permit Type            Permit Type Definition  \\\n",
              "0       2.02101E+11            3  additions alterations or repairs   \n",
              "1       2.02101E+11            3  additions alterations or repairs   \n",
              "2       2.02101E+11            3  additions alterations or repairs   \n",
              "3       2.02101E+11            3  additions alterations or repairs   \n",
              "4       2.02101E+11            3  additions alterations or repairs   \n",
              "...             ...          ...                               ...   \n",
              "53435   2.02302E+11            8            otc alterations permit   \n",
              "53436   2.02302E+11            8            otc alterations permit   \n",
              "53437   2.02302E+11            8            otc alterations permit   \n",
              "53438   2.02302E+11            8            otc alterations permit   \n",
              "53439   2.02302E+11            8            otc alterations permit   \n",
              "\n",
              "      Permit Creation Date Block Lot  Street Number Street Number Suffix  \\\n",
              "0                 1/4/2021  4160  59           1033                    A   \n",
              "1                 1/4/2021  5991   2            302                    A   \n",
              "2                 1/4/2021  5991   4            308                    A   \n",
              "3                 1/4/2021  5991   1            300                    A   \n",
              "4                 1/4/2021  5991   3            306                    A   \n",
              "...                    ...   ...  ..            ...                  ...   \n",
              "53435            2/24/2023  3516   3            216                    0   \n",
              "53436            2/24/2023   259  26            555                    0   \n",
              "53437            2/24/2023  3508  39            875                    0   \n",
              "53438            2/24/2023   115  52            421                    0   \n",
              "53439            2/24/2023  1726  22           2360                    0   \n",
              "\n",
              "      Street Name Street Suffix  ...  Existing Construction Type  \\\n",
              "0         De Haro            St  ...                         5.0   \n",
              "1      University            St  ...                         5.0   \n",
              "2      University            St  ...                         5.0   \n",
              "3      University            St  ...                         5.0   \n",
              "4      University            St  ...                         5.0   \n",
              "...           ...           ...  ...                         ...   \n",
              "53435        11th            St  ...                         3.0   \n",
              "53436  California            St  ...                         1.0   \n",
              "53437   Stevenson            St  ...                         1.0   \n",
              "53438       Union            St  ...                         5.0   \n",
              "53439      Irving            St  ...                         5.0   \n",
              "\n",
              "      Existing Construction Type Description Proposed Construction Type  \\\n",
              "0                             wood frame (5)                        5.0   \n",
              "1                             wood frame (5)                        5.0   \n",
              "2                             wood frame (5)                        5.0   \n",
              "3                             wood frame (5)                        5.0   \n",
              "4                             wood frame (5)                        5.0   \n",
              "...                                      ...                        ...   \n",
              "53435                          constr type 3                        3.0   \n",
              "53436                          constr type 1                        1.0   \n",
              "53437                          constr type 1                        1.0   \n",
              "53438                         wood frame (5)                        5.0   \n",
              "53439                         wood frame (5)                        5.0   \n",
              "\n",
              "      Proposed Construction Type Description Site Permit Supervisor District  \\\n",
              "0                             wood frame (5)           Y                10.0   \n",
              "1                             wood frame (5)           Y                 9.0   \n",
              "2                             wood frame (5)           Y                 9.0   \n",
              "3                             wood frame (5)           Y                 9.0   \n",
              "4                             wood frame (5)           Y                 9.0   \n",
              "...                                      ...         ...                 ...   \n",
              "53435                          constr type 3           0                 6.0   \n",
              "53436                          constr type 1           0                 3.0   \n",
              "53437                          constr type 1           0                 6.0   \n",
              "53438                         wood frame (5)           0                 3.0   \n",
              "53439                         wood frame (5)           0                 4.0   \n",
              "\n",
              "      Neighborhoods - Analysis Boundaries  Zipcode  \\\n",
              "0                            Potrero Hill  94107.0   \n",
              "1                                 Portola  94134.0   \n",
              "2                                 Portola  94134.0   \n",
              "3                                 Portola  94134.0   \n",
              "4                                 Portola  94134.0   \n",
              "...                                   ...      ...   \n",
              "53435                             Mission  94103.0   \n",
              "53436      Financial District/South Beach  94104.0   \n",
              "53437                     South of Market  94122.0   \n",
              "53438                         North Beach  94122.0   \n",
              "53439                     Sunset/Parkside  94122.0   \n",
              "\n",
              "                                             Location     Record ID  \n",
              "0      POINT (-122.40050776741901 37.756664350280005)  1.607360e+12  \n",
              "1       POINT (-122.41423325593475 37.72627924781995)  1.607370e+12  \n",
              "2       POINT (-122.41417938708821 37.72614876568552)  1.607380e+12  \n",
              "3       POINT (-122.41426019000068 37.72634448912051)  1.607370e+12  \n",
              "4       POINT (-122.41420632397862 37.72621400653094)  1.607380e+12  \n",
              "...                                               ...           ...  \n",
              "53435   POINT (-122.41548520282338 37.77268635931323)  1.662800e+12  \n",
              "53436    POINT (-122.4034859548936 37.79226164705224)  1.662750e+12  \n",
              "53437   POINT (-122.4162428787466 37.776293204565604)  1.662750e+12  \n",
              "53438  POINT (-122.40629941002422 37.800596743383394)  1.662820e+12  \n",
              "53439  POINT (-122.48326417513377 37.763538928175706)  1.662750e+12  \n",
              "\n",
              "[53440 rows x 43 columns]"
            ]
          },
          "execution_count": 5,
          "metadata": {},
          "output_type": "execute_result"
        }
      ],
      "source": [
        "# replace all NA's the value that comes directly after it in the same column, \n",
        "# then replace all the reamining na's with 0\n",
        "permits.fillna(method = 'bfill', axis=0).fillna(0)"
      ]
    },
    {
      "cell_type": "markdown",
      "metadata": {
        "id": "n7Y43oLYYrFn"
      },
      "source": [
        "### Imputation"
      ]
    },
    {
      "cell_type": "markdown",
      "metadata": {
        "id": "hjeVdElVYrFn"
      },
      "source": [
        "Imputation is a technique used to handle missing data in a dataset by replacing missing values with estimated values. There are several methods of imputation, including mean imputation, median imputation, and mode imputation, among others. "
      ]
    },
    {
      "cell_type": "code",
      "execution_count": null,
      "metadata": {
        "id": "r0XxN5TeYrFo"
      },
      "outputs": [],
      "source": [
        "# Create an imputer object with mean strategy\n",
        "imputer = SimpleImputer(strategy='mean')\n",
        "\n",
        "# Fit the imputer to the \"estimated cost\" column\n",
        "imputer.fit(permits[['Estimated Cost']])\n",
        "\n",
        "# Transform the missing values in the \"estimated cost\" column\n",
        "permits['Estimated Cost'] = imputer.transform(permits[['Estimated Cost']])"
      ]
    },
    {
      "cell_type": "code",
      "execution_count": null,
      "metadata": {
        "id": "7BJgHlykYrFo",
        "outputId": "8d4d8ef7-35dc-46ab-b137-577a693d790b"
      },
      "outputs": [
        {
          "name": "stdout",
          "output_type": "stream",
          "text": [
            "0\n"
          ]
        }
      ],
      "source": [
        "# Check for missing data in the column\n",
        "print(permits['Estimated Cost'].isnull().sum())"
      ]
    },
    {
      "cell_type": "markdown",
      "metadata": {
        "id": "yz7Nb3OaYrFp"
      },
      "source": [
        "### Zipcode"
      ]
    },
    {
      "cell_type": "code",
      "execution_count": null,
      "metadata": {
        "id": "GXs-tmevYrFp",
        "outputId": "474ca8cc-6631-435f-d6f0-333e3c363031"
      },
      "outputs": [
        {
          "name": "stdout",
          "output_type": "stream",
          "text": [
            "391\n"
          ]
        }
      ],
      "source": [
        "print(permits['Location'].isnull().sum())"
      ]
    },
    {
      "cell_type": "code",
      "execution_count": null,
      "metadata": {
        "id": "O8I4N2ahYrFq",
        "outputId": "bdac6c44-a052-48a3-c932-f39d63ccd25c"
      },
      "outputs": [
        {
          "name": "stdout",
          "output_type": "stream",
          "text": [
            "608\n"
          ]
        }
      ],
      "source": [
        "print(permits['Zipcode'].isnull().sum())"
      ]
    },
    {
      "cell_type": "code",
      "execution_count": null,
      "metadata": {
        "id": "vN8JDwzQYrFq"
      },
      "outputs": [],
      "source": [
        "# Fill missing values in location column with default value\n",
        "default_location = 'POINT(-122.431297 37.773972)'\n",
        "permits['Location'] = permits['Location'].fillna(default_location)"
      ]
    },
    {
      "cell_type": "code",
      "execution_count": null,
      "metadata": {
        "id": "qSE9MX11YrFr",
        "outputId": "3d00fa07-5dd1-4c37-ccc8-31d9969c0157"
      },
      "outputs": [
        {
          "name": "stdout",
          "output_type": "stream",
          "text": [
            "0\n"
          ]
        }
      ],
      "source": [
        "print(permits['Location'].isnull().sum())"
      ]
    },
    {
      "cell_type": "code",
      "execution_count": null,
      "metadata": {
        "id": "OhXyYzwXYrFs"
      },
      "outputs": [],
      "source": [
        "# Convert the Location column to separate columns for latitude and longitude\n",
        "permits[['Longitude', 'Latitude']] = permits['Location'].str.replace('POINT\\(', '').str.replace('\\)', '').str.replace('\\(', '').str.split(expand=True)\n",
        "permits['Longitude'] = permits['Longitude'].astype(float)\n",
        "permits['Latitude'] = permits['Latitude'].astype(float)"
      ]
    },
    {
      "cell_type": "code",
      "execution_count": null,
      "metadata": {
        "id": "HpCCuU6gYrFs",
        "outputId": "45a8c732-fe90-43eb-d874-8053aba23b9c"
      },
      "outputs": [
        {
          "name": "stdout",
          "output_type": "stream",
          "text": [
            "                                   Location            Longitude  \\\n",
            "0   (-122.40050776741901 37.756664350280005  -122.40050776741901   \n",
            "1    (-122.41423325593475 37.72627924781995  -122.41423325593475   \n",
            "2    (-122.41417938708821 37.72614876568552  -122.41417938708821   \n",
            "3    (-122.41426019000068 37.72634448912051  -122.41426019000068   \n",
            "4    (-122.41420632397862 37.72621400653094  -122.41420632397862   \n",
            "\n",
            "             Latitude  \n",
            "0  37.756664350280005  \n",
            "1   37.72627924781995  \n",
            "2   37.72614876568552  \n",
            "3   37.72634448912051  \n",
            "4   37.72621400653094  \n"
          ]
        }
      ],
      "source": [
        "permits_subset = permits[['Location', 'Longitude', 'Latitude']]\n",
        "print(permits_subset.head())"
      ]
    },
    {
      "cell_type": "code",
      "execution_count": null,
      "metadata": {
        "id": "-tk-3j0wYrFt"
      },
      "outputs": [],
      "source": [
        "# Drop the original location column\n",
        "permits.drop('Location', axis=1, inplace=True)"
      ]
    },
    {
      "cell_type": "code",
      "execution_count": null,
      "metadata": {
        "id": "FJtdNTVsYrFt"
      },
      "outputs": [],
      "source": [
        "permits['Longitude'] = permits['Longitude'].astype(float)\n",
        "permits['Latitude'] = permits['Latitude'].astype(float)"
      ]
    },
    {
      "cell_type": "code",
      "execution_count": null,
      "metadata": {
        "id": "so6SCEoZYrFu",
        "outputId": "e6121315-962a-47ce-b0b5-3a4573f05fcd"
      },
      "outputs": [
        {
          "name": "stdout",
          "output_type": "stream",
          "text": [
            "Requirement already satisfied: geopy in c:\\users\\dongy\\anaconda3\\lib\\site-packages (2.3.0)\n",
            "Requirement already satisfied: geographiclib<3,>=1.52 in c:\\users\\dongy\\anaconda3\\lib\\site-packages (from geopy) (2.0)\n"
          ]
        },
        {
          "name": "stderr",
          "output_type": "stream",
          "text": [
            "WARNING: Ignoring invalid distribution -atplotlib (c:\\users\\dongy\\anaconda3\\lib\\site-packages)\n",
            "WARNING: Ignoring invalid distribution -atplotlib (c:\\users\\dongy\\anaconda3\\lib\\site-packages)\n",
            "WARNING: Ignoring invalid distribution -atplotlib (c:\\users\\dongy\\anaconda3\\lib\\site-packages)\n",
            "WARNING: Error parsing requirements for beautifulsoup4: [Errno 2] No such file or directory: 'c:\\\\users\\\\dongy\\\\anaconda3\\\\lib\\\\site-packages\\\\beautifulsoup4-4.11.2.dist-info\\\\METADATA'\n",
            "WARNING: Ignoring invalid distribution -atplotlib (c:\\users\\dongy\\anaconda3\\lib\\site-packages)\n",
            "WARNING: Ignoring invalid distribution -atplotlib (c:\\users\\dongy\\anaconda3\\lib\\site-packages)\n",
            "WARNING: Ignoring invalid distribution -atplotlib (c:\\users\\dongy\\anaconda3\\lib\\site-packages)\n"
          ]
        }
      ],
      "source": [
        "!pip install geopy"
      ]
    },
    {
      "cell_type": "code",
      "execution_count": null,
      "metadata": {
        "id": "xLqnkgEWYrFu"
      },
      "outputs": [],
      "source": [
        "from geopy.geocoders import Nominatim\n",
        "\n",
        "# Create a geocoder object\n",
        "geolocator = Nominatim(user_agent='my-app')\n",
        "\n",
        "# Define a function to get the zip code from latitude and longitude\n",
        "def get_zipcode(latitude, longitude):\n",
        "    location = geolocator.reverse((latitude, longitude), exactly_one=True)\n",
        "    address = location.raw['address']\n",
        "    zipcode = address.get('postcode', '')\n",
        "    return zipcode\n",
        "\n",
        "# Fill in missing zip codes\n",
        "for index, row in permits.iterrows():\n",
        "    if pd.isna(row['Zipcode']):\n",
        "        zipcode = get_zipcode(row['Latitude'], row['Longitude'])\n",
        "        permits.at[index, 'Zipcode'] = zipcode\n"
      ]
    },
    {
      "cell_type": "markdown",
      "metadata": {
        "id": "bwPSlv_pYrFv"
      },
      "source": [
        "we use the Nominatim geocoder from the geopy library to perform reverse geocoding. We define a function get_zipcode that takes latitude and longitude as inputs, calls the reverse method of the geolocator object to obtain a location object, extracts the zip code from the address dictionary of the location, and returns the zip code as a string.\n",
        "\n",
        "We then iterate over each row of the permits DataFrame using the iterrows method, and for each row with a missing Zipcode value, we call the get_zipcode function with the Latitude and Longitude values of the row, and update the Zipcode value of the row with the returned zip code using the at method of the DataFrame.\n",
        "\n",
        ">**Note** that using a reverse geocoding service may have limitations on the number of requests you can make per day or per IP address, and may also be subject to rate limiting or usage fees. It is important to check the terms of service of the service you are using and comply with any usage limits or guidelines."
      ]
    },
    {
      "cell_type": "code",
      "execution_count": null,
      "metadata": {
        "id": "-tjLsMedYrFw",
        "outputId": "16a30bd4-b738-40f1-d035-262b70899ca0"
      },
      "outputs": [
        {
          "name": "stdout",
          "output_type": "stream",
          "text": [
            "0\n"
          ]
        }
      ],
      "source": [
        "print(permits['Zipcode'].isnull().sum())"
      ]
    },
    {
      "cell_type": "markdown",
      "metadata": {
        "_cell_guid": "b4f37fce-4d08-409e-bbbd-6a26c3bbc6ee",
        "_uuid": "52b0af56e3c77db96056e9acd785f8f435f7caf5",
        "id": "H8zzr9Y5YrFx"
      },
      "source": [
        "## Export the cleaned dataset to a CSV file\n",
        "___"
      ]
    },
    {
      "cell_type": "code",
      "execution_count": null,
      "metadata": {
        "id": "-jtN-AxgYrFy"
      },
      "outputs": [],
      "source": [
        "# Save the updated dataframe\n",
        "permits.to_csv('permits_updated.csv', index=False)"
      ]
    },
    {
      "cell_type": "code",
      "execution_count": null,
      "metadata": {
        "id": "qQyXYwCXYrFy"
      },
      "outputs": [],
      "source": []
    }
  ],
  "metadata": {
    "kernelspec": {
      "display_name": "Python 3 (ipykernel)",
      "language": "python",
      "name": "python3"
    },
    "language_info": {
      "codemirror_mode": {
        "name": "ipython",
        "version": 3
      },
      "file_extension": ".py",
      "mimetype": "text/x-python",
      "name": "python",
      "nbconvert_exporter": "python",
      "pygments_lexer": "ipython3",
      "version": "3.8.16"
    },
    "colab": {
      "provenance": [],
      "include_colab_link": true
    }
  },
  "nbformat": 4,
  "nbformat_minor": 0
}